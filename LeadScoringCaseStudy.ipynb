{
 "cells": [
  {
   "cell_type": "code",
   "execution_count": 2657,
   "id": "146574cb-cc07-4859-a2f4-afb60cb1a604",
   "metadata": {},
   "outputs": [],
   "source": [
    "# Suppressing Warnings\n",
    "import warnings\n",
    "warnings.filterwarnings('ignore')\n",
    "# importing Pandas and Numpy\n",
    "import pandas as pd\n",
    "import numpy as np\n",
    "import matplotlib.pyplot as plt\n",
    "import seaborn as sns\n"
   ]
  },
  {
   "cell_type": "code",
   "execution_count": 2658,
   "id": "ed8a6c1c-8e45-42c2-bf2e-6f98132d2d48",
   "metadata": {},
   "outputs": [],
   "source": [
    "# Importing data set\n",
    "df = pd.read_csv(r\"C:\\Users\\krish\\OneDrive\\Desktop\\UpGrad\\Course 2 Machine Learning 1\\Lead Scoring Case Study\\Leads.csv\")"
   ]
  },
  {
   "cell_type": "code",
   "execution_count": 2659,
   "id": "594f2a99-4eb2-4aea-beca-158539984362",
   "metadata": {},
   "outputs": [
    {
     "data": {
      "text/html": [
       "<div>\n",
       "<style scoped>\n",
       "    .dataframe tbody tr th:only-of-type {\n",
       "        vertical-align: middle;\n",
       "    }\n",
       "\n",
       "    .dataframe tbody tr th {\n",
       "        vertical-align: top;\n",
       "    }\n",
       "\n",
       "    .dataframe thead th {\n",
       "        text-align: right;\n",
       "    }\n",
       "</style>\n",
       "<table border=\"1\" class=\"dataframe\">\n",
       "  <thead>\n",
       "    <tr style=\"text-align: right;\">\n",
       "      <th></th>\n",
       "      <th>Prospect ID</th>\n",
       "      <th>Lead Number</th>\n",
       "      <th>Lead Origin</th>\n",
       "      <th>Lead Source</th>\n",
       "      <th>Do Not Email</th>\n",
       "      <th>Do Not Call</th>\n",
       "      <th>Converted</th>\n",
       "      <th>TotalVisits</th>\n",
       "      <th>Total Time Spent on Website</th>\n",
       "      <th>Page Views Per Visit</th>\n",
       "      <th>...</th>\n",
       "      <th>Get updates on DM Content</th>\n",
       "      <th>Lead Profile</th>\n",
       "      <th>City</th>\n",
       "      <th>Asymmetrique Activity Index</th>\n",
       "      <th>Asymmetrique Profile Index</th>\n",
       "      <th>Asymmetrique Activity Score</th>\n",
       "      <th>Asymmetrique Profile Score</th>\n",
       "      <th>I agree to pay the amount through cheque</th>\n",
       "      <th>A free copy of Mastering The Interview</th>\n",
       "      <th>Last Notable Activity</th>\n",
       "    </tr>\n",
       "  </thead>\n",
       "  <tbody>\n",
       "    <tr>\n",
       "      <th>0</th>\n",
       "      <td>7927b2df-8bba-4d29-b9a2-b6e0beafe620</td>\n",
       "      <td>660737</td>\n",
       "      <td>API</td>\n",
       "      <td>Olark Chat</td>\n",
       "      <td>No</td>\n",
       "      <td>No</td>\n",
       "      <td>0</td>\n",
       "      <td>0.0</td>\n",
       "      <td>0</td>\n",
       "      <td>0.0</td>\n",
       "      <td>...</td>\n",
       "      <td>No</td>\n",
       "      <td>Select</td>\n",
       "      <td>Select</td>\n",
       "      <td>02.Medium</td>\n",
       "      <td>02.Medium</td>\n",
       "      <td>15.0</td>\n",
       "      <td>15.0</td>\n",
       "      <td>No</td>\n",
       "      <td>No</td>\n",
       "      <td>Modified</td>\n",
       "    </tr>\n",
       "    <tr>\n",
       "      <th>1</th>\n",
       "      <td>2a272436-5132-4136-86fa-dcc88c88f482</td>\n",
       "      <td>660728</td>\n",
       "      <td>API</td>\n",
       "      <td>Organic Search</td>\n",
       "      <td>No</td>\n",
       "      <td>No</td>\n",
       "      <td>0</td>\n",
       "      <td>5.0</td>\n",
       "      <td>674</td>\n",
       "      <td>2.5</td>\n",
       "      <td>...</td>\n",
       "      <td>No</td>\n",
       "      <td>Select</td>\n",
       "      <td>Select</td>\n",
       "      <td>02.Medium</td>\n",
       "      <td>02.Medium</td>\n",
       "      <td>15.0</td>\n",
       "      <td>15.0</td>\n",
       "      <td>No</td>\n",
       "      <td>No</td>\n",
       "      <td>Email Opened</td>\n",
       "    </tr>\n",
       "    <tr>\n",
       "      <th>2</th>\n",
       "      <td>8cc8c611-a219-4f35-ad23-fdfd2656bd8a</td>\n",
       "      <td>660727</td>\n",
       "      <td>Landing Page Submission</td>\n",
       "      <td>Direct Traffic</td>\n",
       "      <td>No</td>\n",
       "      <td>No</td>\n",
       "      <td>1</td>\n",
       "      <td>2.0</td>\n",
       "      <td>1532</td>\n",
       "      <td>2.0</td>\n",
       "      <td>...</td>\n",
       "      <td>No</td>\n",
       "      <td>Potential Lead</td>\n",
       "      <td>Mumbai</td>\n",
       "      <td>02.Medium</td>\n",
       "      <td>01.High</td>\n",
       "      <td>14.0</td>\n",
       "      <td>20.0</td>\n",
       "      <td>No</td>\n",
       "      <td>Yes</td>\n",
       "      <td>Email Opened</td>\n",
       "    </tr>\n",
       "    <tr>\n",
       "      <th>3</th>\n",
       "      <td>0cc2df48-7cf4-4e39-9de9-19797f9b38cc</td>\n",
       "      <td>660719</td>\n",
       "      <td>Landing Page Submission</td>\n",
       "      <td>Direct Traffic</td>\n",
       "      <td>No</td>\n",
       "      <td>No</td>\n",
       "      <td>0</td>\n",
       "      <td>1.0</td>\n",
       "      <td>305</td>\n",
       "      <td>1.0</td>\n",
       "      <td>...</td>\n",
       "      <td>No</td>\n",
       "      <td>Select</td>\n",
       "      <td>Mumbai</td>\n",
       "      <td>02.Medium</td>\n",
       "      <td>01.High</td>\n",
       "      <td>13.0</td>\n",
       "      <td>17.0</td>\n",
       "      <td>No</td>\n",
       "      <td>No</td>\n",
       "      <td>Modified</td>\n",
       "    </tr>\n",
       "    <tr>\n",
       "      <th>4</th>\n",
       "      <td>3256f628-e534-4826-9d63-4a8b88782852</td>\n",
       "      <td>660681</td>\n",
       "      <td>Landing Page Submission</td>\n",
       "      <td>Google</td>\n",
       "      <td>No</td>\n",
       "      <td>No</td>\n",
       "      <td>1</td>\n",
       "      <td>2.0</td>\n",
       "      <td>1428</td>\n",
       "      <td>1.0</td>\n",
       "      <td>...</td>\n",
       "      <td>No</td>\n",
       "      <td>Select</td>\n",
       "      <td>Mumbai</td>\n",
       "      <td>02.Medium</td>\n",
       "      <td>01.High</td>\n",
       "      <td>15.0</td>\n",
       "      <td>18.0</td>\n",
       "      <td>No</td>\n",
       "      <td>No</td>\n",
       "      <td>Modified</td>\n",
       "    </tr>\n",
       "  </tbody>\n",
       "</table>\n",
       "<p>5 rows × 37 columns</p>\n",
       "</div>"
      ],
      "text/plain": [
       "                            Prospect ID  Lead Number              Lead Origin  \\\n",
       "0  7927b2df-8bba-4d29-b9a2-b6e0beafe620       660737                      API   \n",
       "1  2a272436-5132-4136-86fa-dcc88c88f482       660728                      API   \n",
       "2  8cc8c611-a219-4f35-ad23-fdfd2656bd8a       660727  Landing Page Submission   \n",
       "3  0cc2df48-7cf4-4e39-9de9-19797f9b38cc       660719  Landing Page Submission   \n",
       "4  3256f628-e534-4826-9d63-4a8b88782852       660681  Landing Page Submission   \n",
       "\n",
       "      Lead Source Do Not Email Do Not Call  Converted  TotalVisits  \\\n",
       "0      Olark Chat           No          No          0          0.0   \n",
       "1  Organic Search           No          No          0          5.0   \n",
       "2  Direct Traffic           No          No          1          2.0   \n",
       "3  Direct Traffic           No          No          0          1.0   \n",
       "4          Google           No          No          1          2.0   \n",
       "\n",
       "   Total Time Spent on Website  Page Views Per Visit  ...  \\\n",
       "0                            0                   0.0  ...   \n",
       "1                          674                   2.5  ...   \n",
       "2                         1532                   2.0  ...   \n",
       "3                          305                   1.0  ...   \n",
       "4                         1428                   1.0  ...   \n",
       "\n",
       "  Get updates on DM Content    Lead Profile    City  \\\n",
       "0                        No          Select  Select   \n",
       "1                        No          Select  Select   \n",
       "2                        No  Potential Lead  Mumbai   \n",
       "3                        No          Select  Mumbai   \n",
       "4                        No          Select  Mumbai   \n",
       "\n",
       "  Asymmetrique Activity Index Asymmetrique Profile Index  \\\n",
       "0                   02.Medium                  02.Medium   \n",
       "1                   02.Medium                  02.Medium   \n",
       "2                   02.Medium                    01.High   \n",
       "3                   02.Medium                    01.High   \n",
       "4                   02.Medium                    01.High   \n",
       "\n",
       "  Asymmetrique Activity Score Asymmetrique Profile Score  \\\n",
       "0                        15.0                       15.0   \n",
       "1                        15.0                       15.0   \n",
       "2                        14.0                       20.0   \n",
       "3                        13.0                       17.0   \n",
       "4                        15.0                       18.0   \n",
       "\n",
       "  I agree to pay the amount through cheque  \\\n",
       "0                                       No   \n",
       "1                                       No   \n",
       "2                                       No   \n",
       "3                                       No   \n",
       "4                                       No   \n",
       "\n",
       "  A free copy of Mastering The Interview Last Notable Activity  \n",
       "0                                     No              Modified  \n",
       "1                                     No          Email Opened  \n",
       "2                                    Yes          Email Opened  \n",
       "3                                     No              Modified  \n",
       "4                                     No              Modified  \n",
       "\n",
       "[5 rows x 37 columns]"
      ]
     },
     "execution_count": 2659,
     "metadata": {},
     "output_type": "execute_result"
    }
   ],
   "source": [
    "df.head()"
   ]
  },
  {
   "cell_type": "code",
   "execution_count": 2660,
   "id": "42d6a39b-46ae-4283-912e-3b281211e07c",
   "metadata": {},
   "outputs": [
    {
     "data": {
      "text/plain": [
       "(9240, 37)"
      ]
     },
     "execution_count": 2660,
     "metadata": {},
     "output_type": "execute_result"
    }
   ],
   "source": [
    "df.shape"
   ]
  },
  {
   "cell_type": "code",
   "execution_count": 2661,
   "id": "e5ab1870-32fa-43fb-aa68-5f83bdd48a88",
   "metadata": {},
   "outputs": [
    {
     "name": "stdout",
     "output_type": "stream",
     "text": [
      "<class 'pandas.core.frame.DataFrame'>\n",
      "RangeIndex: 9240 entries, 0 to 9239\n",
      "Data columns (total 37 columns):\n",
      " #   Column                                         Non-Null Count  Dtype  \n",
      "---  ------                                         --------------  -----  \n",
      " 0   Prospect ID                                    9240 non-null   object \n",
      " 1   Lead Number                                    9240 non-null   int64  \n",
      " 2   Lead Origin                                    9240 non-null   object \n",
      " 3   Lead Source                                    9204 non-null   object \n",
      " 4   Do Not Email                                   9240 non-null   object \n",
      " 5   Do Not Call                                    9240 non-null   object \n",
      " 6   Converted                                      9240 non-null   int64  \n",
      " 7   TotalVisits                                    9103 non-null   float64\n",
      " 8   Total Time Spent on Website                    9240 non-null   int64  \n",
      " 9   Page Views Per Visit                           9103 non-null   float64\n",
      " 10  Last Activity                                  9137 non-null   object \n",
      " 11  Country                                        6779 non-null   object \n",
      " 12  Specialization                                 7802 non-null   object \n",
      " 13  How did you hear about X Education             7033 non-null   object \n",
      " 14  What is your current occupation                6550 non-null   object \n",
      " 15  What matters most to you in choosing a course  6531 non-null   object \n",
      " 16  Search                                         9240 non-null   object \n",
      " 17  Magazine                                       9240 non-null   object \n",
      " 18  Newspaper Article                              9240 non-null   object \n",
      " 19  X Education Forums                             9240 non-null   object \n",
      " 20  Newspaper                                      9240 non-null   object \n",
      " 21  Digital Advertisement                          9240 non-null   object \n",
      " 22  Through Recommendations                        9240 non-null   object \n",
      " 23  Receive More Updates About Our Courses         9240 non-null   object \n",
      " 24  Tags                                           5887 non-null   object \n",
      " 25  Lead Quality                                   4473 non-null   object \n",
      " 26  Update me on Supply Chain Content              9240 non-null   object \n",
      " 27  Get updates on DM Content                      9240 non-null   object \n",
      " 28  Lead Profile                                   6531 non-null   object \n",
      " 29  City                                           7820 non-null   object \n",
      " 30  Asymmetrique Activity Index                    5022 non-null   object \n",
      " 31  Asymmetrique Profile Index                     5022 non-null   object \n",
      " 32  Asymmetrique Activity Score                    5022 non-null   float64\n",
      " 33  Asymmetrique Profile Score                     5022 non-null   float64\n",
      " 34  I agree to pay the amount through cheque       9240 non-null   object \n",
      " 35  A free copy of Mastering The Interview         9240 non-null   object \n",
      " 36  Last Notable Activity                          9240 non-null   object \n",
      "dtypes: float64(4), int64(3), object(30)\n",
      "memory usage: 2.6+ MB\n"
     ]
    }
   ],
   "source": [
    "df.info()"
   ]
  },
  {
   "cell_type": "markdown",
   "id": "e413e01b-bdfa-4d2a-875d-6ddbb6a7a41a",
   "metadata": {},
   "source": [
    "## Step 1: Handling Null Values"
   ]
  },
  {
   "cell_type": "code",
   "execution_count": 2663,
   "id": "929183e2-c425-4c31-8381-6550dde86762",
   "metadata": {},
   "outputs": [
    {
     "data": {
      "text/plain": [
       "Prospect ID                                       0.00\n",
       "Lead Number                                       0.00\n",
       "Lead Origin                                       0.00\n",
       "Lead Source                                       0.39\n",
       "Do Not Email                                      0.00\n",
       "Do Not Call                                       0.00\n",
       "Converted                                         0.00\n",
       "TotalVisits                                       1.48\n",
       "Total Time Spent on Website                       0.00\n",
       "Page Views Per Visit                              1.48\n",
       "Last Activity                                     1.11\n",
       "Country                                          26.63\n",
       "Specialization                                   15.56\n",
       "How did you hear about X Education               23.89\n",
       "What is your current occupation                  29.11\n",
       "What matters most to you in choosing a course    29.32\n",
       "Search                                            0.00\n",
       "Magazine                                          0.00\n",
       "Newspaper Article                                 0.00\n",
       "X Education Forums                                0.00\n",
       "Newspaper                                         0.00\n",
       "Digital Advertisement                             0.00\n",
       "Through Recommendations                           0.00\n",
       "Receive More Updates About Our Courses            0.00\n",
       "Tags                                             36.29\n",
       "Lead Quality                                     51.59\n",
       "Update me on Supply Chain Content                 0.00\n",
       "Get updates on DM Content                         0.00\n",
       "Lead Profile                                     29.32\n",
       "City                                             15.37\n",
       "Asymmetrique Activity Index                      45.65\n",
       "Asymmetrique Profile Index                       45.65\n",
       "Asymmetrique Activity Score                      45.65\n",
       "Asymmetrique Profile Score                       45.65\n",
       "I agree to pay the amount through cheque          0.00\n",
       "A free copy of Mastering The Interview            0.00\n",
       "Last Notable Activity                             0.00\n",
       "dtype: float64"
      ]
     },
     "execution_count": 2663,
     "metadata": {},
     "output_type": "execute_result"
    }
   ],
   "source": [
    "# null values\n",
    "round((df.isnull().sum()/len(df))*100,2)"
   ]
  },
  {
   "cell_type": "code",
   "execution_count": 2664,
   "id": "c7ff0932-eb0e-4310-8b9f-2be9dc531be0",
   "metadata": {},
   "outputs": [],
   "source": [
    "columns = round((df.isnull().sum()/len(df))*100,2) "
   ]
  },
  {
   "cell_type": "code",
   "execution_count": 2665,
   "id": "37be9204-57d3-4789-81ec-d6292a873608",
   "metadata": {},
   "outputs": [],
   "source": [
    "drop_columns = columns[columns > 40]"
   ]
  },
  {
   "cell_type": "code",
   "execution_count": 2666,
   "id": "2036c0dc-7cb7-43fd-baf1-7e9231a70cd4",
   "metadata": {},
   "outputs": [
    {
     "name": "stdout",
     "output_type": "stream",
     "text": [
      "                                 0\n",
      "Lead Quality                 51.59\n",
      "Asymmetrique Activity Index  45.65\n",
      "Asymmetrique Profile Index   45.65\n",
      "Asymmetrique Activity Score  45.65\n",
      "Asymmetrique Profile Score   45.65\n"
     ]
    }
   ],
   "source": [
    "drop_columns= pd.DataFrame(drop_columns)\n",
    "print(drop_columns)"
   ]
  },
  {
   "cell_type": "markdown",
   "id": "afe9689a-f359-4bb5-b349-36b57ca5c107",
   "metadata": {},
   "source": [
    "#### Dropping columns with more than 40% null values from dataframe"
   ]
  },
  {
   "cell_type": "code",
   "execution_count": 2668,
   "id": "dd257072-294d-4b55-8d9d-6ddc70e08ce0",
   "metadata": {},
   "outputs": [],
   "source": [
    "df.drop(drop_columns.index,axis=1, inplace=True)"
   ]
  },
  {
   "cell_type": "code",
   "execution_count": 2669,
   "id": "1e2b839b-9a60-4bf9-8d5b-42e767153939",
   "metadata": {},
   "outputs": [
    {
     "data": {
      "text/html": [
       "<div>\n",
       "<style scoped>\n",
       "    .dataframe tbody tr th:only-of-type {\n",
       "        vertical-align: middle;\n",
       "    }\n",
       "\n",
       "    .dataframe tbody tr th {\n",
       "        vertical-align: top;\n",
       "    }\n",
       "\n",
       "    .dataframe thead th {\n",
       "        text-align: right;\n",
       "    }\n",
       "</style>\n",
       "<table border=\"1\" class=\"dataframe\">\n",
       "  <thead>\n",
       "    <tr style=\"text-align: right;\">\n",
       "      <th></th>\n",
       "      <th>Prospect ID</th>\n",
       "      <th>Lead Number</th>\n",
       "      <th>Lead Origin</th>\n",
       "      <th>Lead Source</th>\n",
       "      <th>Do Not Email</th>\n",
       "      <th>Do Not Call</th>\n",
       "      <th>Converted</th>\n",
       "      <th>TotalVisits</th>\n",
       "      <th>Total Time Spent on Website</th>\n",
       "      <th>Page Views Per Visit</th>\n",
       "      <th>...</th>\n",
       "      <th>Through Recommendations</th>\n",
       "      <th>Receive More Updates About Our Courses</th>\n",
       "      <th>Tags</th>\n",
       "      <th>Update me on Supply Chain Content</th>\n",
       "      <th>Get updates on DM Content</th>\n",
       "      <th>Lead Profile</th>\n",
       "      <th>City</th>\n",
       "      <th>I agree to pay the amount through cheque</th>\n",
       "      <th>A free copy of Mastering The Interview</th>\n",
       "      <th>Last Notable Activity</th>\n",
       "    </tr>\n",
       "  </thead>\n",
       "  <tbody>\n",
       "    <tr>\n",
       "      <th>0</th>\n",
       "      <td>7927b2df-8bba-4d29-b9a2-b6e0beafe620</td>\n",
       "      <td>660737</td>\n",
       "      <td>API</td>\n",
       "      <td>Olark Chat</td>\n",
       "      <td>No</td>\n",
       "      <td>No</td>\n",
       "      <td>0</td>\n",
       "      <td>0.0</td>\n",
       "      <td>0</td>\n",
       "      <td>0.0</td>\n",
       "      <td>...</td>\n",
       "      <td>No</td>\n",
       "      <td>No</td>\n",
       "      <td>Interested in other courses</td>\n",
       "      <td>No</td>\n",
       "      <td>No</td>\n",
       "      <td>Select</td>\n",
       "      <td>Select</td>\n",
       "      <td>No</td>\n",
       "      <td>No</td>\n",
       "      <td>Modified</td>\n",
       "    </tr>\n",
       "    <tr>\n",
       "      <th>1</th>\n",
       "      <td>2a272436-5132-4136-86fa-dcc88c88f482</td>\n",
       "      <td>660728</td>\n",
       "      <td>API</td>\n",
       "      <td>Organic Search</td>\n",
       "      <td>No</td>\n",
       "      <td>No</td>\n",
       "      <td>0</td>\n",
       "      <td>5.0</td>\n",
       "      <td>674</td>\n",
       "      <td>2.5</td>\n",
       "      <td>...</td>\n",
       "      <td>No</td>\n",
       "      <td>No</td>\n",
       "      <td>Ringing</td>\n",
       "      <td>No</td>\n",
       "      <td>No</td>\n",
       "      <td>Select</td>\n",
       "      <td>Select</td>\n",
       "      <td>No</td>\n",
       "      <td>No</td>\n",
       "      <td>Email Opened</td>\n",
       "    </tr>\n",
       "    <tr>\n",
       "      <th>2</th>\n",
       "      <td>8cc8c611-a219-4f35-ad23-fdfd2656bd8a</td>\n",
       "      <td>660727</td>\n",
       "      <td>Landing Page Submission</td>\n",
       "      <td>Direct Traffic</td>\n",
       "      <td>No</td>\n",
       "      <td>No</td>\n",
       "      <td>1</td>\n",
       "      <td>2.0</td>\n",
       "      <td>1532</td>\n",
       "      <td>2.0</td>\n",
       "      <td>...</td>\n",
       "      <td>No</td>\n",
       "      <td>No</td>\n",
       "      <td>Will revert after reading the email</td>\n",
       "      <td>No</td>\n",
       "      <td>No</td>\n",
       "      <td>Potential Lead</td>\n",
       "      <td>Mumbai</td>\n",
       "      <td>No</td>\n",
       "      <td>Yes</td>\n",
       "      <td>Email Opened</td>\n",
       "    </tr>\n",
       "    <tr>\n",
       "      <th>3</th>\n",
       "      <td>0cc2df48-7cf4-4e39-9de9-19797f9b38cc</td>\n",
       "      <td>660719</td>\n",
       "      <td>Landing Page Submission</td>\n",
       "      <td>Direct Traffic</td>\n",
       "      <td>No</td>\n",
       "      <td>No</td>\n",
       "      <td>0</td>\n",
       "      <td>1.0</td>\n",
       "      <td>305</td>\n",
       "      <td>1.0</td>\n",
       "      <td>...</td>\n",
       "      <td>No</td>\n",
       "      <td>No</td>\n",
       "      <td>Ringing</td>\n",
       "      <td>No</td>\n",
       "      <td>No</td>\n",
       "      <td>Select</td>\n",
       "      <td>Mumbai</td>\n",
       "      <td>No</td>\n",
       "      <td>No</td>\n",
       "      <td>Modified</td>\n",
       "    </tr>\n",
       "    <tr>\n",
       "      <th>4</th>\n",
       "      <td>3256f628-e534-4826-9d63-4a8b88782852</td>\n",
       "      <td>660681</td>\n",
       "      <td>Landing Page Submission</td>\n",
       "      <td>Google</td>\n",
       "      <td>No</td>\n",
       "      <td>No</td>\n",
       "      <td>1</td>\n",
       "      <td>2.0</td>\n",
       "      <td>1428</td>\n",
       "      <td>1.0</td>\n",
       "      <td>...</td>\n",
       "      <td>No</td>\n",
       "      <td>No</td>\n",
       "      <td>Will revert after reading the email</td>\n",
       "      <td>No</td>\n",
       "      <td>No</td>\n",
       "      <td>Select</td>\n",
       "      <td>Mumbai</td>\n",
       "      <td>No</td>\n",
       "      <td>No</td>\n",
       "      <td>Modified</td>\n",
       "    </tr>\n",
       "  </tbody>\n",
       "</table>\n",
       "<p>5 rows × 32 columns</p>\n",
       "</div>"
      ],
      "text/plain": [
       "                            Prospect ID  Lead Number              Lead Origin  \\\n",
       "0  7927b2df-8bba-4d29-b9a2-b6e0beafe620       660737                      API   \n",
       "1  2a272436-5132-4136-86fa-dcc88c88f482       660728                      API   \n",
       "2  8cc8c611-a219-4f35-ad23-fdfd2656bd8a       660727  Landing Page Submission   \n",
       "3  0cc2df48-7cf4-4e39-9de9-19797f9b38cc       660719  Landing Page Submission   \n",
       "4  3256f628-e534-4826-9d63-4a8b88782852       660681  Landing Page Submission   \n",
       "\n",
       "      Lead Source Do Not Email Do Not Call  Converted  TotalVisits  \\\n",
       "0      Olark Chat           No          No          0          0.0   \n",
       "1  Organic Search           No          No          0          5.0   \n",
       "2  Direct Traffic           No          No          1          2.0   \n",
       "3  Direct Traffic           No          No          0          1.0   \n",
       "4          Google           No          No          1          2.0   \n",
       "\n",
       "   Total Time Spent on Website  Page Views Per Visit  ...  \\\n",
       "0                            0                   0.0  ...   \n",
       "1                          674                   2.5  ...   \n",
       "2                         1532                   2.0  ...   \n",
       "3                          305                   1.0  ...   \n",
       "4                         1428                   1.0  ...   \n",
       "\n",
       "  Through Recommendations Receive More Updates About Our Courses  \\\n",
       "0                      No                                     No   \n",
       "1                      No                                     No   \n",
       "2                      No                                     No   \n",
       "3                      No                                     No   \n",
       "4                      No                                     No   \n",
       "\n",
       "                                  Tags Update me on Supply Chain Content  \\\n",
       "0          Interested in other courses                                No   \n",
       "1                              Ringing                                No   \n",
       "2  Will revert after reading the email                                No   \n",
       "3                              Ringing                                No   \n",
       "4  Will revert after reading the email                                No   \n",
       "\n",
       "  Get updates on DM Content    Lead Profile    City  \\\n",
       "0                        No          Select  Select   \n",
       "1                        No          Select  Select   \n",
       "2                        No  Potential Lead  Mumbai   \n",
       "3                        No          Select  Mumbai   \n",
       "4                        No          Select  Mumbai   \n",
       "\n",
       "  I agree to pay the amount through cheque  \\\n",
       "0                                       No   \n",
       "1                                       No   \n",
       "2                                       No   \n",
       "3                                       No   \n",
       "4                                       No   \n",
       "\n",
       "  A free copy of Mastering The Interview Last Notable Activity  \n",
       "0                                     No              Modified  \n",
       "1                                     No          Email Opened  \n",
       "2                                    Yes          Email Opened  \n",
       "3                                     No              Modified  \n",
       "4                                     No              Modified  \n",
       "\n",
       "[5 rows x 32 columns]"
      ]
     },
     "execution_count": 2669,
     "metadata": {},
     "output_type": "execute_result"
    }
   ],
   "source": [
    "df.head()"
   ]
  },
  {
   "cell_type": "code",
   "execution_count": 2670,
   "id": "a178e988-0e3a-4da9-bf08-f10d3d0034da",
   "metadata": {},
   "outputs": [
    {
     "data": {
      "text/plain": [
       "(9240, 32)"
      ]
     },
     "execution_count": 2670,
     "metadata": {},
     "output_type": "execute_result"
    }
   ],
   "source": [
    "df.shape"
   ]
  },
  {
   "cell_type": "markdown",
   "id": "6c9382a3-d4b8-4f2e-809a-b4fb5c257902",
   "metadata": {},
   "source": [
    "##### Let us check the null values between 20% and 40% and see how we can address them"
   ]
  },
  {
   "cell_type": "code",
   "execution_count": 2672,
   "id": "e8d68637-3344-4b7f-a540-ecf43e5d4186",
   "metadata": {},
   "outputs": [
    {
     "data": {
      "text/plain": [
       "Country                                          26.63\n",
       "How did you hear about X Education               23.89\n",
       "What is your current occupation                  29.11\n",
       "What matters most to you in choosing a course    29.32\n",
       "Tags                                             36.29\n",
       "Lead Profile                                     29.32\n",
       "dtype: float64"
      ]
     },
     "execution_count": 2672,
     "metadata": {},
     "output_type": "execute_result"
    }
   ],
   "source": [
    "columns = round((df.isnull().sum()/len(df))*100,2)\n",
    "columns[(columns>=20) & (columns<40)]"
   ]
  },
  {
   "cell_type": "markdown",
   "id": "d9e669ca-628e-4538-a560-25a2b95bb96c",
   "metadata": {},
   "source": [
    "Understanding the distribution of data in these columns"
   ]
  },
  {
   "cell_type": "code",
   "execution_count": 2674,
   "id": "3a70164d-be18-4303-b3fd-93d89855d738",
   "metadata": {},
   "outputs": [
    {
     "data": {
      "text/plain": [
       "Country\n",
       "India                   0.702597\n",
       "NaN                     0.266342\n",
       "United States           0.007468\n",
       "United Arab Emirates    0.005736\n",
       "Singapore               0.002597\n",
       "Saudi Arabia            0.002273\n",
       "United Kingdom          0.001623\n",
       "Australia               0.001407\n",
       "Qatar                   0.001082\n",
       "Bahrain                 0.000758\n",
       "Hong Kong               0.000758\n",
       "Oman                    0.000649\n",
       "France                  0.000649\n",
       "unknown                 0.000541\n",
       "Kuwait                  0.000433\n",
       "South Africa            0.000433\n",
       "Canada                  0.000433\n",
       "Nigeria                 0.000433\n",
       "Germany                 0.000433\n",
       "Sweden                  0.000325\n",
       "Philippines             0.000216\n",
       "Uganda                  0.000216\n",
       "Italy                   0.000216\n",
       "Bangladesh              0.000216\n",
       "Netherlands             0.000216\n",
       "Asia/Pacific Region     0.000216\n",
       "China                   0.000216\n",
       "Belgium                 0.000216\n",
       "Ghana                   0.000216\n",
       "Kenya                   0.000108\n",
       "Sri Lanka               0.000108\n",
       "Tanzania                0.000108\n",
       "Malaysia                0.000108\n",
       "Liberia                 0.000108\n",
       "Switzerland             0.000108\n",
       "Denmark                 0.000108\n",
       "Russia                  0.000108\n",
       "Vietnam                 0.000108\n",
       "Indonesia               0.000108\n",
       "Name: count, dtype: float64"
      ]
     },
     "execution_count": 2674,
     "metadata": {},
     "output_type": "execute_result"
    }
   ],
   "source": [
    "df['Country'].value_counts(dropna=False)/len(df['Country'])"
   ]
  },
  {
   "cell_type": "markdown",
   "id": "23f7fc36-350a-4cda-b10c-9089522c610a",
   "metadata": {},
   "source": [
    "India and NaN values form 97% of data. As the data in Country columns is skewed towards one value, dropping the column Country"
   ]
  },
  {
   "cell_type": "code",
   "execution_count": 2676,
   "id": "2e431e00-89a5-4262-b03c-307b562568a8",
   "metadata": {},
   "outputs": [],
   "source": [
    "df = df.drop(['Country'],axis=1)"
   ]
  },
  {
   "cell_type": "code",
   "execution_count": 2677,
   "id": "dbe39709-8dc6-4e10-9b4d-c3f2e59ebbdc",
   "metadata": {},
   "outputs": [
    {
     "data": {
      "text/plain": [
       "How did you hear about X Education\n",
       "Select                   0.545779\n",
       "NaN                      0.238853\n",
       "Online Search            0.087446\n",
       "Word Of Mouth            0.037662\n",
       "Student of SomeSchool    0.033550\n",
       "Other                    0.020130\n",
       "Multiple Sources         0.016450\n",
       "Advertisements           0.007576\n",
       "Social Media             0.007251\n",
       "Email                    0.002814\n",
       "SMS                      0.002489\n",
       "Name: count, dtype: float64"
      ]
     },
     "execution_count": 2677,
     "metadata": {},
     "output_type": "execute_result"
    }
   ],
   "source": [
    "df['How did you hear about X Education'].value_counts(dropna=False)/len(df['How did you hear about X Education'])\n"
   ]
  },
  {
   "cell_type": "markdown",
   "id": "264718d5-8461-4015-b4c9-c75d715f6775",
   "metadata": {},
   "source": [
    "Select + Nan values form 78% of data. As missing values is more than 45%, dropping this column"
   ]
  },
  {
   "cell_type": "code",
   "execution_count": 2679,
   "id": "a2b75a5c-0e1f-461e-a580-ec31d6706eb5",
   "metadata": {},
   "outputs": [],
   "source": [
    "df = df.drop(['How did you hear about X Education'],axis=1)"
   ]
  },
  {
   "cell_type": "code",
   "execution_count": 2680,
   "id": "86029380-0a46-4ba6-97af-caa63addf2a1",
   "metadata": {},
   "outputs": [
    {
     "data": {
      "text/plain": [
       "What is your current occupation\n",
       "Unemployed              5600\n",
       "NaN                     2690\n",
       "Working Professional     706\n",
       "Student                  210\n",
       "Other                     16\n",
       "Housewife                 10\n",
       "Businessman                8\n",
       "Name: count, dtype: int64"
      ]
     },
     "execution_count": 2680,
     "metadata": {},
     "output_type": "execute_result"
    }
   ],
   "source": [
    "df['What is your current occupation'].value_counts(dropna=False)"
   ]
  },
  {
   "cell_type": "code",
   "execution_count": 2681,
   "id": "59df0e89-1731-4bd4-bbac-9c69109ae42a",
   "metadata": {},
   "outputs": [],
   "source": [
    "#imputing Nan values with mode \"Unemployed\"\n",
    "\n",
    "df['What is your current occupation'] = df['What is your current occupation'].replace(np.nan, 'Unemployed')"
   ]
  },
  {
   "cell_type": "code",
   "execution_count": 2682,
   "id": "b2c4107b-849e-467a-a767-8021581a789b",
   "metadata": {},
   "outputs": [
    {
     "data": {
      "text/plain": [
       "What is your current occupation\n",
       "Unemployed              8290\n",
       "Working Professional     706\n",
       "Student                  210\n",
       "Other                     16\n",
       "Housewife                 10\n",
       "Businessman                8\n",
       "Name: count, dtype: int64"
      ]
     },
     "execution_count": 2682,
     "metadata": {},
     "output_type": "execute_result"
    }
   ],
   "source": [
    "df['What is your current occupation'].value_counts(dropna=False)"
   ]
  },
  {
   "cell_type": "code",
   "execution_count": 2683,
   "id": "76b5de57-0416-43dc-b353-198d09b589f4",
   "metadata": {},
   "outputs": [
    {
     "data": {
      "text/plain": [
       "What matters most to you in choosing a course\n",
       "Better Career Prospects      6528\n",
       "NaN                          2709\n",
       "Flexibility & Convenience       2\n",
       "Other                           1\n",
       "Name: count, dtype: int64"
      ]
     },
     "execution_count": 2683,
     "metadata": {},
     "output_type": "execute_result"
    }
   ],
   "source": [
    "df['What matters most to you in choosing a course'].value_counts(dropna=False)"
   ]
  },
  {
   "cell_type": "code",
   "execution_count": 2684,
   "id": "8af7e5b5-153c-4634-84e4-90a6d383b98c",
   "metadata": {},
   "outputs": [],
   "source": [
    "#imputing Nan values with mode \"Better Career Prospects\"\n",
    "df['What matters most to you in choosing a course'] = df['What matters most to you in choosing a course'].replace(np.nan, 'Better Career Prospects')"
   ]
  },
  {
   "cell_type": "code",
   "execution_count": 2685,
   "id": "c888dbd5-2129-449b-9f58-e66e183bb5a8",
   "metadata": {},
   "outputs": [
    {
     "data": {
      "text/plain": [
       "What matters most to you in choosing a course\n",
       "Better Career Prospects      9237\n",
       "Flexibility & Convenience       2\n",
       "Other                           1\n",
       "Name: count, dtype: int64"
      ]
     },
     "execution_count": 2685,
     "metadata": {},
     "output_type": "execute_result"
    }
   ],
   "source": [
    "df['What matters most to you in choosing a course'].value_counts(dropna=False)"
   ]
  },
  {
   "cell_type": "markdown",
   "id": "63498619-5833-4d39-82dd-1abea75053ed",
   "metadata": {},
   "source": [
    "This column has skewed data leaning towards one value and hence dropping this column"
   ]
  },
  {
   "cell_type": "code",
   "execution_count": 2687,
   "id": "7d286643-f34f-48af-9c7c-5a643a1e7590",
   "metadata": {},
   "outputs": [],
   "source": [
    "df = df.drop(['What matters most to you in choosing a course'],axis=1)"
   ]
  },
  {
   "cell_type": "code",
   "execution_count": 2688,
   "id": "73d2a232-8b29-4c27-a487-60be4f0811bf",
   "metadata": {},
   "outputs": [
    {
     "data": {
      "text/plain": [
       "Tags\n",
       "NaN                                                  3353\n",
       "Will revert after reading the email                  2072\n",
       "Ringing                                              1203\n",
       "Interested in other courses                           513\n",
       "Already a student                                     465\n",
       "Closed by Horizzon                                    358\n",
       "switched off                                          240\n",
       "Busy                                                  186\n",
       "Lost to EINS                                          175\n",
       "Not doing further education                           145\n",
       "Interested  in full time MBA                          117\n",
       "Graduation in progress                                111\n",
       "invalid number                                         83\n",
       "Diploma holder (Not Eligible)                          63\n",
       "wrong number given                                     47\n",
       "opp hangup                                             33\n",
       "number not provided                                    27\n",
       "in touch with EINS                                     12\n",
       "Lost to Others                                          7\n",
       "Still Thinking                                          6\n",
       "Want to take admission but has financial problems       6\n",
       "In confusion whether part time or DLP                   5\n",
       "Interested in Next batch                                5\n",
       "Lateral student                                         3\n",
       "Shall take in the next coming month                     2\n",
       "University not recognized                               2\n",
       "Recognition issue (DEC approval)                        1\n",
       "Name: count, dtype: int64"
      ]
     },
     "execution_count": 2688,
     "metadata": {},
     "output_type": "execute_result"
    }
   ],
   "source": [
    "#checking value counts of Tag variable\n",
    "df['Tags'].value_counts(dropna=False)"
   ]
  },
  {
   "cell_type": "code",
   "execution_count": 2689,
   "id": "a0ed7d96-931f-41a6-a80b-ac08d63ea8c8",
   "metadata": {},
   "outputs": [],
   "source": [
    "#imputing Nan values with mode \"Not Available\"\n",
    "df['Tags'] = df['Tags'].replace(np.nan, 'Not Available')"
   ]
  },
  {
   "cell_type": "code",
   "execution_count": 2690,
   "id": "52da0cd9-a2d0-4098-86d2-b8dfee6b3abb",
   "metadata": {},
   "outputs": [],
   "source": [
    "#replacing tags with low frequency with \"Other Tags\"\n",
    "df['Tags'] = df['Tags'].replace(['In confusion whether part time or DLP', 'in touch with EINS','Diploma holder (Not Eligible)','Graduation in progress',\n",
    "                                     'number not provided', 'opp hangup','Still Thinking','Lost to Others','Shall take in the next coming month',\n",
    "                                 'Lateral student','Interested in Next batch','invalid number','wrong number given','Not doing further education',\n",
    "                                    'Recognition issue (DEC approval)','Want to take admission but has financial problems','Interested  in full time MBA',\n",
    "                                    'University not recognized'], 'Other_Tags')\n"
   ]
  },
  {
   "cell_type": "code",
   "execution_count": 2691,
   "id": "8e50da77-0591-4d41-9644-34e90caf6a47",
   "metadata": {},
   "outputs": [
    {
     "data": {
      "text/plain": [
       "Tags\n",
       "Not Available                          3353\n",
       "Will revert after reading the email    2072\n",
       "Ringing                                1203\n",
       "Other_Tags                              675\n",
       "Interested in other courses             513\n",
       "Already a student                       465\n",
       "Closed by Horizzon                      358\n",
       "switched off                            240\n",
       "Busy                                    186\n",
       "Lost to EINS                            175\n",
       "Name: count, dtype: int64"
      ]
     },
     "execution_count": 2691,
     "metadata": {},
     "output_type": "execute_result"
    }
   ],
   "source": [
    "df['Tags'].value_counts(dropna=False)"
   ]
  },
  {
   "cell_type": "code",
   "execution_count": 2692,
   "id": "e22bac7f-690a-4411-b8bb-fe5c83a41094",
   "metadata": {},
   "outputs": [
    {
     "data": {
      "text/plain": [
       "Lead Profile\n",
       "Select                         0.448701\n",
       "NaN                            0.293182\n",
       "Potential Lead                 0.174567\n",
       "Other Leads                    0.052706\n",
       "Student of SomeSchool          0.026082\n",
       "Lateral Student                0.002597\n",
       "Dual Specialization Student    0.002165\n",
       "Name: count, dtype: float64"
      ]
     },
     "execution_count": 2692,
     "metadata": {},
     "output_type": "execute_result"
    }
   ],
   "source": [
    "df['Lead Profile'].value_counts(dropna=False)/len(df['Lead Profile'])"
   ]
  },
  {
   "cell_type": "markdown",
   "id": "96280c79-3c5f-4ae7-9cef-1e3f4d2eb302",
   "metadata": {},
   "source": [
    "NaN + Select are more than 74% of values. Dropping the column 'Lead Profile'"
   ]
  },
  {
   "cell_type": "code",
   "execution_count": 2694,
   "id": "e5060046-3ab5-44b5-928e-509a7fc6a3ea",
   "metadata": {},
   "outputs": [],
   "source": [
    "df = df.drop(['Lead Profile'],axis =1)"
   ]
  },
  {
   "cell_type": "code",
   "execution_count": 2695,
   "id": "81541ad2-15f0-4284-9d68-3a2882e80f65",
   "metadata": {},
   "outputs": [
    {
     "data": {
      "text/plain": [
       "Series([], dtype: float64)"
      ]
     },
     "execution_count": 2695,
     "metadata": {},
     "output_type": "execute_result"
    }
   ],
   "source": [
    "columns = round((df.isnull().sum()/len(df))*100,2)\n",
    "columns[(columns>=20) & (columns<40)]"
   ]
  },
  {
   "cell_type": "markdown",
   "id": "e66824e7-5ec5-4de7-b97c-f590996d069c",
   "metadata": {},
   "source": [
    "We have handled the columns which had between 20% and 40% null values"
   ]
  },
  {
   "cell_type": "code",
   "execution_count": 2697,
   "id": "ae6502e5-70ca-4c8d-9c40-9f6ba3dbd587",
   "metadata": {},
   "outputs": [
    {
     "data": {
      "text/plain": [
       "Prospect ID                                    0\n",
       "Lead Number                                    0\n",
       "Lead Origin                                    0\n",
       "Lead Source                                   36\n",
       "Do Not Email                                   0\n",
       "Do Not Call                                    0\n",
       "Converted                                      0\n",
       "TotalVisits                                  137\n",
       "Total Time Spent on Website                    0\n",
       "Page Views Per Visit                         137\n",
       "Last Activity                                103\n",
       "Specialization                              1438\n",
       "What is your current occupation                0\n",
       "Search                                         0\n",
       "Magazine                                       0\n",
       "Newspaper Article                              0\n",
       "X Education Forums                             0\n",
       "Newspaper                                      0\n",
       "Digital Advertisement                          0\n",
       "Through Recommendations                        0\n",
       "Receive More Updates About Our Courses         0\n",
       "Tags                                           0\n",
       "Update me on Supply Chain Content              0\n",
       "Get updates on DM Content                      0\n",
       "City                                        1420\n",
       "I agree to pay the amount through cheque       0\n",
       "A free copy of Mastering The Interview         0\n",
       "Last Notable Activity                          0\n",
       "dtype: int64"
      ]
     },
     "execution_count": 2697,
     "metadata": {},
     "output_type": "execute_result"
    }
   ],
   "source": [
    "df.isnull().sum()"
   ]
  },
  {
   "cell_type": "markdown",
   "id": "946f1c92-3826-4328-8861-55dfc69ceb49",
   "metadata": {},
   "source": [
    "We still have data with null values which needs to be handled before move ahead"
   ]
  },
  {
   "cell_type": "code",
   "execution_count": 2699,
   "id": "3c4c4298-75b0-4889-a270-074692f4da5b",
   "metadata": {},
   "outputs": [
    {
     "data": {
      "text/plain": [
       "City\n",
       "Mumbai                         3222\n",
       "Select                         2249\n",
       "NaN                            1420\n",
       "Thane & Outskirts               752\n",
       "Other Cities                    686\n",
       "Other Cities of Maharashtra     457\n",
       "Other Metro Cities              380\n",
       "Tier II Cities                   74\n",
       "Name: count, dtype: int64"
      ]
     },
     "execution_count": 2699,
     "metadata": {},
     "output_type": "execute_result"
    }
   ],
   "source": [
    "#checking value counts of \"City\" column\n",
    "df['City'].value_counts(dropna=False)"
   ]
  },
  {
   "cell_type": "code",
   "execution_count": 2700,
   "id": "1362e0ba-9846-4dcf-a824-c710e7cb1ca8",
   "metadata": {},
   "outputs": [],
   "source": [
    "# Replacing Select and Nan with mode value for \"City\" which is Mumbai\n",
    "df['City']= df['City'].replace(np.nan,'Mumbai')\n",
    "df['City']= df['City'].replace('Select','Mumbai')"
   ]
  },
  {
   "cell_type": "code",
   "execution_count": 2701,
   "id": "f714c0ff-1f0c-41ec-894b-40815d94141b",
   "metadata": {},
   "outputs": [
    {
     "data": {
      "text/plain": [
       "Specialization\n",
       "Select                               1942\n",
       "NaN                                  1438\n",
       "Finance Management                    976\n",
       "Human Resource Management             848\n",
       "Marketing Management                  838\n",
       "Operations Management                 503\n",
       "Business Administration               403\n",
       "IT Projects Management                366\n",
       "Supply Chain Management               349\n",
       "Banking, Investment And Insurance     338\n",
       "Travel and Tourism                    203\n",
       "Media and Advertising                 203\n",
       "International Business                178\n",
       "Healthcare Management                 159\n",
       "Hospitality Management                114\n",
       "E-COMMERCE                            112\n",
       "Retail Management                     100\n",
       "Rural and Agribusiness                 73\n",
       "E-Business                             57\n",
       "Services Excellence                    40\n",
       "Name: count, dtype: int64"
      ]
     },
     "execution_count": 2701,
     "metadata": {},
     "output_type": "execute_result"
    }
   ],
   "source": [
    "df['Specialization'].value_counts(dropna=False)"
   ]
  },
  {
   "cell_type": "code",
   "execution_count": 2702,
   "id": "a43425e2-8496-4269-807b-b214ec4da1a0",
   "metadata": {},
   "outputs": [],
   "source": [
    "# Replacing Select and Nan with for \"Specialization\" with Not Available\n",
    "df['Specialization']= df['Specialization'].replace(np.nan,'Not Available')\n",
    "df['Specialization']= df['Specialization'].replace('Select','Available')"
   ]
  },
  {
   "cell_type": "code",
   "execution_count": 2703,
   "id": "543a9878-650f-4b59-b7a4-5140e4db5d44",
   "metadata": {},
   "outputs": [],
   "source": [
    "#combining lower frequency values \n",
    "df['Specialization'] = df['Specialization'].replace(['Finance Management','Human Resource Management',\n",
    "                                                           'Marketing Management','Operations Management',\n",
    "                                                           'IT Projects Management','Supply Chain Management',\n",
    "                                                    'Healthcare Management','Hospitality Management',\n",
    "                                                           'Retail Management'] ,'Management_Specializations')"
   ]
  },
  {
   "cell_type": "code",
   "execution_count": 2704,
   "id": "8ec91b49-cb86-421e-a95e-4cf1989c2d53",
   "metadata": {},
   "outputs": [
    {
     "data": {
      "text/plain": [
       "Lead Source\n",
       "Google               2868\n",
       "Direct Traffic       2543\n",
       "Olark Chat           1755\n",
       "Organic Search       1154\n",
       "Reference             534\n",
       "Welingak Website      142\n",
       "Referral Sites        125\n",
       "Facebook               55\n",
       "NaN                    36\n",
       "bing                    6\n",
       "google                  5\n",
       "Click2call              4\n",
       "Press_Release           2\n",
       "Social Media            2\n",
       "Live Chat               2\n",
       "youtubechannel          1\n",
       "testone                 1\n",
       "Pay per Click Ads       1\n",
       "welearnblog_Home        1\n",
       "WeLearn                 1\n",
       "blog                    1\n",
       "NC_EDM                  1\n",
       "Name: count, dtype: int64"
      ]
     },
     "execution_count": 2704,
     "metadata": {},
     "output_type": "execute_result"
    }
   ],
   "source": [
    "df['Lead Source'].value_counts(dropna= False)"
   ]
  },
  {
   "cell_type": "code",
   "execution_count": 2705,
   "id": "7d3a74e5-34f3-4d82-9520-548cbbf3aef6",
   "metadata": {},
   "outputs": [],
   "source": [
    "#replacing Nan Values and combining low frequency values\n",
    "df['Lead Source'] = df['Lead Source'].replace(np.nan,'Others')\n",
    "df['Lead Source'] = df['Lead Source'].replace('google','Google')\n",
    "df['Lead Source'] = df['Lead Source'].replace('Facebook','Social Media')\n",
    "df['Lead Source'] = df['Lead Source'].replace(['bing','Click2call','Press_Release','Live Chat','youtubechannel','welearnblog_Home',\n",
    "                                                     'WeLearn','blog','Pay per Click Ads',\n",
    "                                                    'testone','NC_EDM'] ,'Others')"
   ]
  },
  {
   "cell_type": "code",
   "execution_count": 2706,
   "id": "29cd54d1-153a-403e-94b5-300a2dc9b4d7",
   "metadata": {},
   "outputs": [
    {
     "data": {
      "text/plain": [
       "Last Activity\n",
       "Email Opened                    3437\n",
       "SMS Sent                        2745\n",
       "Olark Chat Conversation          973\n",
       "Page Visited on Website          640\n",
       "Converted to Lead                428\n",
       "Email Bounced                    326\n",
       "Email Link Clicked               267\n",
       "Form Submitted on Website        116\n",
       "NaN                              103\n",
       "Unreachable                       93\n",
       "Unsubscribed                      61\n",
       "Had a Phone Conversation          30\n",
       "Approached upfront                 9\n",
       "View in browser link Clicked       6\n",
       "Email Received                     2\n",
       "Email Marked Spam                  2\n",
       "Visited Booth in Tradeshow         1\n",
       "Resubscribed to emails             1\n",
       "Name: count, dtype: int64"
      ]
     },
     "execution_count": 2706,
     "metadata": {},
     "output_type": "execute_result"
    }
   ],
   "source": [
    "# Last Activity:\n",
    "df['Last Activity'].value_counts(dropna=False)"
   ]
  },
  {
   "cell_type": "code",
   "execution_count": 2707,
   "id": "086502bb-00c8-42fe-860e-8307087760ba",
   "metadata": {},
   "outputs": [],
   "source": [
    "#replacing Nan Values and combining low frequency values\n",
    "\n",
    "df['Last Activity'] = df['Last Activity'].replace(np.nan,'Others')\n",
    "df['Last Activity'] = df['Last Activity'].replace(['Unreachable','Unsubscribed',\n",
    "                                                        'Had a Phone Conversation',\n",
    "                                                        'Approached upfront',\n",
    "                                                        'View in browser link Clicked',\n",
    "                                                        'Email Marked Spam',\n",
    "                                                        'Email Received','Resubscribed to emails',\n",
    "                                                         'Visited Booth in Tradeshow'],'Others')"
   ]
  },
  {
   "cell_type": "code",
   "execution_count": 2708,
   "id": "3907ed7f-454e-47a1-b148-ab1793c6dd6e",
   "metadata": {},
   "outputs": [
    {
     "data": {
      "text/plain": [
       "Prospect ID                                 0.000000\n",
       "Lead Number                                 0.000000\n",
       "Lead Origin                                 0.000000\n",
       "Lead Source                                 0.000000\n",
       "Do Not Email                                0.000000\n",
       "Do Not Call                                 0.000000\n",
       "Converted                                   0.000000\n",
       "TotalVisits                                 1.482684\n",
       "Total Time Spent on Website                 0.000000\n",
       "Page Views Per Visit                        1.482684\n",
       "Last Activity                               0.000000\n",
       "Specialization                              0.000000\n",
       "What is your current occupation             0.000000\n",
       "Search                                      0.000000\n",
       "Magazine                                    0.000000\n",
       "Newspaper Article                           0.000000\n",
       "X Education Forums                          0.000000\n",
       "Newspaper                                   0.000000\n",
       "Digital Advertisement                       0.000000\n",
       "Through Recommendations                     0.000000\n",
       "Receive More Updates About Our Courses      0.000000\n",
       "Tags                                        0.000000\n",
       "Update me on Supply Chain Content           0.000000\n",
       "Get updates on DM Content                   0.000000\n",
       "City                                        0.000000\n",
       "I agree to pay the amount through cheque    0.000000\n",
       "A free copy of Mastering The Interview      0.000000\n",
       "Last Notable Activity                       0.000000\n",
       "dtype: float64"
      ]
     },
     "execution_count": 2708,
     "metadata": {},
     "output_type": "execute_result"
    }
   ],
   "source": [
    "100*df.isnull().sum()/len(df)"
   ]
  },
  {
   "cell_type": "markdown",
   "id": "110ea587-7e3b-4807-bed8-aeaf51feedc2",
   "metadata": {},
   "source": [
    "Dropping the rows with null values for TotalVisits and Page Views Per Visit as these are only 1.5%"
   ]
  },
  {
   "cell_type": "code",
   "execution_count": 2710,
   "id": "a98a4c51-e55c-4195-8c25-a91ff614ff09",
   "metadata": {},
   "outputs": [],
   "source": [
    "df = df.dropna()"
   ]
  },
  {
   "cell_type": "code",
   "execution_count": 2711,
   "id": "0ffc5620-4489-4ae1-a8e9-36a390f8ee53",
   "metadata": {},
   "outputs": [
    {
     "data": {
      "text/plain": [
       "Prospect ID                                 0.0\n",
       "Lead Number                                 0.0\n",
       "Lead Origin                                 0.0\n",
       "Lead Source                                 0.0\n",
       "Do Not Email                                0.0\n",
       "Do Not Call                                 0.0\n",
       "Converted                                   0.0\n",
       "TotalVisits                                 0.0\n",
       "Total Time Spent on Website                 0.0\n",
       "Page Views Per Visit                        0.0\n",
       "Last Activity                               0.0\n",
       "Specialization                              0.0\n",
       "What is your current occupation             0.0\n",
       "Search                                      0.0\n",
       "Magazine                                    0.0\n",
       "Newspaper Article                           0.0\n",
       "X Education Forums                          0.0\n",
       "Newspaper                                   0.0\n",
       "Digital Advertisement                       0.0\n",
       "Through Recommendations                     0.0\n",
       "Receive More Updates About Our Courses      0.0\n",
       "Tags                                        0.0\n",
       "Update me on Supply Chain Content           0.0\n",
       "Get updates on DM Content                   0.0\n",
       "City                                        0.0\n",
       "I agree to pay the amount through cheque    0.0\n",
       "A free copy of Mastering The Interview      0.0\n",
       "Last Notable Activity                       0.0\n",
       "dtype: float64"
      ]
     },
     "execution_count": 2711,
     "metadata": {},
     "output_type": "execute_result"
    }
   ],
   "source": [
    "100*df.isnull().sum()/len(df)"
   ]
  },
  {
   "cell_type": "markdown",
   "id": "601bfd2f-1b44-498d-bcfc-dc3f7b5a6164",
   "metadata": {},
   "source": [
    "## Step 2: Handling Incorrect Entries"
   ]
  },
  {
   "cell_type": "code",
   "execution_count": 2713,
   "id": "58c954ab-6bc0-49ae-b450-b5db44cc23f9",
   "metadata": {},
   "outputs": [
    {
     "name": "stdout",
     "output_type": "stream",
     "text": [
      "\n",
      "________________\n",
      "col name: Prospect ID\n",
      "_______________\n",
      "\n",
      "['7927b2df-8bba-4d29-b9a2-b6e0beafe620'\n",
      " '2a272436-5132-4136-86fa-dcc88c88f482'\n",
      " '8cc8c611-a219-4f35-ad23-fdfd2656bd8a' ...\n",
      " 'aac550fe-a586-452d-8d3c-f1b62c94e02c'\n",
      " '5330a7d1-2f2b-4df4-85d6-64ca2f6b95b9'\n",
      " '571b5c8e-a5b2-4d57-8574-f2ffb06fdeff']\n",
      "\n",
      "________________\n",
      "col name: Lead Number\n",
      "_______________\n",
      "\n",
      "[660737 660728 660727 ... 579545 579538 579533]\n",
      "\n",
      "________________\n",
      "col name: Lead Origin\n",
      "_______________\n",
      "\n",
      "['API' 'Landing Page Submission' 'Lead Add Form' 'Lead Import']\n",
      "\n",
      "________________\n",
      "col name: Lead Source\n",
      "_______________\n",
      "\n",
      "['Olark Chat' 'Organic Search' 'Direct Traffic' 'Google' 'Referral Sites'\n",
      " 'Reference' 'Welingak Website' 'Social Media' 'Others']\n",
      "\n",
      "________________\n",
      "col name: Do Not Email\n",
      "_______________\n",
      "\n",
      "['No' 'Yes']\n",
      "\n",
      "________________\n",
      "col name: Do Not Call\n",
      "_______________\n",
      "\n",
      "['No' 'Yes']\n",
      "\n",
      "________________\n",
      "col name: Converted\n",
      "_______________\n",
      "\n",
      "[0 1]\n",
      "\n",
      "________________\n",
      "col name: TotalVisits\n",
      "_______________\n",
      "\n",
      "[  0.   5.   2.   1.   4.   8.  11.   6.   3.   7.  13.  17.   9.  12.\n",
      "  10.  16.  14.  21.  15.  22.  19.  18.  20.  43.  30.  23.  55. 141.\n",
      "  25.  27.  29.  24.  28.  26.  74.  41.  54. 115. 251.  32.  42.]\n",
      "\n",
      "________________\n",
      "col name: Total Time Spent on Website\n",
      "_______________\n",
      "\n",
      "[   0  674 1532 ...  603  483  927]\n",
      "\n",
      "________________\n",
      "col name: Page Views Per Visit\n",
      "_______________\n",
      "\n",
      "[ 0.    2.5   2.    1.    4.    8.    2.67 11.    5.    6.    3.    1.33\n",
      "  1.5   3.5   7.    2.33 13.    8.5   5.5   1.67  4.5   3.33 16.   12.\n",
      "  1.71  1.8   6.5   4.33 14.    3.4  10.    1.25  1.75  2.63 15.    2.25\n",
      "  3.67  1.43  9.    2.6   4.75  1.27  3.25  5.33  2.57  2.17  2.75  2.8\n",
      "  2.2   2.86  3.91  1.4   5.67  3.2   1.38  2.09  2.4  55.    5.25  6.71\n",
      "  3.57  2.22  1.83  3.6   1.2   1.57  1.56  5.4   4.25  1.31  1.6   2.9\n",
      "  1.23  1.78  3.83  7.5   1.14  2.71  1.45  2.38  1.86  2.29  1.21 12.33\n",
      "  3.43  2.56  6.33  1.64  8.21  4.4   3.17  8.33  1.48  1.22 24.    3.75\n",
      "  6.67  1.54  2.13  2.14  2.45  3.29  4.17  1.63  3.38  1.17 14.5   3.8\n",
      "  1.19  3.82  2.83  1.93 11.5   2.08]\n",
      "\n",
      "________________\n",
      "col name: Last Activity\n",
      "_______________\n",
      "\n",
      "['Page Visited on Website' 'Email Opened' 'Others' 'Converted to Lead'\n",
      " 'Olark Chat Conversation' 'Email Bounced' 'Email Link Clicked'\n",
      " 'Form Submitted on Website' 'SMS Sent']\n",
      "\n",
      "________________\n",
      "col name: Specialization\n",
      "_______________\n",
      "\n",
      "['Available' 'Business Administration' 'Media and Advertising'\n",
      " 'Not Available' 'Management_Specializations' 'Travel and Tourism'\n",
      " 'Banking, Investment And Insurance' 'International Business' 'E-COMMERCE'\n",
      " 'Services Excellence' 'Rural and Agribusiness' 'E-Business']\n",
      "\n",
      "________________\n",
      "col name: What is your current occupation\n",
      "_______________\n",
      "\n",
      "['Unemployed' 'Student' 'Working Professional' 'Businessman' 'Other'\n",
      " 'Housewife']\n",
      "\n",
      "________________\n",
      "col name: Search\n",
      "_______________\n",
      "\n",
      "['No' 'Yes']\n",
      "\n",
      "________________\n",
      "col name: Magazine\n",
      "_______________\n",
      "\n",
      "['No']\n",
      "\n",
      "________________\n",
      "col name: Newspaper Article\n",
      "_______________\n",
      "\n",
      "['No' 'Yes']\n",
      "\n",
      "________________\n",
      "col name: X Education Forums\n",
      "_______________\n",
      "\n",
      "['No' 'Yes']\n",
      "\n",
      "________________\n",
      "col name: Newspaper\n",
      "_______________\n",
      "\n",
      "['No' 'Yes']\n",
      "\n",
      "________________\n",
      "col name: Digital Advertisement\n",
      "_______________\n",
      "\n",
      "['No' 'Yes']\n",
      "\n",
      "________________\n",
      "col name: Through Recommendations\n",
      "_______________\n",
      "\n",
      "['No' 'Yes']\n",
      "\n",
      "________________\n",
      "col name: Receive More Updates About Our Courses\n",
      "_______________\n",
      "\n",
      "['No']\n",
      "\n",
      "________________\n",
      "col name: Tags\n",
      "_______________\n",
      "\n",
      "['Interested in other courses' 'Ringing'\n",
      " 'Will revert after reading the email' 'Not Available' 'Lost to EINS'\n",
      " 'Other_Tags' 'Busy' 'switched off' 'Already a student'\n",
      " 'Closed by Horizzon']\n",
      "\n",
      "________________\n",
      "col name: Update me on Supply Chain Content\n",
      "_______________\n",
      "\n",
      "['No']\n",
      "\n",
      "________________\n",
      "col name: Get updates on DM Content\n",
      "_______________\n",
      "\n",
      "['No']\n",
      "\n",
      "________________\n",
      "col name: City\n",
      "_______________\n",
      "\n",
      "['Mumbai' 'Thane & Outskirts' 'Other Metro Cities' 'Other Cities'\n",
      " 'Other Cities of Maharashtra' 'Tier II Cities']\n",
      "\n",
      "________________\n",
      "col name: I agree to pay the amount through cheque\n",
      "_______________\n",
      "\n",
      "['No']\n",
      "\n",
      "________________\n",
      "col name: A free copy of Mastering The Interview\n",
      "_______________\n",
      "\n",
      "['No' 'Yes']\n",
      "\n",
      "________________\n",
      "col name: Last Notable Activity\n",
      "_______________\n",
      "\n",
      "['Modified' 'Email Opened' 'Page Visited on Website' 'Email Bounced'\n",
      " 'Email Link Clicked' 'Unreachable' 'Unsubscribed'\n",
      " 'Had a Phone Conversation' 'Olark Chat Conversation' 'SMS Sent'\n",
      " 'Approached upfront' 'Resubscribed to emails'\n",
      " 'View in browser link Clicked' 'Form Submitted on Website'\n",
      " 'Email Received' 'Email Marked Spam']\n"
     ]
    }
   ],
   "source": [
    "for col in df.columns:\n",
    "    print(f\"\\n________________\\ncol name: {col}\\n_______________\\n\")\n",
    "    print(df[col].unique())"
   ]
  },
  {
   "cell_type": "markdown",
   "id": "cda91ceb-7032-4211-a2bd-978631645a7b",
   "metadata": {},
   "source": [
    "Analysis"
   ]
  },
  {
   "cell_type": "markdown",
   "id": "e917283a-4f70-4efb-bf6d-9c519d10b5b4",
   "metadata": {},
   "source": [
    "Columns - Magazine, X Education Forums, Receive More Updates About Our Courses, Update me on Supply Chain Content, Get updates on DM Content, I agree to pay the amount through cheque - have only one value , No. This will not contribute to the analysis and the columns can be dropped.\n"
   ]
  },
  {
   "cell_type": "markdown",
   "id": "c2347cd9-14db-4789-84d4-c66cddbb313f",
   "metadata": {},
   "source": [
    "Columns - Do not Email, Do not Call, Search,  Newspaper Article, Newspaper, Digital Advertisement, Through Recommendations, A free copy of Mastering The Interview - have Yes and No values. These need to be converted to binary - 0 (No) and 1 (Yes)."
   ]
  },
  {
   "cell_type": "code",
   "execution_count": 2717,
   "id": "e1bae907-f9b6-4250-9814-9610a6bce696",
   "metadata": {},
   "outputs": [],
   "source": [
    "select = ['Specialization','City']\n",
    "only_no = ['Magazine','X Education Forums','Receive More Updates About Our Courses', 'Update me on Supply Chain Content','Get updates on DM Content','I agree to pay the amount through cheque']\n",
    "yes_and_no = ['Do Not Email','Do Not Call','Search','Newspaper Article', 'Newspaper','Digital Advertisement', 'Through Recommendations','A free copy of Mastering The Interview']"
   ]
  },
  {
   "cell_type": "markdown",
   "id": "742fe160-a073-4f88-9b9a-cad92c897851",
   "metadata": {},
   "source": [
    "### 2.1 Dropping columns with No values"
   ]
  },
  {
   "cell_type": "code",
   "execution_count": 2719,
   "id": "1ab09f5e-f8f9-40c2-95ae-b7fe6ddc137e",
   "metadata": {},
   "outputs": [],
   "source": [
    "df = df.drop(only_no,axis=1)\n"
   ]
  },
  {
   "cell_type": "markdown",
   "id": "6f450b95-2142-4be0-9645-16bbffc60e84",
   "metadata": {},
   "source": [
    "### 2.2 Handling columns with select values"
   ]
  },
  {
   "cell_type": "code",
   "execution_count": 2721,
   "id": "d9db1735-8711-4287-a7d4-7fcc8a28266a",
   "metadata": {},
   "outputs": [
    {
     "data": {
      "image/png": "[encoded data removed]",
      "text/plain": [
       "<Figure size 640x480 with 1 Axes>"
      ]
     },
     "metadata": {},
     "output_type": "display_data"
    },
    {
     "data": {
      "image/png": "[encoded data removed]",
      "text/plain": [
       "<Figure size 640x480 with 1 Axes>"
      ]
     },
     "metadata": {},
     "output_type": "display_data"
    }
   ],
   "source": [
    "for col in select:\n",
    "    df[col].value_counts().plot(kind='barh',title=f'Value counts in {col}')\n",
    "    plt.show()"
   ]
  },
  {
   "cell_type": "markdown",
   "id": "b51c5377-67be-45ab-a42c-e45a5426b742",
   "metadata": {},
   "source": [
    "### 2.3 Converting Yes/ No columns to binary values"
   ]
  },
  {
   "cell_type": "code",
   "execution_count": 2723,
   "id": "9bc83c63-4890-4ca9-9ace-77fb10ae2846",
   "metadata": {},
   "outputs": [],
   "source": [
    "yes_and_no = ['Do Not Email','Do Not Call','Search','Newspaper Article', 'Newspaper','Digital Advertisement', 'Through Recommendations','A free copy of Mastering The Interview']"
   ]
  },
  {
   "cell_type": "code",
   "execution_count": 2724,
   "id": "387ae9cd-576f-45ad-8841-096a70c124f8",
   "metadata": {},
   "outputs": [],
   "source": [
    "df[yes_and_no] = df[yes_and_no].replace(\"Yes\",1).replace(\"No\",0)"
   ]
  },
  {
   "cell_type": "code",
   "execution_count": 2725,
   "id": "8713ce51-0b5e-4aaf-a0d7-feb7fe8a0fbd",
   "metadata": {},
   "outputs": [
    {
     "data": {
      "text/html": [
       "<div>\n",
       "<style scoped>\n",
       "    .dataframe tbody tr th:only-of-type {\n",
       "        vertical-align: middle;\n",
       "    }\n",
       "\n",
       "    .dataframe tbody tr th {\n",
       "        vertical-align: top;\n",
       "    }\n",
       "\n",
       "    .dataframe thead th {\n",
       "        text-align: right;\n",
       "    }\n",
       "</style>\n",
       "<table border=\"1\" class=\"dataframe\">\n",
       "  <thead>\n",
       "    <tr style=\"text-align: right;\">\n",
       "      <th></th>\n",
       "      <th>Prospect ID</th>\n",
       "      <th>Lead Number</th>\n",
       "      <th>Lead Origin</th>\n",
       "      <th>Lead Source</th>\n",
       "      <th>Do Not Email</th>\n",
       "      <th>Do Not Call</th>\n",
       "      <th>Converted</th>\n",
       "      <th>TotalVisits</th>\n",
       "      <th>Total Time Spent on Website</th>\n",
       "      <th>Page Views Per Visit</th>\n",
       "      <th>...</th>\n",
       "      <th>What is your current occupation</th>\n",
       "      <th>Search</th>\n",
       "      <th>Newspaper Article</th>\n",
       "      <th>Newspaper</th>\n",
       "      <th>Digital Advertisement</th>\n",
       "      <th>Through Recommendations</th>\n",
       "      <th>Tags</th>\n",
       "      <th>City</th>\n",
       "      <th>A free copy of Mastering The Interview</th>\n",
       "      <th>Last Notable Activity</th>\n",
       "    </tr>\n",
       "  </thead>\n",
       "  <tbody>\n",
       "    <tr>\n",
       "      <th>0</th>\n",
       "      <td>7927b2df-8bba-4d29-b9a2-b6e0beafe620</td>\n",
       "      <td>660737</td>\n",
       "      <td>API</td>\n",
       "      <td>Olark Chat</td>\n",
       "      <td>0</td>\n",
       "      <td>0</td>\n",
       "      <td>0</td>\n",
       "      <td>0.0</td>\n",
       "      <td>0</td>\n",
       "      <td>0.0</td>\n",
       "      <td>...</td>\n",
       "      <td>Unemployed</td>\n",
       "      <td>0</td>\n",
       "      <td>0</td>\n",
       "      <td>0</td>\n",
       "      <td>0</td>\n",
       "      <td>0</td>\n",
       "      <td>Interested in other courses</td>\n",
       "      <td>Mumbai</td>\n",
       "      <td>0</td>\n",
       "      <td>Modified</td>\n",
       "    </tr>\n",
       "    <tr>\n",
       "      <th>1</th>\n",
       "      <td>2a272436-5132-4136-86fa-dcc88c88f482</td>\n",
       "      <td>660728</td>\n",
       "      <td>API</td>\n",
       "      <td>Organic Search</td>\n",
       "      <td>0</td>\n",
       "      <td>0</td>\n",
       "      <td>0</td>\n",
       "      <td>5.0</td>\n",
       "      <td>674</td>\n",
       "      <td>2.5</td>\n",
       "      <td>...</td>\n",
       "      <td>Unemployed</td>\n",
       "      <td>0</td>\n",
       "      <td>0</td>\n",
       "      <td>0</td>\n",
       "      <td>0</td>\n",
       "      <td>0</td>\n",
       "      <td>Ringing</td>\n",
       "      <td>Mumbai</td>\n",
       "      <td>0</td>\n",
       "      <td>Email Opened</td>\n",
       "    </tr>\n",
       "    <tr>\n",
       "      <th>2</th>\n",
       "      <td>8cc8c611-a219-4f35-ad23-fdfd2656bd8a</td>\n",
       "      <td>660727</td>\n",
       "      <td>Landing Page Submission</td>\n",
       "      <td>Direct Traffic</td>\n",
       "      <td>0</td>\n",
       "      <td>0</td>\n",
       "      <td>1</td>\n",
       "      <td>2.0</td>\n",
       "      <td>1532</td>\n",
       "      <td>2.0</td>\n",
       "      <td>...</td>\n",
       "      <td>Student</td>\n",
       "      <td>0</td>\n",
       "      <td>0</td>\n",
       "      <td>0</td>\n",
       "      <td>0</td>\n",
       "      <td>0</td>\n",
       "      <td>Will revert after reading the email</td>\n",
       "      <td>Mumbai</td>\n",
       "      <td>1</td>\n",
       "      <td>Email Opened</td>\n",
       "    </tr>\n",
       "    <tr>\n",
       "      <th>3</th>\n",
       "      <td>0cc2df48-7cf4-4e39-9de9-19797f9b38cc</td>\n",
       "      <td>660719</td>\n",
       "      <td>Landing Page Submission</td>\n",
       "      <td>Direct Traffic</td>\n",
       "      <td>0</td>\n",
       "      <td>0</td>\n",
       "      <td>0</td>\n",
       "      <td>1.0</td>\n",
       "      <td>305</td>\n",
       "      <td>1.0</td>\n",
       "      <td>...</td>\n",
       "      <td>Unemployed</td>\n",
       "      <td>0</td>\n",
       "      <td>0</td>\n",
       "      <td>0</td>\n",
       "      <td>0</td>\n",
       "      <td>0</td>\n",
       "      <td>Ringing</td>\n",
       "      <td>Mumbai</td>\n",
       "      <td>0</td>\n",
       "      <td>Modified</td>\n",
       "    </tr>\n",
       "    <tr>\n",
       "      <th>4</th>\n",
       "      <td>3256f628-e534-4826-9d63-4a8b88782852</td>\n",
       "      <td>660681</td>\n",
       "      <td>Landing Page Submission</td>\n",
       "      <td>Google</td>\n",
       "      <td>0</td>\n",
       "      <td>0</td>\n",
       "      <td>1</td>\n",
       "      <td>2.0</td>\n",
       "      <td>1428</td>\n",
       "      <td>1.0</td>\n",
       "      <td>...</td>\n",
       "      <td>Unemployed</td>\n",
       "      <td>0</td>\n",
       "      <td>0</td>\n",
       "      <td>0</td>\n",
       "      <td>0</td>\n",
       "      <td>0</td>\n",
       "      <td>Will revert after reading the email</td>\n",
       "      <td>Mumbai</td>\n",
       "      <td>0</td>\n",
       "      <td>Modified</td>\n",
       "    </tr>\n",
       "  </tbody>\n",
       "</table>\n",
       "<p>5 rows × 22 columns</p>\n",
       "</div>"
      ],
      "text/plain": [
       "                            Prospect ID  Lead Number              Lead Origin  \\\n",
       "0  7927b2df-8bba-4d29-b9a2-b6e0beafe620       660737                      API   \n",
       "1  2a272436-5132-4136-86fa-dcc88c88f482       660728                      API   \n",
       "2  8cc8c611-a219-4f35-ad23-fdfd2656bd8a       660727  Landing Page Submission   \n",
       "3  0cc2df48-7cf4-4e39-9de9-19797f9b38cc       660719  Landing Page Submission   \n",
       "4  3256f628-e534-4826-9d63-4a8b88782852       660681  Landing Page Submission   \n",
       "\n",
       "      Lead Source  Do Not Email  Do Not Call  Converted  TotalVisits  \\\n",
       "0      Olark Chat             0            0          0          0.0   \n",
       "1  Organic Search             0            0          0          5.0   \n",
       "2  Direct Traffic             0            0          1          2.0   \n",
       "3  Direct Traffic             0            0          0          1.0   \n",
       "4          Google             0            0          1          2.0   \n",
       "\n",
       "   Total Time Spent on Website  Page Views Per Visit  ...  \\\n",
       "0                            0                   0.0  ...   \n",
       "1                          674                   2.5  ...   \n",
       "2                         1532                   2.0  ...   \n",
       "3                          305                   1.0  ...   \n",
       "4                         1428                   1.0  ...   \n",
       "\n",
       "  What is your current occupation Search Newspaper Article  Newspaper  \\\n",
       "0                      Unemployed      0                 0          0   \n",
       "1                      Unemployed      0                 0          0   \n",
       "2                         Student      0                 0          0   \n",
       "3                      Unemployed      0                 0          0   \n",
       "4                      Unemployed      0                 0          0   \n",
       "\n",
       "   Digital Advertisement  Through Recommendations  \\\n",
       "0                      0                        0   \n",
       "1                      0                        0   \n",
       "2                      0                        0   \n",
       "3                      0                        0   \n",
       "4                      0                        0   \n",
       "\n",
       "                                  Tags    City  \\\n",
       "0          Interested in other courses  Mumbai   \n",
       "1                              Ringing  Mumbai   \n",
       "2  Will revert after reading the email  Mumbai   \n",
       "3                              Ringing  Mumbai   \n",
       "4  Will revert after reading the email  Mumbai   \n",
       "\n",
       "  A free copy of Mastering The Interview Last Notable Activity  \n",
       "0                                      0              Modified  \n",
       "1                                      0          Email Opened  \n",
       "2                                      1          Email Opened  \n",
       "3                                      0              Modified  \n",
       "4                                      0              Modified  \n",
       "\n",
       "[5 rows x 22 columns]"
      ]
     },
     "execution_count": 2725,
     "metadata": {},
     "output_type": "execute_result"
    }
   ],
   "source": [
    "df.head()"
   ]
  },
  {
   "cell_type": "code",
   "execution_count": 2726,
   "id": "1eb825d7-4159-43bb-9ac6-a79757467c58",
   "metadata": {},
   "outputs": [
    {
     "name": "stdout",
     "output_type": "stream",
     "text": [
      "<class 'pandas.core.frame.DataFrame'>\n",
      "Index: 9103 entries, 0 to 9239\n",
      "Data columns (total 22 columns):\n",
      " #   Column                                  Non-Null Count  Dtype  \n",
      "---  ------                                  --------------  -----  \n",
      " 0   Prospect ID                             9103 non-null   object \n",
      " 1   Lead Number                             9103 non-null   int64  \n",
      " 2   Lead Origin                             9103 non-null   object \n",
      " 3   Lead Source                             9103 non-null   object \n",
      " 4   Do Not Email                            9103 non-null   int64  \n",
      " 5   Do Not Call                             9103 non-null   int64  \n",
      " 6   Converted                               9103 non-null   int64  \n",
      " 7   TotalVisits                             9103 non-null   float64\n",
      " 8   Total Time Spent on Website             9103 non-null   int64  \n",
      " 9   Page Views Per Visit                    9103 non-null   float64\n",
      " 10  Last Activity                           9103 non-null   object \n",
      " 11  Specialization                          9103 non-null   object \n",
      " 12  What is your current occupation         9103 non-null   object \n",
      " 13  Search                                  9103 non-null   int64  \n",
      " 14  Newspaper Article                       9103 non-null   int64  \n",
      " 15  Newspaper                               9103 non-null   int64  \n",
      " 16  Digital Advertisement                   9103 non-null   int64  \n",
      " 17  Through Recommendations                 9103 non-null   int64  \n",
      " 18  Tags                                    9103 non-null   object \n",
      " 19  City                                    9103 non-null   object \n",
      " 20  A free copy of Mastering The Interview  9103 non-null   int64  \n",
      " 21  Last Notable Activity                   9103 non-null   object \n",
      "dtypes: float64(2), int64(11), object(9)\n",
      "memory usage: 1.6+ MB\n"
     ]
    }
   ],
   "source": [
    "df.info()"
   ]
  },
  {
   "cell_type": "code",
   "execution_count": 2727,
   "id": "fc81fd54-a955-4ae9-a9d3-bcf9103dc03f",
   "metadata": {},
   "outputs": [
    {
     "data": {
      "text/plain": [
       "Converted\n",
       "0    5642\n",
       "1    3461\n",
       "Name: count, dtype: int64"
      ]
     },
     "execution_count": 2727,
     "metadata": {},
     "output_type": "execute_result"
    }
   ],
   "source": [
    "df.Converted.value_counts()"
   ]
  },
  {
   "cell_type": "markdown",
   "id": "833814ae-23c4-4d65-b643-98f7f60fd72d",
   "metadata": {},
   "source": [
    "### Step 3: Exploratory Data Analysis (EDA)\n"
   ]
  },
  {
   "cell_type": "markdown",
   "id": "4091a426-5bd5-4005-8643-3b52004c9f83",
   "metadata": {},
   "source": [
    "Checking relationship of converted leads with Lead Origin and Lead Source attributes"
   ]
  },
  {
   "cell_type": "code",
   "execution_count": 2730,
   "id": "20c82a15-040e-40c8-9161-ef1a3e61a3c6",
   "metadata": {},
   "outputs": [
    {
     "data": {
      "image/png": "[encoded data removed]",
      "text/plain": [
       "<Figure size 1800x600 with 2 Axes>"
      ]
     },
     "metadata": {},
     "output_type": "display_data"
    }
   ],
   "source": [
    "# Setting up the subplot for a 1x2 layout\n",
    "fig, axes = plt.subplots(1, 2, figsize=(18, 6))\n",
    "\n",
    "# Conversions for Lead Origin\n",
    "lead_origin_conversion = df.groupby('Lead Origin')['Converted'].mean().sort_values(ascending=False)\n",
    "sns.barplot(x=lead_origin_conversion.index, y=lead_origin_conversion.values, ax=axes[0])\n",
    "axes[0].set_title('Lead Conversion Rate by Lead Origin')\n",
    "axes[0].set_xlabel('Lead Origin')\n",
    "axes[0].set_ylabel('Conversion Rate')\n",
    "axes[0].tick_params(axis='x', rotation=45)\n",
    "\n",
    "# Conversions for Lead Source\n",
    "lead_source_conversion = df.groupby('Lead Source')['Converted'].mean().sort_values(ascending=False)\n",
    "sns.barplot(x=lead_source_conversion.index, y=lead_source_conversion.values, ax=axes[1])\n",
    "axes[1].set_title('Lead Conversion Rate by Lead Source')\n",
    "axes[1].set_xlabel('Lead Source')\n",
    "axes[1].set_ylabel('Conversion Rate')\n",
    "axes[1].tick_params(axis='x', rotation=45)\n",
    "\n",
    "# Show the plot\n",
    "plt.tight_layout()\n",
    "plt.show()"
   ]
  },
  {
   "cell_type": "markdown",
   "id": "592a02a1-1c0c-4916-95a9-4af333f052fd",
   "metadata": {},
   "source": [
    "Lead Origin identifier from Lead Add Form has the best conversion rate followed by API. \n",
    "Conversion rate is extremely good for lead source as Welingank Sites and References. Social Media / Google are not that effective source of lead"
   ]
  },
  {
   "cell_type": "markdown",
   "id": "a401814a-4a25-490a-82ab-d277d1ac9cdc",
   "metadata": {},
   "source": [
    "Lets find conversion rate relationship with user attributes like Country, Specialization, Current Occupation, City"
   ]
  },
  {
   "cell_type": "code",
   "execution_count": 2733,
   "id": "4b2d0b64-1339-4bc1-af37-924c51449365",
   "metadata": {},
   "outputs": [
    {
     "data": {
      "image/png": "[encoded data removed]",
      "text/plain": [
       "<Figure size 900x1800 with 3 Axes>"
      ]
     },
     "metadata": {},
     "output_type": "display_data"
    }
   ],
   "source": [
    "# Setting up the subplot for a 3x1 layout\n",
    "fig, axes = plt.subplots(3, 1, figsize=(9, 18))\n",
    "\n",
    "# Conversions for Specialization\n",
    "specialization_conversion = df.groupby('Specialization')['Converted'].mean().sort_values(ascending=False)\n",
    "sns.barplot(x=specialization_conversion.index, y= specialization_conversion.values, ax=axes[0])\n",
    "axes[0].set_title('Lead Conversion Rate by Specialization')\n",
    "axes[0].set_xlabel('Specialization')\n",
    "axes[0].set_ylabel('Conversion Rate')\n",
    "axes[0].tick_params(axis='x', rotation=90)\n",
    "\n",
    "# Conversions for City\n",
    "city_conversion = df.groupby('City')['Converted'].mean().sort_values(ascending=False)\n",
    "sns.barplot(x=city_conversion.index, y= city_conversion.values, ax=axes[1])\n",
    "axes[1].set_title('Lead Conversion Rate by City')\n",
    "axes[1].set_xlabel('City')\n",
    "axes[1].set_ylabel('Conversion Rate')\n",
    "axes[1].tick_params(axis='x', rotation=90)\n",
    "\n",
    "# Conversions for Current Occupation\n",
    "occupation_conversion = df.groupby('What is your current occupation')['Converted'].mean().sort_values(ascending=False)\n",
    "sns.barplot(x= occupation_conversion.index, y= occupation_conversion.values, ax=axes[2])\n",
    "axes[2].set_title('Lead Conversion Rate by Current Occupation')\n",
    "axes[2].set_xlabel('Current Occupation')\n",
    "axes[2].set_ylabel('Conversion Rate')\n",
    "axes[2].tick_params(axis='x', rotation=90)\n",
    "\n",
    "# Show the plot\n",
    "plt.tight_layout()\n",
    "plt.show()"
   ]
  },
  {
   "cell_type": "markdown",
   "id": "405b1f48-4d1f-43d1-811e-17cc6f7fbe38",
   "metadata": {},
   "source": [
    "Lead Conversions are higher in case of House wife and Working Professionals in the domain of Management and Banking/Finance mostly. Students and Unemployed status respondents are less likely to convert. Within India, no specific city/area shows better conversion rate"
   ]
  },
  {
   "cell_type": "markdown",
   "id": "85066088-6f8a-4a03-8c12-4eaeaf16afd5",
   "metadata": {},
   "source": [
    "Let us find relationship between conversion rate and User browsing pattern"
   ]
  },
  {
   "cell_type": "code",
   "execution_count": 2736,
   "id": "c2b7f58e-9a53-40b8-b8c5-bfdd87f75f78",
   "metadata": {},
   "outputs": [
    {
     "data": {
      "image/png": "[encoded data removed]",
      "text/plain": [
       "<Figure size 1800x600 with 2 Axes>"
      ]
     },
     "metadata": {},
     "output_type": "display_data"
    }
   ],
   "source": [
    "# Setting up the subplot for a 1x2 layout\n",
    "fig, axes = plt.subplots(1, 2, figsize=(18, 6))\n",
    "\n",
    "# Conversions for Total visits\n",
    "total_visits_conversion = df.groupby('Converted')['TotalVisits'].mean().sort_values(ascending=False)\n",
    "sns.barplot(x= total_visits_conversion.index, y= total_visits_conversion.values, ax=axes[0])\n",
    "axes[0].set_title('Lead Conversion Rate by Total Visits')\n",
    "axes[0].set_xlabel('Conversion Rate')\n",
    "axes[0].set_ylabel('Total Visits')\n",
    "axes[0].tick_params(axis='x', rotation=0)\n",
    "\n",
    "\n",
    "# Conversions for Total Time Spent on Website\n",
    "total_time_spent_conversion = df.groupby('Converted')['Total Time Spent on Website'].mean().sort_values(ascending=False)\n",
    "sns.barplot(x= total_time_spent_conversion.index, y= total_time_spent_conversion.values, ax=axes[1])\n",
    "axes[1].set_title('Lead Conversion Rate by Total Time Spent on Website')\n",
    "axes[1].set_xlabel('Conversion Rate')\n",
    "axes[1].set_ylabel('Total Time Spent on Website')\n",
    "axes[1].tick_params(axis='x', rotation=0)\n",
    "\n",
    "# Show the plot\n",
    "plt.tight_layout()\n",
    "plt.show()"
   ]
  },
  {
   "cell_type": "markdown",
   "id": "31964e5d-2195-4a60-b7fe-9c918330d868",
   "metadata": {},
   "source": [
    "It is clear that conversion rate is high for users who visit 5 or more number of times. If the user have spent more time on the website, conversion rate improves"
   ]
  },
  {
   "cell_type": "code",
   "execution_count": 2738,
   "id": "5484d02a-8531-422b-8f3b-aa1f3a25803c",
   "metadata": {},
   "outputs": [
    {
     "data": {
      "image/png": "[encoded data removed]",
      "text/plain": [
       "<Figure size 1800x600 with 1 Axes>"
      ]
     },
     "metadata": {},
     "output_type": "display_data"
    }
   ],
   "source": [
    "# Setting up the subplot for a 1x1 layout\n",
    "fig, axes = plt.subplots(1, 1, figsize=(18, 6))\n",
    "\n",
    "# Conversions for Page Views Per Visit\n",
    "page_view_visit_conversion = df.groupby('Converted')['Page Views Per Visit'].mean().sort_values(ascending=False)\n",
    "sns.barplot(x= page_view_visit_conversion.index, y= page_view_visit_conversion.values)\n",
    "axes.set_title('Lead Conversion Rate by Page Views Per Visit')\n",
    "axes.set_xlabel('Conversion Rate')\n",
    "axes.set_ylabel('Page Views Per Visit')\n",
    "axes.tick_params(axis='x', rotation=0)\n",
    "\n",
    "# Show the plot\n",
    "plt.tight_layout()\n",
    "plt.show()"
   ]
  },
  {
   "cell_type": "markdown",
   "id": "26958d1a-f4ff-418a-b74e-994d32257b58",
   "metadata": {},
   "source": [
    "Page views per visit is not impact conversion rate"
   ]
  },
  {
   "cell_type": "code",
   "execution_count": 2740,
   "id": "9bc0037e-0870-4165-a967-121c3bf75c09",
   "metadata": {},
   "outputs": [
    {
     "data": {
      "text/plain": [
       "Index(['Prospect ID', 'Lead Number', 'Lead Origin', 'Lead Source',\n",
       "       'Do Not Email', 'Do Not Call', 'Converted', 'TotalVisits',\n",
       "       'Total Time Spent on Website', 'Page Views Per Visit', 'Last Activity',\n",
       "       'Specialization', 'What is your current occupation', 'Search',\n",
       "       'Newspaper Article', 'Newspaper', 'Digital Advertisement',\n",
       "       'Through Recommendations', 'Tags', 'City',\n",
       "       'A free copy of Mastering The Interview', 'Last Notable Activity'],\n",
       "      dtype='object')"
      ]
     },
     "execution_count": 2740,
     "metadata": {},
     "output_type": "execute_result"
    }
   ],
   "source": [
    "df.columns"
   ]
  },
  {
   "cell_type": "markdown",
   "id": "56c2cc22-759e-4550-b59b-c019bff0aa9c",
   "metadata": {},
   "source": [
    "Conversion rate based on Activity"
   ]
  },
  {
   "cell_type": "code",
   "execution_count": 2742,
   "id": "5383b031-e355-4233-95ca-66823f43ec2d",
   "metadata": {},
   "outputs": [
    {
     "data": {
      "image/png": "[encoded data removed]",
      "text/plain": [
       "<Figure size 1500x600 with 2 Axes>"
      ]
     },
     "metadata": {},
     "output_type": "display_data"
    },
    {
     "data": {
      "image/png": "[encoded data removed]",
      "text/plain": [
       "<Figure size 1200x600 with 2 Axes>"
      ]
     },
     "metadata": {},
     "output_type": "display_data"
    }
   ],
   "source": [
    "# Top 10 Last Activities by Conversion Rate\n",
    "top_10_last_activity = df.groupby('Last Activity')['Converted'].mean().sort_values(ascending=False).head(10).reset_index()\n",
    "\n",
    "# Top 10 Last Notable Activities by Conversion Rate\n",
    "top_10_last_notable_activity = df.groupby('Last Notable Activity')['Converted'].mean().sort_values(ascending=False).head(10).reset_index()\n",
    "\n",
    "# Conversion Rates for 'Do Not Email' and 'Do Not Call'\n",
    "do_not_email_conversion = df.groupby('Do Not Email')['Converted'].mean().reset_index()\n",
    "do_not_call_conversion = df.groupby('Do Not Call')['Converted'].mean().reset_index()\n",
    "\n",
    "# Plotting Top 10 Last Activities and Last Notable Activities\n",
    "fig, axes = plt.subplots(1, 2, figsize=(15, 6))\n",
    "\n",
    "# Plot for Last Activity\n",
    "sns.barplot(data=top_10_last_activity, x='Converted', y='Last Activity', ax=axes[0])\n",
    "axes[0].set_title('Top 10 Last Activities by Conversion Rate')\n",
    "axes[0].set_xlabel('Conversion Rate')\n",
    "axes[0].set_ylabel('Last Activity')\n",
    "\n",
    "# Plot for Last Notable Activity\n",
    "sns.barplot(data=top_10_last_notable_activity, x='Converted', y='Last Notable Activity', ax=axes[1])\n",
    "axes[1].set_title('Top 10 Last Notable Activities by Conversion Rate')\n",
    "axes[1].set_xlabel('Conversion Rate')\n",
    "axes[1].set_ylabel('Last Notable Activity')\n",
    "\n",
    "plt.tight_layout()\n",
    "plt.show()\n",
    "\n",
    "# Plotting 'Do Not Email' and 'Do Not Call' Conversion Rates\n",
    "fig, axes = plt.subplots(1, 2, figsize=(12, 6))\n",
    "\n",
    "# Do Not Email\n",
    "sns.barplot(data=do_not_email_conversion, x='Do Not Email', y='Converted', ax=axes[0])\n",
    "axes[0].set_title('Conversion Rate for \"Do Not Email\"')\n",
    "axes[0].set_xlabel('Do Not Email (0 = No, 1 = Yes)')\n",
    "axes[0].set_ylabel('Conversion Rate')\n",
    "\n",
    "# Do Not Call\n",
    "sns.barplot(data=do_not_call_conversion, x='Do Not Call', y='Converted', ax=axes[1])\n",
    "axes[1].set_title('Conversion Rate for \"Do Not Call\"')\n",
    "axes[1].set_xlabel('Do Not Call (0 = No, 1 = Yes)')\n",
    "axes[1].set_ylabel('Conversion Rate')\n",
    "\n",
    "plt.tight_layout()\n",
    "plt.show()"
   ]
  },
  {
   "cell_type": "markdown",
   "id": "43baf20b-b60f-4808-9515-9ea96c48b32e",
   "metadata": {},
   "source": [
    "We can see that a lead is more likely to be converted when they are contacted either through email, or approached in person. Phone conversations come very close to the top and can be looked at when there is additional support"
   ]
  },
  {
   "cell_type": "markdown",
   "id": "721ad121-5a16-4898-b199-67fcae1a52e5",
   "metadata": {},
   "source": [
    "Conversion rate and Customer Preference"
   ]
  },
  {
   "cell_type": "markdown",
   "id": "80526bec-8139-462d-897e-c540ffb9d757",
   "metadata": {},
   "source": [
    "This includes factors such as the most important reason for choosing a course, search, exposure to a newspaper article, newspaper, digital advertisements, through recommendations, and the offer of a free copy of \"Mastering The Interview.\""
   ]
  },
  {
   "cell_type": "code",
   "execution_count": 2746,
   "id": "684c1ff4-df4e-43f2-8849-7fd74fec8646",
   "metadata": {},
   "outputs": [
    {
     "data": {
      "image/png": "[encoded data removed]",
      "text/plain": [
       "<Figure size 1400x1000 with 6 Axes>"
      ]
     },
     "metadata": {},
     "output_type": "display_data"
    },
    {
     "data": {
      "image/png": "[encoded data removed]",
      "text/plain": [
       "<Figure size 640x480 with 1 Axes>"
      ]
     },
     "metadata": {},
     "output_type": "display_data"
    }
   ],
   "source": [
    "\n",
    "# Conversion Rate for 'Search'\n",
    "conversion_search = df.groupby('Search')['Converted'].mean().reset_index()\n",
    "\n",
    "# Conversion Rate for 'Newspaper Article'\n",
    "conversion_newspaper_article = df.groupby('Newspaper Article')['Converted'].mean().reset_index()\n",
    "\n",
    "# Conversion Rate for 'Newspaper'\n",
    "conversion_newspaper = df.groupby('Newspaper')['Converted'].mean().reset_index()\n",
    "\n",
    "# Conversion Rate for 'Digital Advertisement'\n",
    "conversion_digital_ad = df.groupby('Digital Advertisement')['Converted'].mean().reset_index()\n",
    "\n",
    "# Conversion Rate for 'Through Recommendations'\n",
    "conversion_recommendations = df.groupby('Through Recommendations')['Converted'].mean().reset_index()\n",
    "\n",
    "# Conversion Rate for 'A free copy of Mastering The Interview'\n",
    "conversion_free_copy = df.groupby('A free copy of Mastering The Interview')['Converted'].mean().reset_index()\n",
    "\n",
    "# Plotting Preferences and Conversion Rates\n",
    "fig, axes = plt.subplots(3, 2, figsize=(14, 10))\n",
    "\n",
    "# Search\n",
    "sns.barplot(data=conversion_search, x='Search', y='Converted', ax=axes[0, 1])\n",
    "axes[0, 1].set_title('Conversion by Search')\n",
    "axes[0, 1].set_xlabel('Conversion Rate')\n",
    "axes[0, 1].set_ylabel('What matters most in choosing a course')\n",
    "\n",
    "# Newspaper Article\n",
    "sns.barplot(data=conversion_newspaper_article, x='Newspaper Article', y='Converted', ax=axes[1, 0])\n",
    "axes[1,0].set_title('Conversion by Newspaper Article Exposure')\n",
    "axes[1,0].set_xlabel('Newspaper Article (0 = No, 1 = Yes)')\n",
    "axes[1,0].set_ylabel('Conversion Rate')\n",
    "\n",
    "# Newspaper\n",
    "sns.barplot(data=conversion_newspaper, x='Newspaper', y='Converted', ax=axes[1, 1])\n",
    "axes[1,1].set_title('Conversion by Newspaper')\n",
    "axes[1,1].set_xlabel('Newspaper(0 = No, 1 = Yes)')\n",
    "axes[1,1].set_ylabel('Conversion Rate')\n",
    "\n",
    "# Digital Advertisement\n",
    "sns.barplot(data=conversion_digital_ad, x='Digital Advertisement', y='Converted', ax=axes[2, 0])\n",
    "axes[2,0].set_title('Conversion by Digital Advertisement Exposure')\n",
    "axes[2,0].set_xlabel('Digital Advertisement (0 = No, 1 = Yes)')\n",
    "axes[2,0].set_ylabel('Conversion Rate')\n",
    "\n",
    "# Through Recommendations\n",
    "sns.barplot(data=conversion_recommendations, x='Through Recommendations', y='Converted', ax=axes[2, 1])\n",
    "axes[2,1].set_title('Conversion by Recommendations')\n",
    "axes[2,1].set_xlabel('Recommendations (0 = No, 1 = Yes)')\n",
    "axes[2,1].set_ylabel('Conversion Rate')\n",
    "\n",
    "# Adjust layout\n",
    "plt.tight_layout()\n",
    "plt.show()\n",
    "\n",
    "# Free Copy of Mastering the Interview\n",
    "sns.barplot(data=conversion_free_copy, x='A free copy of Mastering The Interview', y='Converted')\n",
    "plt.title('Conversion by Free Copy of Mastering The Interview')\n",
    "plt.xlabel('Free Copy (0 = No, 1 = Yes)')\n",
    "plt.ylabel('Conversion Rate')\n",
    "plt.show()\n"
   ]
  },
  {
   "cell_type": "markdown",
   "id": "b91f6c6e-24db-4cf3-889b-1c5307fadf77",
   "metadata": {},
   "source": [
    "Free Copy of Mastering the interview does not exactly have a positive impact on the lead conversion. In fact, newspaper advertisement has not converted any of its leads. Ads in Search also is not yielding in conversion rate. Digital Ads are a mixed bag, while recommendations have positive relation with conversions"
   ]
  },
  {
   "cell_type": "code",
   "execution_count": 2748,
   "id": "b8caf13c-ad14-4adc-9271-e01aed1e2f36",
   "metadata": {},
   "outputs": [
    {
     "data": {
      "text/plain": [
       "Newspaper Article\n",
       "0    9101\n",
       "1       2\n",
       "Name: count, dtype: int64"
      ]
     },
     "execution_count": 2748,
     "metadata": {},
     "output_type": "execute_result"
    }
   ],
   "source": [
    "df['Newspaper Article'].value_counts()"
   ]
  },
  {
   "cell_type": "code",
   "execution_count": 2749,
   "id": "de4d2838-f5c6-4238-8a65-fc058b2f3bb1",
   "metadata": {},
   "outputs": [
    {
     "data": {
      "text/plain": [
       "Newspaper\n",
       "0    9102\n",
       "1       1\n",
       "Name: count, dtype: int64"
      ]
     },
     "execution_count": 2749,
     "metadata": {},
     "output_type": "execute_result"
    }
   ],
   "source": [
    "df['Newspaper'].value_counts()"
   ]
  },
  {
   "cell_type": "code",
   "execution_count": 2750,
   "id": "1a137988-532d-4175-b2d0-978dec929242",
   "metadata": {},
   "outputs": [
    {
     "data": {
      "text/plain": [
       "Search\n",
       "0    9089\n",
       "1      14\n",
       "Name: count, dtype: int64"
      ]
     },
     "execution_count": 2750,
     "metadata": {},
     "output_type": "execute_result"
    }
   ],
   "source": [
    "df['Search'].value_counts()"
   ]
  },
  {
   "cell_type": "code",
   "execution_count": 2751,
   "id": "8fca52bf-157a-4124-8480-0b4d19555a68",
   "metadata": {},
   "outputs": [
    {
     "data": {
      "text/plain": [
       "Digital Advertisement\n",
       "0    9099\n",
       "1       4\n",
       "Name: count, dtype: int64"
      ]
     },
     "execution_count": 2751,
     "metadata": {},
     "output_type": "execute_result"
    }
   ],
   "source": [
    "df['Digital Advertisement'].value_counts()"
   ]
  },
  {
   "cell_type": "code",
   "execution_count": 2752,
   "id": "4da8ed64-b3f8-4b12-bcd3-c89723ee9b40",
   "metadata": {},
   "outputs": [
    {
     "data": {
      "text/plain": [
       "Through Recommendations\n",
       "0    9096\n",
       "1       7\n",
       "Name: count, dtype: int64"
      ]
     },
     "execution_count": 2752,
     "metadata": {},
     "output_type": "execute_result"
    }
   ],
   "source": [
    "df['Through Recommendations'].value_counts()"
   ]
  },
  {
   "cell_type": "markdown",
   "id": "0f72a9e8-38c2-47d6-8d11-3e1bf5930c34",
   "metadata": {},
   "source": [
    "Newspaper Article, Newspaper, Search,Digital Advertisement, Through Recommendations - these columns can be dropped as these have same value for all the records. These will not add any value to the analysis"
   ]
  },
  {
   "cell_type": "code",
   "execution_count": 2754,
   "id": "3c8f3ad9-ade4-42c7-9b34-6b29f0a9db01",
   "metadata": {},
   "outputs": [],
   "source": [
    "df = df.drop(['Newspaper','Newspaper Article','Through Recommendations','Search','Digital Advertisement'],axis=1)"
   ]
  },
  {
   "cell_type": "code",
   "execution_count": 2755,
   "id": "9a361ae3-a63a-4da1-b570-7e5016a87d9d",
   "metadata": {},
   "outputs": [
    {
     "data": {
      "text/plain": [
       "Index(['Prospect ID', 'Lead Number', 'Lead Origin', 'Lead Source',\n",
       "       'Do Not Email', 'Do Not Call', 'Converted', 'TotalVisits',\n",
       "       'Total Time Spent on Website', 'Page Views Per Visit', 'Last Activity',\n",
       "       'Specialization', 'What is your current occupation', 'Tags', 'City',\n",
       "       'A free copy of Mastering The Interview', 'Last Notable Activity'],\n",
       "      dtype='object')"
      ]
     },
     "execution_count": 2755,
     "metadata": {},
     "output_type": "execute_result"
    }
   ],
   "source": [
    "df.columns"
   ]
  },
  {
   "cell_type": "markdown",
   "id": "f5c3a7a1-1cee-4bf9-bebf-9e73a3d75d6d",
   "metadata": {},
   "source": [
    "Dropping Prospect ID column as it is not useful for model creation"
   ]
  },
  {
   "cell_type": "code",
   "execution_count": 2757,
   "id": "a3b11d1f-14a2-4226-adaa-f626b581bd0a",
   "metadata": {},
   "outputs": [],
   "source": [
    "df = df.drop(['Prospect ID',],axis=1)"
   ]
  },
  {
   "cell_type": "code",
   "execution_count": 2758,
   "id": "031280fb-fd00-44f6-a4c0-08e270e2a685",
   "metadata": {},
   "outputs": [
    {
     "name": "stdout",
     "output_type": "stream",
     "text": [
      "<class 'pandas.core.frame.DataFrame'>\n",
      "Index: 9103 entries, 0 to 9239\n",
      "Data columns (total 16 columns):\n",
      " #   Column                                  Non-Null Count  Dtype  \n",
      "---  ------                                  --------------  -----  \n",
      " 0   Lead Number                             9103 non-null   int64  \n",
      " 1   Lead Origin                             9103 non-null   object \n",
      " 2   Lead Source                             9103 non-null   object \n",
      " 3   Do Not Email                            9103 non-null   int64  \n",
      " 4   Do Not Call                             9103 non-null   int64  \n",
      " 5   Converted                               9103 non-null   int64  \n",
      " 6   TotalVisits                             9103 non-null   float64\n",
      " 7   Total Time Spent on Website             9103 non-null   int64  \n",
      " 8   Page Views Per Visit                    9103 non-null   float64\n",
      " 9   Last Activity                           9103 non-null   object \n",
      " 10  Specialization                          9103 non-null   object \n",
      " 11  What is your current occupation         9103 non-null   object \n",
      " 12  Tags                                    9103 non-null   object \n",
      " 13  City                                    9103 non-null   object \n",
      " 14  A free copy of Mastering The Interview  9103 non-null   int64  \n",
      " 15  Last Notable Activity                   9103 non-null   object \n",
      "dtypes: float64(2), int64(6), object(8)\n",
      "memory usage: 1.2+ MB\n"
     ]
    }
   ],
   "source": [
    "df.info()"
   ]
  },
  {
   "cell_type": "markdown",
   "id": "278206be-5329-4837-93ea-657fdf9dbfe8",
   "metadata": {},
   "source": [
    "These are final columns/ attributes from the data set that we will use for model creation and evaluation"
   ]
  },
  {
   "cell_type": "code",
   "execution_count": 2760,
   "id": "ab87d3dd-de60-4559-9e5f-cf1ce101ed64",
   "metadata": {},
   "outputs": [
    {
     "data": {
      "text/plain": [
       "(9103, 16)"
      ]
     },
     "execution_count": 2760,
     "metadata": {},
     "output_type": "execute_result"
    }
   ],
   "source": [
    "df.shape # 15 features"
   ]
  },
  {
   "cell_type": "markdown",
   "id": "412eb8a3-e5c8-465f-bf43-2622ba838aa9",
   "metadata": {},
   "source": [
    "##### Combining Lower Frequency Values for Last Notable Activity"
   ]
  },
  {
   "cell_type": "code",
   "execution_count": 2762,
   "id": "6d8ec26f-d89b-4a3d-bc10-45003bddf22c",
   "metadata": {},
   "outputs": [
    {
     "data": {
      "text/plain": [
       "Last Notable Activity\n",
       "Modified                        3270\n",
       "Email Opened                    2827\n",
       "SMS Sent                        2172\n",
       "Page Visited on Website          318\n",
       "Olark Chat Conversation          183\n",
       "Email Link Clicked               173\n",
       "Email Bounced                     60\n",
       "Unsubscribed                      47\n",
       "Unreachable                       32\n",
       "Had a Phone Conversation          14\n",
       "Email Marked Spam                  2\n",
       "Approached upfront                 1\n",
       "Resubscribed to emails             1\n",
       "View in browser link Clicked       1\n",
       "Form Submitted on Website          1\n",
       "Email Received                     1\n",
       "Name: count, dtype: int64"
      ]
     },
     "execution_count": 2762,
     "metadata": {},
     "output_type": "execute_result"
    }
   ],
   "source": [
    "df['Last Notable Activity'].value_counts()"
   ]
  },
  {
   "cell_type": "code",
   "execution_count": 2763,
   "id": "bd7c7f46-b27d-4ef3-8b79-0eda21983c64",
   "metadata": {},
   "outputs": [],
   "source": [
    "df['Last Notable Activity'] = df['Last Notable Activity'].replace(['Had a Phone Conversation','Email Marked Spam','Unreachable',\n",
    "                                                                         'Unsubscribed','Email Bounced','Resubscribed to emails',\n",
    "                                                                       'View in browser link Clicked','Approached upfront',\n",
    "                                                                       'Form Submitted on Website','Email Received'],'Other_Notable_activity')"
   ]
  },
  {
   "cell_type": "markdown",
   "id": "e665c3c2-815b-4eea-8010-747791554d0e",
   "metadata": {},
   "source": [
    "### Dummy Variable Creation"
   ]
  },
  {
   "cell_type": "code",
   "execution_count": 2765,
   "id": "ec6a3994-e725-49c3-b0c9-18458d13c834",
   "metadata": {},
   "outputs": [
    {
     "data": {
      "text/plain": [
       "Index(['Lead Origin', 'Lead Source', 'Last Activity', 'Specialization',\n",
       "       'What is your current occupation', 'Tags', 'City',\n",
       "       'Last Notable Activity'],\n",
       "      dtype='object')"
      ]
     },
     "execution_count": 2765,
     "metadata": {},
     "output_type": "execute_result"
    }
   ],
   "source": [
    "#getting a list of categorical columns\n",
    "\n",
    "cat_cols= df.select_dtypes(include=['object']).columns\n",
    "cat_cols"
   ]
  },
  {
   "cell_type": "code",
   "execution_count": 2766,
   "id": "5ce9ddd8-982a-4c17-9293-997d89e1137b",
   "metadata": {},
   "outputs": [],
   "source": [
    "#getting dummies and dropping the first column and adding the results to the master dataframe\n",
    "\n",
    "dummy = pd.get_dummies(df[['Lead Origin','What is your current occupation','City']], drop_first=True,dtype= int)\n",
    "\n",
    "df = pd.concat([df,dummy],axis =1)\n"
   ]
  },
  {
   "cell_type": "code",
   "execution_count": 2767,
   "id": "50614bc0-c2de-4dd6-82da-ab6d14e90785",
   "metadata": {},
   "outputs": [],
   "source": [
    "dummy = pd.get_dummies(df['Specialization'], prefix  = 'Specialization',dtype= int)\n",
    "dummy = dummy.drop(['Specialization_Not Available'], axis =1)\n",
    "df = pd.concat([df, dummy], axis = 1)"
   ]
  },
  {
   "cell_type": "code",
   "execution_count": 2768,
   "id": "ec200d0c-e90b-490d-91a7-b866efbebb84",
   "metadata": {},
   "outputs": [],
   "source": [
    "dummy = pd.get_dummies(df['Lead Source'], prefix  = 'Lead Source',dtype= int)\n",
    "dummy = dummy.drop(['Lead Source_Others'],axis= 1)\n",
    "df = pd.concat([df, dummy], axis = 1)\n"
   ]
  },
  {
   "cell_type": "code",
   "execution_count": 2769,
   "id": "741aab27-98dc-479b-a861-6aff944d70b8",
   "metadata": {},
   "outputs": [],
   "source": [
    "dummy = pd.get_dummies(df['Last Activity'], prefix  = 'Last Activity',dtype= int)\n",
    "dummy = dummy.drop(['Last Activity_Others'], axis=1)\n",
    "df = pd.concat([df, dummy], axis = 1)"
   ]
  },
  {
   "cell_type": "code",
   "execution_count": 2770,
   "id": "3b2b6e8e-1081-4e76-a2b1-73d94efe1705",
   "metadata": {},
   "outputs": [],
   "source": [
    "dummy = pd.get_dummies(df['Last Notable Activity'], prefix  = 'Last Notable Activity',dtype= int)\n",
    "dummy = dummy.drop(['Last Notable Activity_Other_Notable_activity'], axis=1)\n",
    "df = pd.concat([df, dummy], axis = 1)"
   ]
  },
  {
   "cell_type": "code",
   "execution_count": 2771,
   "id": "35524a79-d01a-4d70-9b37-8709555d2988",
   "metadata": {},
   "outputs": [
    {
     "data": {
      "text/plain": [
       "Tags\n",
       "Not Available                          3333\n",
       "Will revert after reading the email    2035\n",
       "Ringing                                1189\n",
       "Other_Tags                              673\n",
       "Interested in other courses             509\n",
       "Already a student                       465\n",
       "Closed by Horizzon                      301\n",
       "switched off                            240\n",
       "Busy                                    185\n",
       "Lost to EINS                            173\n",
       "Name: count, dtype: int64"
      ]
     },
     "execution_count": 2771,
     "metadata": {},
     "output_type": "execute_result"
    }
   ],
   "source": [
    "df['Tags'].value_counts()"
   ]
  },
  {
   "cell_type": "code",
   "execution_count": 2772,
   "id": "8eac2a65-3a51-46a7-a69c-9799193ef1e7",
   "metadata": {},
   "outputs": [],
   "source": [
    "dummy = pd.get_dummies(df['Tags'], prefix  = 'Tags',dtype= int)\n",
    "dummy = dummy.drop(['Tags_Not Available'], axis= 1)\n",
    "df = pd.concat([df, dummy], axis = 1)"
   ]
  },
  {
   "cell_type": "code",
   "execution_count": 2773,
   "id": "0d54e821-c8fe-48e4-868f-0c287ed9c666",
   "metadata": {},
   "outputs": [],
   "source": [
    "#dropping the original columns after dummy variable creation\n",
    "\n",
    "df.drop(cat_cols,axis=1,inplace = True)"
   ]
  },
  {
   "cell_type": "code",
   "execution_count": 2774,
   "id": "e1362dd7-19cc-4770-94af-ffb3e47c7dae",
   "metadata": {},
   "outputs": [
    {
     "data": {
      "text/html": [
       "<div>\n",
       "<style scoped>\n",
       "    .dataframe tbody tr th:only-of-type {\n",
       "        vertical-align: middle;\n",
       "    }\n",
       "\n",
       "    .dataframe tbody tr th {\n",
       "        vertical-align: top;\n",
       "    }\n",
       "\n",
       "    .dataframe thead th {\n",
       "        text-align: right;\n",
       "    }\n",
       "</style>\n",
       "<table border=\"1\" class=\"dataframe\">\n",
       "  <thead>\n",
       "    <tr style=\"text-align: right;\">\n",
       "      <th></th>\n",
       "      <th>Lead Number</th>\n",
       "      <th>Do Not Email</th>\n",
       "      <th>Do Not Call</th>\n",
       "      <th>Converted</th>\n",
       "      <th>TotalVisits</th>\n",
       "      <th>Total Time Spent on Website</th>\n",
       "      <th>Page Views Per Visit</th>\n",
       "      <th>A free copy of Mastering The Interview</th>\n",
       "      <th>Lead Origin_Landing Page Submission</th>\n",
       "      <th>Lead Origin_Lead Add Form</th>\n",
       "      <th>...</th>\n",
       "      <th>Last Notable Activity_SMS Sent</th>\n",
       "      <th>Tags_Already a student</th>\n",
       "      <th>Tags_Busy</th>\n",
       "      <th>Tags_Closed by Horizzon</th>\n",
       "      <th>Tags_Interested in other courses</th>\n",
       "      <th>Tags_Lost to EINS</th>\n",
       "      <th>Tags_Other_Tags</th>\n",
       "      <th>Tags_Ringing</th>\n",
       "      <th>Tags_Will revert after reading the email</th>\n",
       "      <th>Tags_switched off</th>\n",
       "    </tr>\n",
       "  </thead>\n",
       "  <tbody>\n",
       "    <tr>\n",
       "      <th>0</th>\n",
       "      <td>660737</td>\n",
       "      <td>0</td>\n",
       "      <td>0</td>\n",
       "      <td>0</td>\n",
       "      <td>0.0</td>\n",
       "      <td>0</td>\n",
       "      <td>0.0</td>\n",
       "      <td>0</td>\n",
       "      <td>0</td>\n",
       "      <td>0</td>\n",
       "      <td>...</td>\n",
       "      <td>0</td>\n",
       "      <td>0</td>\n",
       "      <td>0</td>\n",
       "      <td>0</td>\n",
       "      <td>1</td>\n",
       "      <td>0</td>\n",
       "      <td>0</td>\n",
       "      <td>0</td>\n",
       "      <td>0</td>\n",
       "      <td>0</td>\n",
       "    </tr>\n",
       "    <tr>\n",
       "      <th>1</th>\n",
       "      <td>660728</td>\n",
       "      <td>0</td>\n",
       "      <td>0</td>\n",
       "      <td>0</td>\n",
       "      <td>5.0</td>\n",
       "      <td>674</td>\n",
       "      <td>2.5</td>\n",
       "      <td>0</td>\n",
       "      <td>0</td>\n",
       "      <td>0</td>\n",
       "      <td>...</td>\n",
       "      <td>0</td>\n",
       "      <td>0</td>\n",
       "      <td>0</td>\n",
       "      <td>0</td>\n",
       "      <td>0</td>\n",
       "      <td>0</td>\n",
       "      <td>0</td>\n",
       "      <td>1</td>\n",
       "      <td>0</td>\n",
       "      <td>0</td>\n",
       "    </tr>\n",
       "    <tr>\n",
       "      <th>2</th>\n",
       "      <td>660727</td>\n",
       "      <td>0</td>\n",
       "      <td>0</td>\n",
       "      <td>1</td>\n",
       "      <td>2.0</td>\n",
       "      <td>1532</td>\n",
       "      <td>2.0</td>\n",
       "      <td>1</td>\n",
       "      <td>1</td>\n",
       "      <td>0</td>\n",
       "      <td>...</td>\n",
       "      <td>0</td>\n",
       "      <td>0</td>\n",
       "      <td>0</td>\n",
       "      <td>0</td>\n",
       "      <td>0</td>\n",
       "      <td>0</td>\n",
       "      <td>0</td>\n",
       "      <td>0</td>\n",
       "      <td>1</td>\n",
       "      <td>0</td>\n",
       "    </tr>\n",
       "    <tr>\n",
       "      <th>3</th>\n",
       "      <td>660719</td>\n",
       "      <td>0</td>\n",
       "      <td>0</td>\n",
       "      <td>0</td>\n",
       "      <td>1.0</td>\n",
       "      <td>305</td>\n",
       "      <td>1.0</td>\n",
       "      <td>0</td>\n",
       "      <td>1</td>\n",
       "      <td>0</td>\n",
       "      <td>...</td>\n",
       "      <td>0</td>\n",
       "      <td>0</td>\n",
       "      <td>0</td>\n",
       "      <td>0</td>\n",
       "      <td>0</td>\n",
       "      <td>0</td>\n",
       "      <td>0</td>\n",
       "      <td>1</td>\n",
       "      <td>0</td>\n",
       "      <td>0</td>\n",
       "    </tr>\n",
       "    <tr>\n",
       "      <th>4</th>\n",
       "      <td>660681</td>\n",
       "      <td>0</td>\n",
       "      <td>0</td>\n",
       "      <td>1</td>\n",
       "      <td>2.0</td>\n",
       "      <td>1428</td>\n",
       "      <td>1.0</td>\n",
       "      <td>0</td>\n",
       "      <td>1</td>\n",
       "      <td>0</td>\n",
       "      <td>...</td>\n",
       "      <td>0</td>\n",
       "      <td>0</td>\n",
       "      <td>0</td>\n",
       "      <td>0</td>\n",
       "      <td>0</td>\n",
       "      <td>0</td>\n",
       "      <td>0</td>\n",
       "      <td>0</td>\n",
       "      <td>1</td>\n",
       "      <td>0</td>\n",
       "    </tr>\n",
       "  </tbody>\n",
       "</table>\n",
       "<p>5 rows × 63 columns</p>\n",
       "</div>"
      ],
      "text/plain": [
       "   Lead Number  Do Not Email  Do Not Call  Converted  TotalVisits  \\\n",
       "0       660737             0            0          0          0.0   \n",
       "1       660728             0            0          0          5.0   \n",
       "2       660727             0            0          1          2.0   \n",
       "3       660719             0            0          0          1.0   \n",
       "4       660681             0            0          1          2.0   \n",
       "\n",
       "   Total Time Spent on Website  Page Views Per Visit  \\\n",
       "0                            0                   0.0   \n",
       "1                          674                   2.5   \n",
       "2                         1532                   2.0   \n",
       "3                          305                   1.0   \n",
       "4                         1428                   1.0   \n",
       "\n",
       "   A free copy of Mastering The Interview  \\\n",
       "0                                       0   \n",
       "1                                       0   \n",
       "2                                       1   \n",
       "3                                       0   \n",
       "4                                       0   \n",
       "\n",
       "   Lead Origin_Landing Page Submission  Lead Origin_Lead Add Form  ...  \\\n",
       "0                                    0                          0  ...   \n",
       "1                                    0                          0  ...   \n",
       "2                                    1                          0  ...   \n",
       "3                                    1                          0  ...   \n",
       "4                                    1                          0  ...   \n",
       "\n",
       "   Last Notable Activity_SMS Sent  Tags_Already a student  Tags_Busy  \\\n",
       "0                               0                       0          0   \n",
       "1                               0                       0          0   \n",
       "2                               0                       0          0   \n",
       "3                               0                       0          0   \n",
       "4                               0                       0          0   \n",
       "\n",
       "   Tags_Closed by Horizzon  Tags_Interested in other courses  \\\n",
       "0                        0                                 1   \n",
       "1                        0                                 0   \n",
       "2                        0                                 0   \n",
       "3                        0                                 0   \n",
       "4                        0                                 0   \n",
       "\n",
       "   Tags_Lost to EINS  Tags_Other_Tags  Tags_Ringing  \\\n",
       "0                  0                0             0   \n",
       "1                  0                0             1   \n",
       "2                  0                0             0   \n",
       "3                  0                0             1   \n",
       "4                  0                0             0   \n",
       "\n",
       "   Tags_Will revert after reading the email  Tags_switched off  \n",
       "0                                         0                  0  \n",
       "1                                         0                  0  \n",
       "2                                         1                  0  \n",
       "3                                         0                  0  \n",
       "4                                         1                  0  \n",
       "\n",
       "[5 rows x 63 columns]"
      ]
     },
     "execution_count": 2774,
     "metadata": {},
     "output_type": "execute_result"
    }
   ],
   "source": [
    "df.head()"
   ]
  },
  {
   "cell_type": "markdown",
   "id": "933edbf5-aef3-418d-a161-c9437204fe95",
   "metadata": {},
   "source": [
    "## Step 4: Modelling"
   ]
  },
  {
   "cell_type": "code",
   "execution_count": 2776,
   "id": "973928f7-9e6b-4b3c-a7b1-c1df10c44191",
   "metadata": {},
   "outputs": [],
   "source": [
    "df_model = df.drop(['Lead Number'],axis =1)"
   ]
  },
  {
   "cell_type": "markdown",
   "id": "fe52fe5f-bb29-4cff-8a98-77f840a0b0ed",
   "metadata": {},
   "source": [
    "### 4.1: Test-Train Split"
   ]
  },
  {
   "cell_type": "code",
   "execution_count": 2778,
   "id": "f39818fd-628a-446c-a165-37591c9dab7d",
   "metadata": {},
   "outputs": [],
   "source": [
    "from sklearn.model_selection import train_test_split"
   ]
  },
  {
   "cell_type": "code",
   "execution_count": 2779,
   "id": "31254131-5ec4-4c27-8571-7b1e951aa75f",
   "metadata": {},
   "outputs": [],
   "source": [
    "X = df_model.drop(['Converted'],axis =1)\n",
    "y = df_model['Converted']"
   ]
  },
  {
   "cell_type": "code",
   "execution_count": 2780,
   "id": "16ed6928-34f9-4a26-8903-f63909869356",
   "metadata": {},
   "outputs": [
    {
     "name": "stdout",
     "output_type": "stream",
     "text": [
      "<class 'pandas.core.frame.DataFrame'>\n",
      "Index: 9103 entries, 0 to 9239\n",
      "Data columns (total 61 columns):\n",
      " #   Column                                                Non-Null Count  Dtype  \n",
      "---  ------                                                --------------  -----  \n",
      " 0   Do Not Email                                          9103 non-null   int64  \n",
      " 1   Do Not Call                                           9103 non-null   int64  \n",
      " 2   TotalVisits                                           9103 non-null   float64\n",
      " 3   Total Time Spent on Website                           9103 non-null   int64  \n",
      " 4   Page Views Per Visit                                  9103 non-null   float64\n",
      " 5   A free copy of Mastering The Interview                9103 non-null   int64  \n",
      " 6   Lead Origin_Landing Page Submission                   9103 non-null   int32  \n",
      " 7   Lead Origin_Lead Add Form                             9103 non-null   int32  \n",
      " 8   Lead Origin_Lead Import                               9103 non-null   int32  \n",
      " 9   What is your current occupation_Housewife             9103 non-null   int32  \n",
      " 10  What is your current occupation_Other                 9103 non-null   int32  \n",
      " 11  What is your current occupation_Student               9103 non-null   int32  \n",
      " 12  What is your current occupation_Unemployed            9103 non-null   int32  \n",
      " 13  What is your current occupation_Working Professional  9103 non-null   int32  \n",
      " 14  City_Other Cities                                     9103 non-null   int32  \n",
      " 15  City_Other Cities of Maharashtra                      9103 non-null   int32  \n",
      " 16  City_Other Metro Cities                               9103 non-null   int32  \n",
      " 17  City_Thane & Outskirts                                9103 non-null   int32  \n",
      " 18  City_Tier II Cities                                   9103 non-null   int32  \n",
      " 19  Specialization_Available                              9103 non-null   int32  \n",
      " 20  Specialization_Banking, Investment And Insurance      9103 non-null   int32  \n",
      " 21  Specialization_Business Administration                9103 non-null   int32  \n",
      " 22  Specialization_E-Business                             9103 non-null   int32  \n",
      " 23  Specialization_E-COMMERCE                             9103 non-null   int32  \n",
      " 24  Specialization_International Business                 9103 non-null   int32  \n",
      " 25  Specialization_Management_Specializations             9103 non-null   int32  \n",
      " 26  Specialization_Media and Advertising                  9103 non-null   int32  \n",
      " 27  Specialization_Rural and Agribusiness                 9103 non-null   int32  \n",
      " 28  Specialization_Services Excellence                    9103 non-null   int32  \n",
      " 29  Specialization_Travel and Tourism                     9103 non-null   int32  \n",
      " 30  Lead Source_Direct Traffic                            9103 non-null   int32  \n",
      " 31  Lead Source_Google                                    9103 non-null   int32  \n",
      " 32  Lead Source_Olark Chat                                9103 non-null   int32  \n",
      " 33  Lead Source_Organic Search                            9103 non-null   int32  \n",
      " 34  Lead Source_Reference                                 9103 non-null   int32  \n",
      " 35  Lead Source_Referral Sites                            9103 non-null   int32  \n",
      " 36  Lead Source_Social Media                              9103 non-null   int32  \n",
      " 37  Lead Source_Welingak Website                          9103 non-null   int32  \n",
      " 38  Last Activity_Converted to Lead                       9103 non-null   int32  \n",
      " 39  Last Activity_Email Bounced                           9103 non-null   int32  \n",
      " 40  Last Activity_Email Link Clicked                      9103 non-null   int32  \n",
      " 41  Last Activity_Email Opened                            9103 non-null   int32  \n",
      " 42  Last Activity_Form Submitted on Website               9103 non-null   int32  \n",
      " 43  Last Activity_Olark Chat Conversation                 9103 non-null   int32  \n",
      " 44  Last Activity_Page Visited on Website                 9103 non-null   int32  \n",
      " 45  Last Activity_SMS Sent                                9103 non-null   int32  \n",
      " 46  Last Notable Activity_Email Link Clicked              9103 non-null   int32  \n",
      " 47  Last Notable Activity_Email Opened                    9103 non-null   int32  \n",
      " 48  Last Notable Activity_Modified                        9103 non-null   int32  \n",
      " 49  Last Notable Activity_Olark Chat Conversation         9103 non-null   int32  \n",
      " 50  Last Notable Activity_Page Visited on Website         9103 non-null   int32  \n",
      " 51  Last Notable Activity_SMS Sent                        9103 non-null   int32  \n",
      " 52  Tags_Already a student                                9103 non-null   int32  \n",
      " 53  Tags_Busy                                             9103 non-null   int32  \n",
      " 54  Tags_Closed by Horizzon                               9103 non-null   int32  \n",
      " 55  Tags_Interested in other courses                      9103 non-null   int32  \n",
      " 56  Tags_Lost to EINS                                     9103 non-null   int32  \n",
      " 57  Tags_Other_Tags                                       9103 non-null   int32  \n",
      " 58  Tags_Ringing                                          9103 non-null   int32  \n",
      " 59  Tags_Will revert after reading the email              9103 non-null   int32  \n",
      " 60  Tags_switched off                                     9103 non-null   int32  \n",
      "dtypes: float64(2), int32(55), int64(4)\n",
      "memory usage: 2.4 MB\n"
     ]
    }
   ],
   "source": [
    "X.info()"
   ]
  },
  {
   "cell_type": "code",
   "execution_count": 2781,
   "id": "333c57d4-2888-42c4-9f14-adda2b161e06",
   "metadata": {},
   "outputs": [],
   "source": [
    "numeric = ['TotalVisits','Total Time Spent on Website','Page Views Per Visit']\n",
    "binary = ['Through Recommendations','Search','Do Not Email','Do Not Call','Digital Advertisement','A free copy of Mastering The Interview']\n",
    "category = ['Lead Origin','Lead Source','Last Activity','Last Notable Activity','Country','What is your current occupation','Specialization','City','Tags']"
   ]
  },
  {
   "cell_type": "code",
   "execution_count": 2782,
   "id": "2b14bd8c-c555-42aa-8da7-90a155cdb20f",
   "metadata": {},
   "outputs": [],
   "source": [
    "X_train, X_test, y_train, y_test = train_test_split(X, y, test_size=0.3, random_state=100)"
   ]
  },
  {
   "cell_type": "code",
   "execution_count": 2783,
   "id": "f81683e5-5c99-45c0-81ba-d744fa37d7eb",
   "metadata": {},
   "outputs": [
    {
     "name": "stdout",
     "output_type": "stream",
     "text": [
      "(6372, 61) (6372,)\n"
     ]
    }
   ],
   "source": [
    "print(X_train.shape,y_train.shape)"
   ]
  },
  {
   "cell_type": "code",
   "execution_count": 2784,
   "id": "eeee8449-beb3-4a94-93ea-1579547476a2",
   "metadata": {},
   "outputs": [
    {
     "name": "stdout",
     "output_type": "stream",
     "text": [
      "(2731, 61) (2731,)\n"
     ]
    }
   ],
   "source": [
    "print(X_test.shape,y_test.shape)"
   ]
  },
  {
   "cell_type": "markdown",
   "id": "eb5eb6e2-d70b-4eca-b137-b12aaac048d1",
   "metadata": {},
   "source": [
    "### 4.2: Scaling of data using StandardScaler"
   ]
  },
  {
   "cell_type": "code",
   "execution_count": 2786,
   "id": "27d1bdb1-8cb4-40ff-b3ce-b8c2dec3e573",
   "metadata": {},
   "outputs": [
    {
     "data": {
      "text/html": [
       "<div>\n",
       "<style scoped>\n",
       "    .dataframe tbody tr th:only-of-type {\n",
       "        vertical-align: middle;\n",
       "    }\n",
       "\n",
       "    .dataframe tbody tr th {\n",
       "        vertical-align: top;\n",
       "    }\n",
       "\n",
       "    .dataframe thead th {\n",
       "        text-align: right;\n",
       "    }\n",
       "</style>\n",
       "<table border=\"1\" class=\"dataframe\">\n",
       "  <thead>\n",
       "    <tr style=\"text-align: right;\">\n",
       "      <th></th>\n",
       "      <th>Do Not Email</th>\n",
       "      <th>Do Not Call</th>\n",
       "      <th>TotalVisits</th>\n",
       "      <th>Total Time Spent on Website</th>\n",
       "      <th>Page Views Per Visit</th>\n",
       "      <th>A free copy of Mastering The Interview</th>\n",
       "      <th>Lead Origin_Landing Page Submission</th>\n",
       "      <th>Lead Origin_Lead Add Form</th>\n",
       "      <th>Lead Origin_Lead Import</th>\n",
       "      <th>What is your current occupation_Housewife</th>\n",
       "      <th>...</th>\n",
       "      <th>Last Notable Activity_SMS Sent</th>\n",
       "      <th>Tags_Already a student</th>\n",
       "      <th>Tags_Busy</th>\n",
       "      <th>Tags_Closed by Horizzon</th>\n",
       "      <th>Tags_Interested in other courses</th>\n",
       "      <th>Tags_Lost to EINS</th>\n",
       "      <th>Tags_Other_Tags</th>\n",
       "      <th>Tags_Ringing</th>\n",
       "      <th>Tags_Will revert after reading the email</th>\n",
       "      <th>Tags_switched off</th>\n",
       "    </tr>\n",
       "  </thead>\n",
       "  <tbody>\n",
       "    <tr>\n",
       "      <th>7962</th>\n",
       "      <td>0</td>\n",
       "      <td>0</td>\n",
       "      <td>-0.092900</td>\n",
       "      <td>1.476324</td>\n",
       "      <td>-0.394072</td>\n",
       "      <td>0</td>\n",
       "      <td>1</td>\n",
       "      <td>0</td>\n",
       "      <td>0</td>\n",
       "      <td>0</td>\n",
       "      <td>...</td>\n",
       "      <td>1</td>\n",
       "      <td>0</td>\n",
       "      <td>0</td>\n",
       "      <td>0</td>\n",
       "      <td>0</td>\n",
       "      <td>0</td>\n",
       "      <td>1</td>\n",
       "      <td>0</td>\n",
       "      <td>0</td>\n",
       "      <td>0</td>\n",
       "    </tr>\n",
       "    <tr>\n",
       "      <th>5520</th>\n",
       "      <td>0</td>\n",
       "      <td>0</td>\n",
       "      <td>0.695064</td>\n",
       "      <td>-0.771066</td>\n",
       "      <td>2.111481</td>\n",
       "      <td>0</td>\n",
       "      <td>1</td>\n",
       "      <td>0</td>\n",
       "      <td>0</td>\n",
       "      <td>0</td>\n",
       "      <td>...</td>\n",
       "      <td>0</td>\n",
       "      <td>0</td>\n",
       "      <td>1</td>\n",
       "      <td>0</td>\n",
       "      <td>0</td>\n",
       "      <td>0</td>\n",
       "      <td>0</td>\n",
       "      <td>0</td>\n",
       "      <td>0</td>\n",
       "      <td>0</td>\n",
       "    </tr>\n",
       "    <tr>\n",
       "      <th>1962</th>\n",
       "      <td>0</td>\n",
       "      <td>0</td>\n",
       "      <td>0.301082</td>\n",
       "      <td>-0.571257</td>\n",
       "      <td>0.061483</td>\n",
       "      <td>0</td>\n",
       "      <td>1</td>\n",
       "      <td>0</td>\n",
       "      <td>0</td>\n",
       "      <td>0</td>\n",
       "      <td>...</td>\n",
       "      <td>0</td>\n",
       "      <td>0</td>\n",
       "      <td>0</td>\n",
       "      <td>0</td>\n",
       "      <td>0</td>\n",
       "      <td>0</td>\n",
       "      <td>0</td>\n",
       "      <td>0</td>\n",
       "      <td>0</td>\n",
       "      <td>1</td>\n",
       "    </tr>\n",
       "    <tr>\n",
       "      <th>1566</th>\n",
       "      <td>0</td>\n",
       "      <td>0</td>\n",
       "      <td>2.074000</td>\n",
       "      <td>1.393834</td>\n",
       "      <td>0.517039</td>\n",
       "      <td>0</td>\n",
       "      <td>1</td>\n",
       "      <td>0</td>\n",
       "      <td>0</td>\n",
       "      <td>0</td>\n",
       "      <td>...</td>\n",
       "      <td>0</td>\n",
       "      <td>0</td>\n",
       "      <td>0</td>\n",
       "      <td>0</td>\n",
       "      <td>0</td>\n",
       "      <td>0</td>\n",
       "      <td>0</td>\n",
       "      <td>0</td>\n",
       "      <td>1</td>\n",
       "      <td>0</td>\n",
       "    </tr>\n",
       "    <tr>\n",
       "      <th>9170</th>\n",
       "      <td>0</td>\n",
       "      <td>0</td>\n",
       "      <td>-0.683873</td>\n",
       "      <td>-0.881052</td>\n",
       "      <td>-1.077404</td>\n",
       "      <td>0</td>\n",
       "      <td>0</td>\n",
       "      <td>0</td>\n",
       "      <td>0</td>\n",
       "      <td>0</td>\n",
       "      <td>...</td>\n",
       "      <td>0</td>\n",
       "      <td>1</td>\n",
       "      <td>0</td>\n",
       "      <td>0</td>\n",
       "      <td>0</td>\n",
       "      <td>0</td>\n",
       "      <td>0</td>\n",
       "      <td>0</td>\n",
       "      <td>0</td>\n",
       "      <td>0</td>\n",
       "    </tr>\n",
       "  </tbody>\n",
       "</table>\n",
       "<p>5 rows × 61 columns</p>\n",
       "</div>"
      ],
      "text/plain": [
       "      Do Not Email  Do Not Call  TotalVisits  Total Time Spent on Website  \\\n",
       "7962             0            0    -0.092900                     1.476324   \n",
       "5520             0            0     0.695064                    -0.771066   \n",
       "1962             0            0     0.301082                    -0.571257   \n",
       "1566             0            0     2.074000                     1.393834   \n",
       "9170             0            0    -0.683873                    -0.881052   \n",
       "\n",
       "      Page Views Per Visit  A free copy of Mastering The Interview  \\\n",
       "7962             -0.394072                                       0   \n",
       "5520              2.111481                                       0   \n",
       "1962              0.061483                                       0   \n",
       "1566              0.517039                                       0   \n",
       "9170             -1.077404                                       0   \n",
       "\n",
       "      Lead Origin_Landing Page Submission  Lead Origin_Lead Add Form  \\\n",
       "7962                                    1                          0   \n",
       "5520                                    1                          0   \n",
       "1962                                    1                          0   \n",
       "1566                                    1                          0   \n",
       "9170                                    0                          0   \n",
       "\n",
       "      Lead Origin_Lead Import  What is your current occupation_Housewife  ...  \\\n",
       "7962                        0                                          0  ...   \n",
       "5520                        0                                          0  ...   \n",
       "1962                        0                                          0  ...   \n",
       "1566                        0                                          0  ...   \n",
       "9170                        0                                          0  ...   \n",
       "\n",
       "      Last Notable Activity_SMS Sent  Tags_Already a student  Tags_Busy  \\\n",
       "7962                               1                       0          0   \n",
       "5520                               0                       0          1   \n",
       "1962                               0                       0          0   \n",
       "1566                               0                       0          0   \n",
       "9170                               0                       1          0   \n",
       "\n",
       "      Tags_Closed by Horizzon  Tags_Interested in other courses  \\\n",
       "7962                        0                                 0   \n",
       "5520                        0                                 0   \n",
       "1962                        0                                 0   \n",
       "1566                        0                                 0   \n",
       "9170                        0                                 0   \n",
       "\n",
       "      Tags_Lost to EINS  Tags_Other_Tags  Tags_Ringing  \\\n",
       "7962                  0                1             0   \n",
       "5520                  0                0             0   \n",
       "1962                  0                0             0   \n",
       "1566                  0                0             0   \n",
       "9170                  0                0             0   \n",
       "\n",
       "      Tags_Will revert after reading the email  Tags_switched off  \n",
       "7962                                         0                  0  \n",
       "5520                                         0                  0  \n",
       "1962                                         0                  1  \n",
       "1566                                         1                  0  \n",
       "9170                                         0                  0  \n",
       "\n",
       "[5 rows x 61 columns]"
      ]
     },
     "execution_count": 2786,
     "metadata": {},
     "output_type": "execute_result"
    }
   ],
   "source": [
    "from sklearn.preprocessing import StandardScaler\n",
    "\n",
    "scaler = StandardScaler()\n",
    "\n",
    "num_cols= ['TotalVisits','Total Time Spent on Website','Page Views Per Visit']\n",
    "X_train[num_cols] = scaler.fit_transform(X_train[num_cols])\n",
    "\n",
    "X_train.head()"
   ]
  },
  {
   "cell_type": "markdown",
   "id": "4d35e982-6954-45f6-89a9-e4e297266acb",
   "metadata": {},
   "source": [
    "### 4.3: Model Building using Stats Model & RFE"
   ]
  },
  {
   "cell_type": "code",
   "execution_count": 2788,
   "id": "86fd38fb-6eef-4fca-83e6-4d45d208f841",
   "metadata": {},
   "outputs": [],
   "source": [
    "import statsmodels.api as sm"
   ]
  },
  {
   "cell_type": "code",
   "execution_count": 2789,
   "id": "e89684a4-28d8-49e8-96af-e7d0767ae5ff",
   "metadata": {},
   "outputs": [],
   "source": [
    "from sklearn.linear_model import LogisticRegression\n",
    "logreg = LogisticRegression()\n",
    "\n",
    "from sklearn.feature_selection import RFE\n",
    "rfe = RFE(logreg, n_features_to_select=15)             # running RFE with 15 variables as output\n",
    "rfe = rfe.fit(X_train, y_train)"
   ]
  },
  {
   "cell_type": "code",
   "execution_count": 2790,
   "id": "464a1abe-79fd-4217-926a-d30fbee638c6",
   "metadata": {},
   "outputs": [
    {
     "data": {
      "text/plain": [
       "array([False, False, False,  True, False, False, False,  True, False,\n",
       "       False, False, False, False, False, False, False, False, False,\n",
       "       False,  True, False, False, False, False, False, False, False,\n",
       "       False, False, False, False, False, False, False, False, False,\n",
       "       False,  True, False, False, False, False, False, False, False,\n",
       "        True, False, False,  True,  True, False, False,  True, False,\n",
       "        True,  True,  True,  True,  True,  True,  True])"
      ]
     },
     "execution_count": 2790,
     "metadata": {},
     "output_type": "execute_result"
    }
   ],
   "source": [
    "rfe.support_"
   ]
  },
  {
   "cell_type": "code",
   "execution_count": 2791,
   "id": "0245ce61-8566-460d-8a76-341c3c1ad17d",
   "metadata": {},
   "outputs": [
    {
     "data": {
      "text/plain": [
       "[('Do Not Email', False, 2),\n",
       " ('Do Not Call', False, 42),\n",
       " ('TotalVisits', False, 38),\n",
       " ('Total Time Spent on Website', True, 1),\n",
       " ('Page Views Per Visit', False, 40),\n",
       " ('A free copy of Mastering The Interview', False, 46),\n",
       " ('Lead Origin_Landing Page Submission', False, 26),\n",
       " ('Lead Origin_Lead Add Form', True, 1),\n",
       " ('Lead Origin_Lead Import', False, 32),\n",
       " ('What is your current occupation_Housewife', False, 35),\n",
       " ('What is your current occupation_Other', False, 47),\n",
       " ('What is your current occupation_Student', False, 23),\n",
       " ('What is your current occupation_Unemployed', False, 22),\n",
       " ('What is your current occupation_Working Professional', False, 3),\n",
       " ('City_Other Cities', False, 34),\n",
       " ('City_Other Cities of Maharashtra', False, 33),\n",
       " ('City_Other Metro Cities', False, 36),\n",
       " ('City_Thane & Outskirts', False, 43),\n",
       " ('City_Tier II Cities', False, 20),\n",
       " ('Specialization_Available', True, 1),\n",
       " ('Specialization_Banking, Investment And Insurance', False, 14),\n",
       " ('Specialization_Business Administration', False, 15),\n",
       " ('Specialization_E-Business', False, 19),\n",
       " ('Specialization_E-COMMERCE', False, 13),\n",
       " ('Specialization_International Business', False, 27),\n",
       " ('Specialization_Management_Specializations', False, 16),\n",
       " ('Specialization_Media and Advertising', False, 21),\n",
       " ('Specialization_Rural and Agribusiness', False, 25),\n",
       " ('Specialization_Services Excellence', False, 12),\n",
       " ('Specialization_Travel and Tourism', False, 31),\n",
       " ('Lead Source_Direct Traffic', False, 6),\n",
       " ('Lead Source_Google', False, 8),\n",
       " ('Lead Source_Olark Chat', False, 28),\n",
       " ('Lead Source_Organic Search', False, 7),\n",
       " ('Lead Source_Reference', False, 18),\n",
       " ('Lead Source_Referral Sites', False, 5),\n",
       " ('Lead Source_Social Media', False, 39),\n",
       " ('Lead Source_Welingak Website', True, 1),\n",
       " ('Last Activity_Converted to Lead', False, 11),\n",
       " ('Last Activity_Email Bounced', False, 17),\n",
       " ('Last Activity_Email Link Clicked', False, 41),\n",
       " ('Last Activity_Email Opened', False, 45),\n",
       " ('Last Activity_Form Submitted on Website', False, 44),\n",
       " ('Last Activity_Olark Chat Conversation', False, 10),\n",
       " ('Last Activity_Page Visited on Website', False, 29),\n",
       " ('Last Activity_SMS Sent', True, 1),\n",
       " ('Last Notable Activity_Email Link Clicked', False, 4),\n",
       " ('Last Notable Activity_Email Opened', False, 30),\n",
       " ('Last Notable Activity_Modified', True, 1),\n",
       " ('Last Notable Activity_Olark Chat Conversation', True, 1),\n",
       " ('Last Notable Activity_Page Visited on Website', False, 37),\n",
       " ('Last Notable Activity_SMS Sent', False, 9),\n",
       " ('Tags_Already a student', True, 1),\n",
       " ('Tags_Busy', False, 24),\n",
       " ('Tags_Closed by Horizzon', True, 1),\n",
       " ('Tags_Interested in other courses', True, 1),\n",
       " ('Tags_Lost to EINS', True, 1),\n",
       " ('Tags_Other_Tags', True, 1),\n",
       " ('Tags_Ringing', True, 1),\n",
       " ('Tags_Will revert after reading the email', True, 1),\n",
       " ('Tags_switched off', True, 1)]"
      ]
     },
     "execution_count": 2791,
     "metadata": {},
     "output_type": "execute_result"
    }
   ],
   "source": [
    "list(zip(X_train.columns, rfe.support_, rfe.ranking_))"
   ]
  },
  {
   "cell_type": "code",
   "execution_count": 2792,
   "id": "5a4f21eb-ef12-448b-9ee8-e6cc9865b509",
   "metadata": {},
   "outputs": [],
   "source": [
    "col = X_train.columns[rfe.support_]"
   ]
  },
  {
   "cell_type": "code",
   "execution_count": 2793,
   "id": "f0501bfb-e442-415d-a00b-7e15ec46b8d7",
   "metadata": {},
   "outputs": [
    {
     "data": {
      "text/plain": [
       "Index(['Do Not Email', 'Do Not Call', 'TotalVisits', 'Page Views Per Visit',\n",
       "       'A free copy of Mastering The Interview',\n",
       "       'Lead Origin_Landing Page Submission', 'Lead Origin_Lead Import',\n",
       "       'What is your current occupation_Housewife',\n",
       "       'What is your current occupation_Other',\n",
       "       'What is your current occupation_Student',\n",
       "       'What is your current occupation_Unemployed',\n",
       "       'What is your current occupation_Working Professional',\n",
       "       'City_Other Cities', 'City_Other Cities of Maharashtra',\n",
       "       'City_Other Metro Cities', 'City_Thane & Outskirts',\n",
       "       'City_Tier II Cities',\n",
       "       'Specialization_Banking, Investment And Insurance',\n",
       "       'Specialization_Business Administration', 'Specialization_E-Business',\n",
       "       'Specialization_E-COMMERCE', 'Specialization_International Business',\n",
       "       'Specialization_Management_Specializations',\n",
       "       'Specialization_Media and Advertising',\n",
       "       'Specialization_Rural and Agribusiness',\n",
       "       'Specialization_Services Excellence',\n",
       "       'Specialization_Travel and Tourism', 'Lead Source_Direct Traffic',\n",
       "       'Lead Source_Google', 'Lead Source_Olark Chat',\n",
       "       'Lead Source_Organic Search', 'Lead Source_Reference',\n",
       "       'Lead Source_Referral Sites', 'Lead Source_Social Media',\n",
       "       'Last Activity_Converted to Lead', 'Last Activity_Email Bounced',\n",
       "       'Last Activity_Email Link Clicked', 'Last Activity_Email Opened',\n",
       "       'Last Activity_Form Submitted on Website',\n",
       "       'Last Activity_Olark Chat Conversation',\n",
       "       'Last Activity_Page Visited on Website',\n",
       "       'Last Notable Activity_Email Link Clicked',\n",
       "       'Last Notable Activity_Email Opened',\n",
       "       'Last Notable Activity_Page Visited on Website',\n",
       "       'Last Notable Activity_SMS Sent', 'Tags_Busy'],\n",
       "      dtype='object')"
      ]
     },
     "execution_count": 2793,
     "metadata": {},
     "output_type": "execute_result"
    }
   ],
   "source": [
    "X_train.columns[~rfe.support_]"
   ]
  },
  {
   "cell_type": "code",
   "execution_count": 2794,
   "id": "72eba64e-c0a8-4fb8-aedb-21c528dc246d",
   "metadata": {},
   "outputs": [
    {
     "data": {
      "text/html": [
       "<table class=\"simpletable\">\n",
       "<caption>Generalized Linear Model Regression Results</caption>\n",
       "<tr>\n",
       "  <th>Dep. Variable:</th>       <td>Converted</td>    <th>  No. Observations:  </th>  <td>  6372</td> \n",
       "</tr>\n",
       "<tr>\n",
       "  <th>Model:</th>                  <td>GLM</td>       <th>  Df Residuals:      </th>  <td>  6356</td> \n",
       "</tr>\n",
       "<tr>\n",
       "  <th>Model Family:</th>        <td>Binomial</td>     <th>  Df Model:          </th>  <td>    15</td> \n",
       "</tr>\n",
       "<tr>\n",
       "  <th>Link Function:</th>         <td>Logit</td>      <th>  Scale:             </th> <td>  1.0000</td>\n",
       "</tr>\n",
       "<tr>\n",
       "  <th>Method:</th>                <td>IRLS</td>       <th>  Log-Likelihood:    </th> <td> -1196.1</td>\n",
       "</tr>\n",
       "<tr>\n",
       "  <th>Date:</th>            <td>Sun, 16 Mar 2025</td> <th>  Deviance:          </th> <td>  2392.2</td>\n",
       "</tr>\n",
       "<tr>\n",
       "  <th>Time:</th>                <td>12:46:21</td>     <th>  Pearson chi2:      </th> <td>1.06e+04</td>\n",
       "</tr>\n",
       "<tr>\n",
       "  <th>No. Iterations:</th>          <td>8</td>        <th>  Pseudo R-squ. (CS):</th>  <td>0.6142</td> \n",
       "</tr>\n",
       "<tr>\n",
       "  <th>Covariance Type:</th>     <td>nonrobust</td>    <th>                     </th>     <td> </td>   \n",
       "</tr>\n",
       "</table>\n",
       "<table class=\"simpletable\">\n",
       "<tr>\n",
       "                        <td></td>                           <th>coef</th>     <th>std err</th>      <th>z</th>      <th>P>|z|</th>  <th>[0.025</th>    <th>0.975]</th>  \n",
       "</tr>\n",
       "<tr>\n",
       "  <th>const</th>                                         <td>   -1.6303</td> <td>    0.090</td> <td>  -18.163</td> <td> 0.000</td> <td>   -1.806</td> <td>   -1.454</td>\n",
       "</tr>\n",
       "<tr>\n",
       "  <th>Total Time Spent on Website</th>                   <td>    0.9644</td> <td>    0.055</td> <td>   17.499</td> <td> 0.000</td> <td>    0.856</td> <td>    1.072</td>\n",
       "</tr>\n",
       "<tr>\n",
       "  <th>Lead Origin_Lead Add Form</th>                     <td>    1.2712</td> <td>    0.392</td> <td>    3.242</td> <td> 0.001</td> <td>    0.503</td> <td>    2.040</td>\n",
       "</tr>\n",
       "<tr>\n",
       "  <th>Specialization_Available</th>                      <td>    1.8821</td> <td>    0.141</td> <td>   13.355</td> <td> 0.000</td> <td>    1.606</td> <td>    2.158</td>\n",
       "</tr>\n",
       "<tr>\n",
       "  <th>Lead Source_Welingak Website</th>                  <td>    2.5625</td> <td>    0.846</td> <td>    3.028</td> <td> 0.002</td> <td>    0.904</td> <td>    4.221</td>\n",
       "</tr>\n",
       "<tr>\n",
       "  <th>Last Activity_SMS Sent</th>                        <td>    1.8767</td> <td>    0.117</td> <td>   15.976</td> <td> 0.000</td> <td>    1.646</td> <td>    2.107</td>\n",
       "</tr>\n",
       "<tr>\n",
       "  <th>Last Notable Activity_Modified</th>                <td>   -1.6149</td> <td>    0.129</td> <td>  -12.489</td> <td> 0.000</td> <td>   -1.868</td> <td>   -1.361</td>\n",
       "</tr>\n",
       "<tr>\n",
       "  <th>Last Notable Activity_Olark Chat Conversation</th> <td>   -1.3958</td> <td>    0.442</td> <td>   -3.161</td> <td> 0.002</td> <td>   -2.261</td> <td>   -0.530</td>\n",
       "</tr>\n",
       "<tr>\n",
       "  <th>Tags_Already a student</th>                        <td>   -3.6965</td> <td>    0.612</td> <td>   -6.038</td> <td> 0.000</td> <td>   -4.896</td> <td>   -2.497</td>\n",
       "</tr>\n",
       "<tr>\n",
       "  <th>Tags_Closed by Horizzon</th>                       <td>    6.6630</td> <td>    0.741</td> <td>    8.987</td> <td> 0.000</td> <td>    5.210</td> <td>    8.116</td>\n",
       "</tr>\n",
       "<tr>\n",
       "  <th>Tags_Interested in other courses</th>              <td>   -2.6609</td> <td>    0.376</td> <td>   -7.072</td> <td> 0.000</td> <td>   -3.398</td> <td>   -1.923</td>\n",
       "</tr>\n",
       "<tr>\n",
       "  <th>Tags_Lost to EINS</th>                             <td>    6.3305</td> <td>    0.733</td> <td>    8.633</td> <td> 0.000</td> <td>    4.893</td> <td>    7.768</td>\n",
       "</tr>\n",
       "<tr>\n",
       "  <th>Tags_Other_Tags</th>                               <td>   -2.2703</td> <td>    0.244</td> <td>   -9.320</td> <td> 0.000</td> <td>   -2.748</td> <td>   -1.793</td>\n",
       "</tr>\n",
       "<tr>\n",
       "  <th>Tags_Ringing</th>                                  <td>   -3.8900</td> <td>    0.252</td> <td>  -15.448</td> <td> 0.000</td> <td>   -4.384</td> <td>   -3.396</td>\n",
       "</tr>\n",
       "<tr>\n",
       "  <th>Tags_Will revert after reading the email</th>      <td>    4.6040</td> <td>    0.191</td> <td>   24.104</td> <td> 0.000</td> <td>    4.230</td> <td>    4.978</td>\n",
       "</tr>\n",
       "<tr>\n",
       "  <th>Tags_switched off</th>                             <td>   -4.1740</td> <td>    0.638</td> <td>   -6.544</td> <td> 0.000</td> <td>   -5.424</td> <td>   -2.924</td>\n",
       "</tr>\n",
       "</table>"
      ],
      "text/latex": [
       "\\begin{center}\n",
       "\\begin{tabular}{lclc}\n",
       "\\toprule\n",
       "\\textbf{Dep. Variable:}                                 &    Converted     & \\textbf{  No. Observations:  } &     6372    \\\\\n",
       "\\textbf{Model:}                                         &       GLM        & \\textbf{  Df Residuals:      } &     6356    \\\\\n",
       "\\textbf{Model Family:}                                  &     Binomial     & \\textbf{  Df Model:          } &       15    \\\\\n",
       "\\textbf{Link Function:}                                 &      Logit       & \\textbf{  Scale:             } &    1.0000   \\\\\n",
       "\\textbf{Method:}                                        &       IRLS       & \\textbf{  Log-Likelihood:    } &   -1196.1   \\\\\n",
       "\\textbf{Date:}                                          & Sun, 16 Mar 2025 & \\textbf{  Deviance:          } &    2392.2   \\\\\n",
       "\\textbf{Time:}                                          &     12:46:21     & \\textbf{  Pearson chi2:      } &  1.06e+04   \\\\\n",
       "\\textbf{No. Iterations:}                                &        8         & \\textbf{  Pseudo R-squ. (CS):} &   0.6142    \\\\\n",
       "\\textbf{Covariance Type:}                               &    nonrobust     & \\textbf{                     } &             \\\\\n",
       "\\bottomrule\n",
       "\\end{tabular}\n",
       "\\begin{tabular}{lcccccc}\n",
       "                                                        & \\textbf{coef} & \\textbf{std err} & \\textbf{z} & \\textbf{P$> |$z$|$} & \\textbf{[0.025} & \\textbf{0.975]}  \\\\\n",
       "\\midrule\n",
       "\\textbf{const}                                          &      -1.6303  &        0.090     &   -18.163  &         0.000        &       -1.806    &       -1.454     \\\\\n",
       "\\textbf{Total Time Spent on Website}                    &       0.9644  &        0.055     &    17.499  &         0.000        &        0.856    &        1.072     \\\\\n",
       "\\textbf{Lead Origin\\_Lead Add Form}                     &       1.2712  &        0.392     &     3.242  &         0.001        &        0.503    &        2.040     \\\\\n",
       "\\textbf{Specialization\\_Available}                      &       1.8821  &        0.141     &    13.355  &         0.000        &        1.606    &        2.158     \\\\\n",
       "\\textbf{Lead Source\\_Welingak Website}                  &       2.5625  &        0.846     &     3.028  &         0.002        &        0.904    &        4.221     \\\\\n",
       "\\textbf{Last Activity\\_SMS Sent}                        &       1.8767  &        0.117     &    15.976  &         0.000        &        1.646    &        2.107     \\\\\n",
       "\\textbf{Last Notable Activity\\_Modified}                &      -1.6149  &        0.129     &   -12.489  &         0.000        &       -1.868    &       -1.361     \\\\\n",
       "\\textbf{Last Notable Activity\\_Olark Chat Conversation} &      -1.3958  &        0.442     &    -3.161  &         0.002        &       -2.261    &       -0.530     \\\\\n",
       "\\textbf{Tags\\_Already a student}                        &      -3.6965  &        0.612     &    -6.038  &         0.000        &       -4.896    &       -2.497     \\\\\n",
       "\\textbf{Tags\\_Closed by Horizzon}                       &       6.6630  &        0.741     &     8.987  &         0.000        &        5.210    &        8.116     \\\\\n",
       "\\textbf{Tags\\_Interested in other courses}              &      -2.6609  &        0.376     &    -7.072  &         0.000        &       -3.398    &       -1.923     \\\\\n",
       "\\textbf{Tags\\_Lost to EINS}                             &       6.3305  &        0.733     &     8.633  &         0.000        &        4.893    &        7.768     \\\\\n",
       "\\textbf{Tags\\_Other\\_Tags}                              &      -2.2703  &        0.244     &    -9.320  &         0.000        &       -2.748    &       -1.793     \\\\\n",
       "\\textbf{Tags\\_Ringing}                                  &      -3.8900  &        0.252     &   -15.448  &         0.000        &       -4.384    &       -3.396     \\\\\n",
       "\\textbf{Tags\\_Will revert after reading the email}      &       4.6040  &        0.191     &    24.104  &         0.000        &        4.230    &        4.978     \\\\\n",
       "\\textbf{Tags\\_switched off}                             &      -4.1740  &        0.638     &    -6.544  &         0.000        &       -5.424    &       -2.924     \\\\\n",
       "\\bottomrule\n",
       "\\end{tabular}\n",
       "%\\caption{Generalized Linear Model Regression Results}\n",
       "\\end{center}"
      ],
      "text/plain": [
       "<class 'statsmodels.iolib.summary.Summary'>\n",
       "\"\"\"\n",
       "                 Generalized Linear Model Regression Results                  \n",
       "==============================================================================\n",
       "Dep. Variable:              Converted   No. Observations:                 6372\n",
       "Model:                            GLM   Df Residuals:                     6356\n",
       "Model Family:                Binomial   Df Model:                           15\n",
       "Link Function:                  Logit   Scale:                          1.0000\n",
       "Method:                          IRLS   Log-Likelihood:                -1196.1\n",
       "Date:                Sun, 16 Mar 2025   Deviance:                       2392.2\n",
       "Time:                        12:46:21   Pearson chi2:                 1.06e+04\n",
       "No. Iterations:                     8   Pseudo R-squ. (CS):             0.6142\n",
       "Covariance Type:            nonrobust                                         \n",
       "=================================================================================================================\n",
       "                                                    coef    std err          z      P>|z|      [0.025      0.975]\n",
       "-----------------------------------------------------------------------------------------------------------------\n",
       "const                                            -1.6303      0.090    -18.163      0.000      -1.806      -1.454\n",
       "Total Time Spent on Website                       0.9644      0.055     17.499      0.000       0.856       1.072\n",
       "Lead Origin_Lead Add Form                         1.2712      0.392      3.242      0.001       0.503       2.040\n",
       "Specialization_Available                          1.8821      0.141     13.355      0.000       1.606       2.158\n",
       "Lead Source_Welingak Website                      2.5625      0.846      3.028      0.002       0.904       4.221\n",
       "Last Activity_SMS Sent                            1.8767      0.117     15.976      0.000       1.646       2.107\n",
       "Last Notable Activity_Modified                   -1.6149      0.129    -12.489      0.000      -1.868      -1.361\n",
       "Last Notable Activity_Olark Chat Conversation    -1.3958      0.442     -3.161      0.002      -2.261      -0.530\n",
       "Tags_Already a student                           -3.6965      0.612     -6.038      0.000      -4.896      -2.497\n",
       "Tags_Closed by Horizzon                           6.6630      0.741      8.987      0.000       5.210       8.116\n",
       "Tags_Interested in other courses                 -2.6609      0.376     -7.072      0.000      -3.398      -1.923\n",
       "Tags_Lost to EINS                                 6.3305      0.733      8.633      0.000       4.893       7.768\n",
       "Tags_Other_Tags                                  -2.2703      0.244     -9.320      0.000      -2.748      -1.793\n",
       "Tags_Ringing                                     -3.8900      0.252    -15.448      0.000      -4.384      -3.396\n",
       "Tags_Will revert after reading the email          4.6040      0.191     24.104      0.000       4.230       4.978\n",
       "Tags_switched off                                -4.1740      0.638     -6.544      0.000      -5.424      -2.924\n",
       "=================================================================================================================\n",
       "\"\"\""
      ]
     },
     "execution_count": 2794,
     "metadata": {},
     "output_type": "execute_result"
    }
   ],
   "source": [
    "#BUILDING MODEL #1\n",
    "\n",
    "X_train_sm = sm.add_constant(X_train[col])\n",
    "logm1 = sm.GLM(y_train,X_train_sm, family = sm.families.Binomial())\n",
    "res = logm1.fit()\n",
    "res.summary()"
   ]
  },
  {
   "cell_type": "markdown",
   "id": "2264f108-5e27-43af-959f-779c14c632fd",
   "metadata": {},
   "source": [
    "Since 'All' the p-values are less we can check the Variance Inflation Factor to see if there is any correlation between the variables"
   ]
  },
  {
   "cell_type": "markdown",
   "id": "284a8ea1-9784-4a0f-b31b-d83e05fa320d",
   "metadata": {},
   "source": [
    "#### Checking VIF"
   ]
  },
  {
   "cell_type": "code",
   "execution_count": 2797,
   "id": "fd296796-b813-47a6-b0d4-3ffb0add15b3",
   "metadata": {},
   "outputs": [],
   "source": [
    "# Check for the VIF values of the feature variables. \n",
    "from statsmodels.stats.outliers_influence import variance_inflation_factor"
   ]
  },
  {
   "cell_type": "code",
   "execution_count": 2798,
   "id": "c147ece2-fa07-4194-a010-a0b6779d6fa5",
   "metadata": {},
   "outputs": [
    {
     "data": {
      "text/html": [
       "<div>\n",
       "<style scoped>\n",
       "    .dataframe tbody tr th:only-of-type {\n",
       "        vertical-align: middle;\n",
       "    }\n",
       "\n",
       "    .dataframe tbody tr th {\n",
       "        vertical-align: top;\n",
       "    }\n",
       "\n",
       "    .dataframe thead th {\n",
       "        text-align: right;\n",
       "    }\n",
       "</style>\n",
       "<table border=\"1\" class=\"dataframe\">\n",
       "  <thead>\n",
       "    <tr style=\"text-align: right;\">\n",
       "      <th></th>\n",
       "      <th>Features</th>\n",
       "      <th>VIF</th>\n",
       "    </tr>\n",
       "  </thead>\n",
       "  <tbody>\n",
       "    <tr>\n",
       "      <th>1</th>\n",
       "      <td>Lead Origin_Lead Add Form</td>\n",
       "      <td>1.78</td>\n",
       "    </tr>\n",
       "    <tr>\n",
       "      <th>13</th>\n",
       "      <td>Tags_Will revert after reading the email</td>\n",
       "      <td>1.52</td>\n",
       "    </tr>\n",
       "    <tr>\n",
       "      <th>4</th>\n",
       "      <td>Last Activity_SMS Sent</td>\n",
       "      <td>1.48</td>\n",
       "    </tr>\n",
       "    <tr>\n",
       "      <th>2</th>\n",
       "      <td>Specialization_Available</td>\n",
       "      <td>1.41</td>\n",
       "    </tr>\n",
       "    <tr>\n",
       "      <th>3</th>\n",
       "      <td>Lead Source_Welingak Website</td>\n",
       "      <td>1.40</td>\n",
       "    </tr>\n",
       "    <tr>\n",
       "      <th>5</th>\n",
       "      <td>Last Notable Activity_Modified</td>\n",
       "      <td>1.40</td>\n",
       "    </tr>\n",
       "    <tr>\n",
       "      <th>0</th>\n",
       "      <td>Total Time Spent on Website</td>\n",
       "      <td>1.23</td>\n",
       "    </tr>\n",
       "    <tr>\n",
       "      <th>8</th>\n",
       "      <td>Tags_Closed by Horizzon</td>\n",
       "      <td>1.22</td>\n",
       "    </tr>\n",
       "    <tr>\n",
       "      <th>9</th>\n",
       "      <td>Tags_Interested in other courses</td>\n",
       "      <td>1.19</td>\n",
       "    </tr>\n",
       "    <tr>\n",
       "      <th>12</th>\n",
       "      <td>Tags_Ringing</td>\n",
       "      <td>1.14</td>\n",
       "    </tr>\n",
       "    <tr>\n",
       "      <th>11</th>\n",
       "      <td>Tags_Other_Tags</td>\n",
       "      <td>1.11</td>\n",
       "    </tr>\n",
       "    <tr>\n",
       "      <th>7</th>\n",
       "      <td>Tags_Already a student</td>\n",
       "      <td>1.10</td>\n",
       "    </tr>\n",
       "    <tr>\n",
       "      <th>10</th>\n",
       "      <td>Tags_Lost to EINS</td>\n",
       "      <td>1.05</td>\n",
       "    </tr>\n",
       "    <tr>\n",
       "      <th>14</th>\n",
       "      <td>Tags_switched off</td>\n",
       "      <td>1.03</td>\n",
       "    </tr>\n",
       "    <tr>\n",
       "      <th>6</th>\n",
       "      <td>Last Notable Activity_Olark Chat Conversation</td>\n",
       "      <td>1.02</td>\n",
       "    </tr>\n",
       "  </tbody>\n",
       "</table>\n",
       "</div>"
      ],
      "text/plain": [
       "                                         Features   VIF\n",
       "1                       Lead Origin_Lead Add Form  1.78\n",
       "13       Tags_Will revert after reading the email  1.52\n",
       "4                          Last Activity_SMS Sent  1.48\n",
       "2                        Specialization_Available  1.41\n",
       "3                    Lead Source_Welingak Website  1.40\n",
       "5                  Last Notable Activity_Modified  1.40\n",
       "0                     Total Time Spent on Website  1.23\n",
       "8                         Tags_Closed by Horizzon  1.22\n",
       "9                Tags_Interested in other courses  1.19\n",
       "12                                   Tags_Ringing  1.14\n",
       "11                                Tags_Other_Tags  1.11\n",
       "7                          Tags_Already a student  1.10\n",
       "10                              Tags_Lost to EINS  1.05\n",
       "14                              Tags_switched off  1.03\n",
       "6   Last Notable Activity_Olark Chat Conversation  1.02"
      ]
     },
     "execution_count": 2798,
     "metadata": {},
     "output_type": "execute_result"
    }
   ],
   "source": [
    "# Create a dataframe that will contain the names of all the feature variables and their respective VIFs\n",
    "vif = pd.DataFrame()\n",
    "vif['Features'] = X_train[col].columns\n",
    "vif['VIF'] = [variance_inflation_factor(X_train[col].values.astype(float), i) for i in range(X_train[col].shape[1])]\n",
    "vif['VIF'] = round(vif['VIF'], 2)\n",
    "vif = vif.sort_values(by = \"VIF\", ascending = False)\n",
    "vif"
   ]
  },
  {
   "cell_type": "markdown",
   "id": "9f828688-1d21-4143-b87e-0e50a3dccd29",
   "metadata": {},
   "source": [
    "The VIF values are less than 5 so there is no corelation between the features.Moving on to derive the Probabilities, Lead Score, Predictions on Train Data\r\n",
    "\r\n"
   ]
  },
  {
   "cell_type": "code",
   "execution_count": 2800,
   "id": "021c3791-6878-46c4-8727-58beb9c6ef98",
   "metadata": {},
   "outputs": [
    {
     "data": {
      "text/plain": [
       "array([0.35431839, 0.0851773 , 0.0146096 , 0.9868481 , 0.01346021,\n",
       "       0.07726717, 0.02168633, 0.93014525, 0.35357966, 0.98286293])"
      ]
     },
     "execution_count": 2800,
     "metadata": {},
     "output_type": "execute_result"
    }
   ],
   "source": [
    "# Getting the Predicted values on the train set\n",
    "y_train_pred = res.predict(X_train_sm.astype(float)).values.reshape(-1)\n",
    "y_train_pred[:10]"
   ]
  },
  {
   "cell_type": "code",
   "execution_count": 2801,
   "id": "ddb04134-8154-4d1d-89d7-a13401af2a74",
   "metadata": {},
   "outputs": [
    {
     "data": {
      "text/html": [
       "<div>\n",
       "<style scoped>\n",
       "    .dataframe tbody tr th:only-of-type {\n",
       "        vertical-align: middle;\n",
       "    }\n",
       "\n",
       "    .dataframe tbody tr th {\n",
       "        vertical-align: top;\n",
       "    }\n",
       "\n",
       "    .dataframe thead th {\n",
       "        text-align: right;\n",
       "    }\n",
       "</style>\n",
       "<table border=\"1\" class=\"dataframe\">\n",
       "  <thead>\n",
       "    <tr style=\"text-align: right;\">\n",
       "      <th></th>\n",
       "      <th>Converted</th>\n",
       "      <th>Converted_prob</th>\n",
       "      <th>Prospect ID</th>\n",
       "    </tr>\n",
       "  </thead>\n",
       "  <tbody>\n",
       "    <tr>\n",
       "      <th>0</th>\n",
       "      <td>0</td>\n",
       "      <td>0.354318</td>\n",
       "      <td>7962</td>\n",
       "    </tr>\n",
       "    <tr>\n",
       "      <th>1</th>\n",
       "      <td>0</td>\n",
       "      <td>0.085177</td>\n",
       "      <td>5520</td>\n",
       "    </tr>\n",
       "    <tr>\n",
       "      <th>2</th>\n",
       "      <td>0</td>\n",
       "      <td>0.014610</td>\n",
       "      <td>1962</td>\n",
       "    </tr>\n",
       "    <tr>\n",
       "      <th>3</th>\n",
       "      <td>1</td>\n",
       "      <td>0.986848</td>\n",
       "      <td>1566</td>\n",
       "    </tr>\n",
       "    <tr>\n",
       "      <th>4</th>\n",
       "      <td>0</td>\n",
       "      <td>0.013460</td>\n",
       "      <td>9170</td>\n",
       "    </tr>\n",
       "  </tbody>\n",
       "</table>\n",
       "</div>"
      ],
      "text/plain": [
       "   Converted  Converted_prob  Prospect ID\n",
       "0          0        0.354318         7962\n",
       "1          0        0.085177         5520\n",
       "2          0        0.014610         1962\n",
       "3          1        0.986848         1566\n",
       "4          0        0.013460         9170"
      ]
     },
     "execution_count": 2801,
     "metadata": {},
     "output_type": "execute_result"
    }
   ],
   "source": [
    "y_train_pred_final = pd.DataFrame({'Converted':y_train.values, 'Converted_prob':y_train_pred})\n",
    "y_train_pred_final['Prospect ID'] = y_train.index\n",
    "y_train_pred_final.head()"
   ]
  },
  {
   "cell_type": "code",
   "execution_count": 2802,
   "id": "6f5102dd-3c1e-4aca-9df1-d97809663e1c",
   "metadata": {},
   "outputs": [
    {
     "data": {
      "text/html": [
       "<div>\n",
       "<style scoped>\n",
       "    .dataframe tbody tr th:only-of-type {\n",
       "        vertical-align: middle;\n",
       "    }\n",
       "\n",
       "    .dataframe tbody tr th {\n",
       "        vertical-align: top;\n",
       "    }\n",
       "\n",
       "    .dataframe thead th {\n",
       "        text-align: right;\n",
       "    }\n",
       "</style>\n",
       "<table border=\"1\" class=\"dataframe\">\n",
       "  <thead>\n",
       "    <tr style=\"text-align: right;\">\n",
       "      <th></th>\n",
       "      <th>Converted</th>\n",
       "      <th>Converted_prob</th>\n",
       "      <th>Prospect ID</th>\n",
       "      <th>Predicted</th>\n",
       "    </tr>\n",
       "  </thead>\n",
       "  <tbody>\n",
       "    <tr>\n",
       "      <th>0</th>\n",
       "      <td>0</td>\n",
       "      <td>0.354318</td>\n",
       "      <td>7962</td>\n",
       "      <td>0</td>\n",
       "    </tr>\n",
       "    <tr>\n",
       "      <th>1</th>\n",
       "      <td>0</td>\n",
       "      <td>0.085177</td>\n",
       "      <td>5520</td>\n",
       "      <td>0</td>\n",
       "    </tr>\n",
       "    <tr>\n",
       "      <th>2</th>\n",
       "      <td>0</td>\n",
       "      <td>0.014610</td>\n",
       "      <td>1962</td>\n",
       "      <td>0</td>\n",
       "    </tr>\n",
       "    <tr>\n",
       "      <th>3</th>\n",
       "      <td>1</td>\n",
       "      <td>0.986848</td>\n",
       "      <td>1566</td>\n",
       "      <td>1</td>\n",
       "    </tr>\n",
       "    <tr>\n",
       "      <th>4</th>\n",
       "      <td>0</td>\n",
       "      <td>0.013460</td>\n",
       "      <td>9170</td>\n",
       "      <td>0</td>\n",
       "    </tr>\n",
       "  </tbody>\n",
       "</table>\n",
       "</div>"
      ],
      "text/plain": [
       "   Converted  Converted_prob  Prospect ID  Predicted\n",
       "0          0        0.354318         7962          0\n",
       "1          0        0.085177         5520          0\n",
       "2          0        0.014610         1962          0\n",
       "3          1        0.986848         1566          1\n",
       "4          0        0.013460         9170          0"
      ]
     },
     "execution_count": 2802,
     "metadata": {},
     "output_type": "execute_result"
    }
   ],
   "source": [
    "y_train_pred_final['Predicted'] = y_train_pred_final.Converted_prob.map(lambda x: 1 if x > 0.5 else 0)\n",
    "\n",
    "# Let's see the head\n",
    "y_train_pred_final.head()"
   ]
  },
  {
   "cell_type": "code",
   "execution_count": 2803,
   "id": "f7c4b334-f420-47bf-a06d-54bf9a72b46a",
   "metadata": {},
   "outputs": [
    {
     "name": "stdout",
     "output_type": "stream",
     "text": [
      "[[3802  151]\n",
      " [ 300 2119]]\n"
     ]
    }
   ],
   "source": [
    "from sklearn import metrics\n",
    "\n",
    "# Confusion matrix\n",
    "confusion = metrics.confusion_matrix(y_train_pred_final.Converted, y_train_pred_final.Predicted )\n",
    "print(confusion)"
   ]
  },
  {
   "cell_type": "code",
   "execution_count": 2804,
   "id": "fa57209c-d9b9-4f98-a168-7d02e1713b0c",
   "metadata": {},
   "outputs": [
    {
     "name": "stdout",
     "output_type": "stream",
     "text": [
      "0.9292215944758317\n"
     ]
    }
   ],
   "source": [
    "# Let's check the overall accuracy.\n",
    "print(metrics.accuracy_score(y_train_pred_final.Converted, y_train_pred_final.Predicted))"
   ]
  },
  {
   "cell_type": "markdown",
   "id": "ce47911b-f431-4dac-a02b-da8a2e8f7975",
   "metadata": {},
   "source": [
    "#### Metrics beyond simply accuracy"
   ]
  },
  {
   "cell_type": "code",
   "execution_count": 2806,
   "id": "7c82ee3d-4bca-44e0-bb50-afbc92b805a5",
   "metadata": {},
   "outputs": [],
   "source": [
    "TP = confusion[1,1] # true positive\n",
    "TN = confusion[0,0] # true negatives\n",
    "FP = confusion[0,1] # false positives\n",
    "FN = confusion[1,0] # false negatives"
   ]
  },
  {
   "cell_type": "code",
   "execution_count": 2807,
   "id": "98f8ba91-7e4e-41af-a004-f020800575c7",
   "metadata": {},
   "outputs": [
    {
     "data": {
      "text/plain": [
       "0.8759818106655642"
      ]
     },
     "execution_count": 2807,
     "metadata": {},
     "output_type": "execute_result"
    }
   ],
   "source": [
    "# Let's see the sensitivity of our logistic regression model\n",
    "TP / float(TP+FN)"
   ]
  },
  {
   "cell_type": "code",
   "execution_count": 2808,
   "id": "6d59871b-6e56-462b-8dc6-37f1d5ac3765",
   "metadata": {},
   "outputs": [
    {
     "data": {
      "text/plain": [
       "0.9618011636731596"
      ]
     },
     "execution_count": 2808,
     "metadata": {},
     "output_type": "execute_result"
    }
   ],
   "source": [
    "# Let us calculate specificity\n",
    "TN / float(TN+FP)"
   ]
  },
  {
   "cell_type": "code",
   "execution_count": 2809,
   "id": "e8496802-3e5e-413c-807b-9627ad64df0e",
   "metadata": {},
   "outputs": [
    {
     "name": "stdout",
     "output_type": "stream",
     "text": [
      "0.038198836326840374\n"
     ]
    }
   ],
   "source": [
    "# Calculate False Postive Rate - predicting conversion when customer does not have convert\n",
    "print(FP/ float(TN+FP))"
   ]
  },
  {
   "cell_type": "code",
   "execution_count": 2810,
   "id": "bcbfcf07-3d81-411a-8eed-af13afa09275",
   "metadata": {},
   "outputs": [
    {
     "name": "stdout",
     "output_type": "stream",
     "text": [
      "0.9334801762114537\n"
     ]
    }
   ],
   "source": [
    "# positive predictive value\n",
    "print (TP / float(TP+FP))"
   ]
  },
  {
   "cell_type": "code",
   "execution_count": 2811,
   "id": "0d26564a-a5fe-4570-92f3-df310a901249",
   "metadata": {},
   "outputs": [
    {
     "name": "stdout",
     "output_type": "stream",
     "text": [
      "0.9268649439297904\n"
     ]
    }
   ],
   "source": [
    "# Negative predictive value\n",
    "print (TN / float(TN+ FN))"
   ]
  },
  {
   "cell_type": "markdown",
   "id": "779e9f7b-5cc0-4cd7-8d62-292385da932b",
   "metadata": {},
   "source": [
    "### Plotting the ROC Curve"
   ]
  },
  {
   "cell_type": "code",
   "execution_count": 2813,
   "id": "44dd319b-8036-48c2-b9f6-fff9289692e7",
   "metadata": {},
   "outputs": [],
   "source": [
    "def draw_roc( actual, probs ):\n",
    "    fpr, tpr, thresholds = metrics.roc_curve( actual, probs,\n",
    "                                              drop_intermediate = False )\n",
    "    auc_score = metrics.roc_auc_score( actual, probs )\n",
    "    plt.figure(figsize=(5, 5))\n",
    "    plt.plot( fpr, tpr, label='ROC curve (area = %0.2f)' % auc_score )\n",
    "    plt.plot([0, 1], [0, 1], 'k--')\n",
    "    plt.xlim([0.0, 1.0])\n",
    "    plt.ylim([0.0, 1.05])\n",
    "    plt.xlabel('False Positive Rate or [1 - True Negative Rate]')\n",
    "    plt.ylabel('True Positive Rate')\n",
    "    plt.title('Receiver operating characteristic example')\n",
    "    plt.legend(loc=\"lower right\")\n",
    "    plt.show()\n",
    "\n",
    "    return None"
   ]
  },
  {
   "cell_type": "code",
   "execution_count": 2814,
   "id": "cc5fcfdd-fcd4-48b0-830f-4aa492676fef",
   "metadata": {},
   "outputs": [
    {
     "data": {
      "text/html": [
       "<div>\n",
       "<style scoped>\n",
       "    .dataframe tbody tr th:only-of-type {\n",
       "        vertical-align: middle;\n",
       "    }\n",
       "\n",
       "    .dataframe tbody tr th {\n",
       "        vertical-align: top;\n",
       "    }\n",
       "\n",
       "    .dataframe thead th {\n",
       "        text-align: right;\n",
       "    }\n",
       "</style>\n",
       "<table border=\"1\" class=\"dataframe\">\n",
       "  <thead>\n",
       "    <tr style=\"text-align: right;\">\n",
       "      <th></th>\n",
       "      <th>Converted</th>\n",
       "      <th>Converted_prob</th>\n",
       "      <th>Prospect ID</th>\n",
       "      <th>Predicted</th>\n",
       "    </tr>\n",
       "  </thead>\n",
       "  <tbody>\n",
       "    <tr>\n",
       "      <th>0</th>\n",
       "      <td>0</td>\n",
       "      <td>0.354318</td>\n",
       "      <td>7962</td>\n",
       "      <td>0</td>\n",
       "    </tr>\n",
       "    <tr>\n",
       "      <th>1</th>\n",
       "      <td>0</td>\n",
       "      <td>0.085177</td>\n",
       "      <td>5520</td>\n",
       "      <td>0</td>\n",
       "    </tr>\n",
       "    <tr>\n",
       "      <th>2</th>\n",
       "      <td>0</td>\n",
       "      <td>0.014610</td>\n",
       "      <td>1962</td>\n",
       "      <td>0</td>\n",
       "    </tr>\n",
       "    <tr>\n",
       "      <th>3</th>\n",
       "      <td>1</td>\n",
       "      <td>0.986848</td>\n",
       "      <td>1566</td>\n",
       "      <td>1</td>\n",
       "    </tr>\n",
       "    <tr>\n",
       "      <th>4</th>\n",
       "      <td>0</td>\n",
       "      <td>0.013460</td>\n",
       "      <td>9170</td>\n",
       "      <td>0</td>\n",
       "    </tr>\n",
       "  </tbody>\n",
       "</table>\n",
       "</div>"
      ],
      "text/plain": [
       "   Converted  Converted_prob  Prospect ID  Predicted\n",
       "0          0        0.354318         7962          0\n",
       "1          0        0.085177         5520          0\n",
       "2          0        0.014610         1962          0\n",
       "3          1        0.986848         1566          1\n",
       "4          0        0.013460         9170          0"
      ]
     },
     "execution_count": 2814,
     "metadata": {},
     "output_type": "execute_result"
    }
   ],
   "source": [
    "y_train_pred_final.head()"
   ]
  },
  {
   "cell_type": "code",
   "execution_count": 2815,
   "id": "28b4d82c-3930-49c6-94c5-b898a5d042a0",
   "metadata": {},
   "outputs": [],
   "source": [
    "fpr, tpr, thresholds = metrics.roc_curve(y_train_pred_final['Converted'], y_train_pred_final['Converted_prob'], drop_intermediate = False )"
   ]
  },
  {
   "cell_type": "code",
   "execution_count": 2816,
   "id": "b965b44a-dc51-4fa4-9352-09092b242ce5",
   "metadata": {},
   "outputs": [
    {
     "data": {
      "image/png": "[encoded data removed]",
      "text/plain": [
       "<Figure size 500x500 with 1 Axes>"
      ]
     },
     "metadata": {},
     "output_type": "display_data"
    }
   ],
   "source": [
    "draw_roc(y_train_pred_final['Converted'], y_train_pred_final['Converted_prob'])"
   ]
  },
  {
   "cell_type": "markdown",
   "id": "cac96e9f-a759-4dae-a7e7-86266d7346ae",
   "metadata": {},
   "source": [
    "### Finding Optimal Cutoff Point"
   ]
  },
  {
   "cell_type": "code",
   "execution_count": 2818,
   "id": "0971e9e6-2e15-48a2-a822-c2db983e12df",
   "metadata": {},
   "outputs": [
    {
     "data": {
      "text/html": [
       "<div>\n",
       "<style scoped>\n",
       "    .dataframe tbody tr th:only-of-type {\n",
       "        vertical-align: middle;\n",
       "    }\n",
       "\n",
       "    .dataframe tbody tr th {\n",
       "        vertical-align: top;\n",
       "    }\n",
       "\n",
       "    .dataframe thead th {\n",
       "        text-align: right;\n",
       "    }\n",
       "</style>\n",
       "<table border=\"1\" class=\"dataframe\">\n",
       "  <thead>\n",
       "    <tr style=\"text-align: right;\">\n",
       "      <th></th>\n",
       "      <th>Converted</th>\n",
       "      <th>Converted_prob</th>\n",
       "      <th>Prospect ID</th>\n",
       "      <th>Predicted</th>\n",
       "      <th>0.0</th>\n",
       "      <th>0.1</th>\n",
       "      <th>0.2</th>\n",
       "      <th>0.3</th>\n",
       "      <th>0.4</th>\n",
       "      <th>0.5</th>\n",
       "      <th>0.6</th>\n",
       "      <th>0.7</th>\n",
       "      <th>0.8</th>\n",
       "      <th>0.9</th>\n",
       "    </tr>\n",
       "  </thead>\n",
       "  <tbody>\n",
       "    <tr>\n",
       "      <th>0</th>\n",
       "      <td>0</td>\n",
       "      <td>0.354318</td>\n",
       "      <td>7962</td>\n",
       "      <td>0</td>\n",
       "      <td>1</td>\n",
       "      <td>1</td>\n",
       "      <td>1</td>\n",
       "      <td>1</td>\n",
       "      <td>0</td>\n",
       "      <td>0</td>\n",
       "      <td>0</td>\n",
       "      <td>0</td>\n",
       "      <td>0</td>\n",
       "      <td>0</td>\n",
       "    </tr>\n",
       "    <tr>\n",
       "      <th>1</th>\n",
       "      <td>0</td>\n",
       "      <td>0.085177</td>\n",
       "      <td>5520</td>\n",
       "      <td>0</td>\n",
       "      <td>1</td>\n",
       "      <td>0</td>\n",
       "      <td>0</td>\n",
       "      <td>0</td>\n",
       "      <td>0</td>\n",
       "      <td>0</td>\n",
       "      <td>0</td>\n",
       "      <td>0</td>\n",
       "      <td>0</td>\n",
       "      <td>0</td>\n",
       "    </tr>\n",
       "    <tr>\n",
       "      <th>2</th>\n",
       "      <td>0</td>\n",
       "      <td>0.014610</td>\n",
       "      <td>1962</td>\n",
       "      <td>0</td>\n",
       "      <td>1</td>\n",
       "      <td>0</td>\n",
       "      <td>0</td>\n",
       "      <td>0</td>\n",
       "      <td>0</td>\n",
       "      <td>0</td>\n",
       "      <td>0</td>\n",
       "      <td>0</td>\n",
       "      <td>0</td>\n",
       "      <td>0</td>\n",
       "    </tr>\n",
       "    <tr>\n",
       "      <th>3</th>\n",
       "      <td>1</td>\n",
       "      <td>0.986848</td>\n",
       "      <td>1566</td>\n",
       "      <td>1</td>\n",
       "      <td>1</td>\n",
       "      <td>1</td>\n",
       "      <td>1</td>\n",
       "      <td>1</td>\n",
       "      <td>1</td>\n",
       "      <td>1</td>\n",
       "      <td>1</td>\n",
       "      <td>1</td>\n",
       "      <td>1</td>\n",
       "      <td>1</td>\n",
       "    </tr>\n",
       "    <tr>\n",
       "      <th>4</th>\n",
       "      <td>0</td>\n",
       "      <td>0.013460</td>\n",
       "      <td>9170</td>\n",
       "      <td>0</td>\n",
       "      <td>1</td>\n",
       "      <td>0</td>\n",
       "      <td>0</td>\n",
       "      <td>0</td>\n",
       "      <td>0</td>\n",
       "      <td>0</td>\n",
       "      <td>0</td>\n",
       "      <td>0</td>\n",
       "      <td>0</td>\n",
       "      <td>0</td>\n",
       "    </tr>\n",
       "  </tbody>\n",
       "</table>\n",
       "</div>"
      ],
      "text/plain": [
       "   Converted  Converted_prob  Prospect ID  Predicted  0.0  0.1  0.2  0.3  0.4  \\\n",
       "0          0        0.354318         7962          0    1    1    1    1    0   \n",
       "1          0        0.085177         5520          0    1    0    0    0    0   \n",
       "2          0        0.014610         1962          0    1    0    0    0    0   \n",
       "3          1        0.986848         1566          1    1    1    1    1    1   \n",
       "4          0        0.013460         9170          0    1    0    0    0    0   \n",
       "\n",
       "   0.5  0.6  0.7  0.8  0.9  \n",
       "0    0    0    0    0    0  \n",
       "1    0    0    0    0    0  \n",
       "2    0    0    0    0    0  \n",
       "3    1    1    1    1    1  \n",
       "4    0    0    0    0    0  "
      ]
     },
     "execution_count": 2818,
     "metadata": {},
     "output_type": "execute_result"
    }
   ],
   "source": [
    "# Let's create columns with different probability cutoffs \n",
    "numbers = [float(x)/10 for x in range(10)]\n",
    "for i in numbers:\n",
    "    y_train_pred_final[i]= y_train_pred_final['Converted_prob'].map(lambda x: 1 if x > i else 0)\n",
    "y_train_pred_final.head()"
   ]
  },
  {
   "cell_type": "code",
   "execution_count": 2819,
   "id": "e452ce05-3787-4f8a-bf8f-2e64fe5d0b6d",
   "metadata": {},
   "outputs": [
    {
     "name": "stdout",
     "output_type": "stream",
     "text": [
      "     prob  accuracy     sensi     speci\n",
      "0.0   0.0  0.379630  1.000000  0.000000\n",
      "0.1   0.1  0.850753  0.968995  0.778396\n",
      "0.2   0.2  0.919648  0.950393  0.900835\n",
      "0.3   0.3  0.926397  0.941298  0.917278\n",
      "0.4   0.4  0.924513  0.897892  0.940804\n",
      "0.5   0.5  0.929222  0.875982  0.961801\n",
      "0.6   0.6  0.930006  0.859446  0.973185\n",
      "0.7   0.7  0.923258  0.832989  0.978497\n",
      "0.8   0.8  0.908349  0.786275  0.983051\n",
      "0.9   0.9  0.890301  0.725920  0.990893\n"
     ]
    }
   ],
   "source": [
    "# Now let's calculate accuracy sensitivity and specificity for various probability cutoffs.\n",
    "cutoff_df = pd.DataFrame( columns = ['prob','accuracy','sensi','speci'])\n",
    "from sklearn.metrics import confusion_matrix\n",
    "\n",
    "# TP = confusion[1,1] # true positive \n",
    "# TN = confusion[0,0] # true negatives\n",
    "# FP = confusion[0,1] # false positives\n",
    "# FN = confusion[1,0] # false negatives\n",
    "\n",
    "num = [0.0,0.1,0.2,0.3,0.4,0.5,0.6,0.7,0.8,0.9]\n",
    "for i in num:\n",
    "    cm1 = metrics.confusion_matrix(y_train_pred_final['Converted'], y_train_pred_final[i] )\n",
    "    total1=sum(sum(cm1))\n",
    "    accuracy = (cm1[0,0]+cm1[1,1])/total1\n",
    "    \n",
    "    speci = cm1[0,0]/(cm1[0,0]+cm1[0,1])\n",
    "    sensi = cm1[1,1]/(cm1[1,0]+cm1[1,1])\n",
    "    cutoff_df.loc[i] =[ i ,accuracy,sensi,speci]\n",
    "print(cutoff_df)"
   ]
  },
  {
   "cell_type": "code",
   "execution_count": 2820,
   "id": "5551c658-a48f-4bc5-9747-1b582ca6089d",
   "metadata": {},
   "outputs": [
    {
     "data": {
      "image/png": "[encoded data removed]",
      "text/plain": [
       "<Figure size 640x480 with 1 Axes>"
      ]
     },
     "metadata": {},
     "output_type": "display_data"
    }
   ],
   "source": [
    "# Let's plot accuracy sensitivity and specificity for various probabilities.\n",
    "cutoff_df.plot.line(x='prob', y=['accuracy','sensi','speci'])\n",
    "plt.show()"
   ]
  },
  {
   "cell_type": "markdown",
   "id": "7141d86e-7620-4d03-a1c7-1d108a0e2fc7",
   "metadata": {},
   "source": [
    "#### From the curve above, 0.30 is the optimum point to take it as a cutoff probability."
   ]
  },
  {
   "cell_type": "code",
   "execution_count": 2822,
   "id": "84e8312a-e281-4069-a922-17190412b68e",
   "metadata": {},
   "outputs": [
    {
     "data": {
      "text/html": [
       "<div>\n",
       "<style scoped>\n",
       "    .dataframe tbody tr th:only-of-type {\n",
       "        vertical-align: middle;\n",
       "    }\n",
       "\n",
       "    .dataframe tbody tr th {\n",
       "        vertical-align: top;\n",
       "    }\n",
       "\n",
       "    .dataframe thead th {\n",
       "        text-align: right;\n",
       "    }\n",
       "</style>\n",
       "<table border=\"1\" class=\"dataframe\">\n",
       "  <thead>\n",
       "    <tr style=\"text-align: right;\">\n",
       "      <th></th>\n",
       "      <th>Converted</th>\n",
       "      <th>Converted_prob</th>\n",
       "      <th>Prospect ID</th>\n",
       "      <th>Predicted</th>\n",
       "      <th>0.0</th>\n",
       "      <th>0.1</th>\n",
       "      <th>0.2</th>\n",
       "      <th>0.3</th>\n",
       "      <th>0.4</th>\n",
       "      <th>0.5</th>\n",
       "      <th>0.6</th>\n",
       "      <th>0.7</th>\n",
       "      <th>0.8</th>\n",
       "      <th>0.9</th>\n",
       "      <th>final_Predicted</th>\n",
       "    </tr>\n",
       "  </thead>\n",
       "  <tbody>\n",
       "    <tr>\n",
       "      <th>0</th>\n",
       "      <td>0</td>\n",
       "      <td>0.354318</td>\n",
       "      <td>7962</td>\n",
       "      <td>0</td>\n",
       "      <td>1</td>\n",
       "      <td>1</td>\n",
       "      <td>1</td>\n",
       "      <td>1</td>\n",
       "      <td>0</td>\n",
       "      <td>0</td>\n",
       "      <td>0</td>\n",
       "      <td>0</td>\n",
       "      <td>0</td>\n",
       "      <td>0</td>\n",
       "      <td>1</td>\n",
       "    </tr>\n",
       "    <tr>\n",
       "      <th>1</th>\n",
       "      <td>0</td>\n",
       "      <td>0.085177</td>\n",
       "      <td>5520</td>\n",
       "      <td>0</td>\n",
       "      <td>1</td>\n",
       "      <td>0</td>\n",
       "      <td>0</td>\n",
       "      <td>0</td>\n",
       "      <td>0</td>\n",
       "      <td>0</td>\n",
       "      <td>0</td>\n",
       "      <td>0</td>\n",
       "      <td>0</td>\n",
       "      <td>0</td>\n",
       "      <td>0</td>\n",
       "    </tr>\n",
       "    <tr>\n",
       "      <th>2</th>\n",
       "      <td>0</td>\n",
       "      <td>0.014610</td>\n",
       "      <td>1962</td>\n",
       "      <td>0</td>\n",
       "      <td>1</td>\n",
       "      <td>0</td>\n",
       "      <td>0</td>\n",
       "      <td>0</td>\n",
       "      <td>0</td>\n",
       "      <td>0</td>\n",
       "      <td>0</td>\n",
       "      <td>0</td>\n",
       "      <td>0</td>\n",
       "      <td>0</td>\n",
       "      <td>0</td>\n",
       "    </tr>\n",
       "    <tr>\n",
       "      <th>3</th>\n",
       "      <td>1</td>\n",
       "      <td>0.986848</td>\n",
       "      <td>1566</td>\n",
       "      <td>1</td>\n",
       "      <td>1</td>\n",
       "      <td>1</td>\n",
       "      <td>1</td>\n",
       "      <td>1</td>\n",
       "      <td>1</td>\n",
       "      <td>1</td>\n",
       "      <td>1</td>\n",
       "      <td>1</td>\n",
       "      <td>1</td>\n",
       "      <td>1</td>\n",
       "      <td>1</td>\n",
       "    </tr>\n",
       "    <tr>\n",
       "      <th>4</th>\n",
       "      <td>0</td>\n",
       "      <td>0.013460</td>\n",
       "      <td>9170</td>\n",
       "      <td>0</td>\n",
       "      <td>1</td>\n",
       "      <td>0</td>\n",
       "      <td>0</td>\n",
       "      <td>0</td>\n",
       "      <td>0</td>\n",
       "      <td>0</td>\n",
       "      <td>0</td>\n",
       "      <td>0</td>\n",
       "      <td>0</td>\n",
       "      <td>0</td>\n",
       "      <td>0</td>\n",
       "    </tr>\n",
       "  </tbody>\n",
       "</table>\n",
       "</div>"
      ],
      "text/plain": [
       "   Converted  Converted_prob  Prospect ID  Predicted  0.0  0.1  0.2  0.3  0.4  \\\n",
       "0          0        0.354318         7962          0    1    1    1    1    0   \n",
       "1          0        0.085177         5520          0    1    0    0    0    0   \n",
       "2          0        0.014610         1962          0    1    0    0    0    0   \n",
       "3          1        0.986848         1566          1    1    1    1    1    1   \n",
       "4          0        0.013460         9170          0    1    0    0    0    0   \n",
       "\n",
       "   0.5  0.6  0.7  0.8  0.9  final_Predicted  \n",
       "0    0    0    0    0    0                1  \n",
       "1    0    0    0    0    0                0  \n",
       "2    0    0    0    0    0                0  \n",
       "3    1    1    1    1    1                1  \n",
       "4    0    0    0    0    0                0  "
      ]
     },
     "execution_count": 2822,
     "metadata": {},
     "output_type": "execute_result"
    }
   ],
   "source": [
    "y_train_pred_final['final_Predicted'] = y_train_pred_final.Converted_prob.map( lambda x: 1 if x > 0.30 else 0)\n",
    "\n",
    "y_train_pred_final.head()"
   ]
  },
  {
   "cell_type": "code",
   "execution_count": 2823,
   "id": "229645f7-b751-4cdc-9ac7-2d03a94b825b",
   "metadata": {},
   "outputs": [
    {
     "data": {
      "text/html": [
       "<div>\n",
       "<style scoped>\n",
       "    .dataframe tbody tr th:only-of-type {\n",
       "        vertical-align: middle;\n",
       "    }\n",
       "\n",
       "    .dataframe tbody tr th {\n",
       "        vertical-align: top;\n",
       "    }\n",
       "\n",
       "    .dataframe thead th {\n",
       "        text-align: right;\n",
       "    }\n",
       "</style>\n",
       "<table border=\"1\" class=\"dataframe\">\n",
       "  <thead>\n",
       "    <tr style=\"text-align: right;\">\n",
       "      <th></th>\n",
       "      <th>Converted</th>\n",
       "      <th>Converted_prob</th>\n",
       "      <th>Prospect ID</th>\n",
       "      <th>final_Predicted</th>\n",
       "      <th>Lead_Score</th>\n",
       "    </tr>\n",
       "  </thead>\n",
       "  <tbody>\n",
       "    <tr>\n",
       "      <th>0</th>\n",
       "      <td>0</td>\n",
       "      <td>0.354318</td>\n",
       "      <td>7962</td>\n",
       "      <td>1</td>\n",
       "      <td>35</td>\n",
       "    </tr>\n",
       "    <tr>\n",
       "      <th>1</th>\n",
       "      <td>0</td>\n",
       "      <td>0.085177</td>\n",
       "      <td>5520</td>\n",
       "      <td>0</td>\n",
       "      <td>9</td>\n",
       "    </tr>\n",
       "    <tr>\n",
       "      <th>2</th>\n",
       "      <td>0</td>\n",
       "      <td>0.014610</td>\n",
       "      <td>1962</td>\n",
       "      <td>0</td>\n",
       "      <td>1</td>\n",
       "    </tr>\n",
       "    <tr>\n",
       "      <th>3</th>\n",
       "      <td>1</td>\n",
       "      <td>0.986848</td>\n",
       "      <td>1566</td>\n",
       "      <td>1</td>\n",
       "      <td>99</td>\n",
       "    </tr>\n",
       "    <tr>\n",
       "      <th>4</th>\n",
       "      <td>0</td>\n",
       "      <td>0.013460</td>\n",
       "      <td>9170</td>\n",
       "      <td>0</td>\n",
       "      <td>1</td>\n",
       "    </tr>\n",
       "  </tbody>\n",
       "</table>\n",
       "</div>"
      ],
      "text/plain": [
       "   Converted  Converted_prob  Prospect ID  final_Predicted  Lead_Score\n",
       "0          0        0.354318         7962                1          35\n",
       "1          0        0.085177         5520                0           9\n",
       "2          0        0.014610         1962                0           1\n",
       "3          1        0.986848         1566                1          99\n",
       "4          0        0.013460         9170                0           1"
      ]
     },
     "execution_count": 2823,
     "metadata": {},
     "output_type": "execute_result"
    }
   ],
   "source": [
    "y_train_pred_final['Lead_Score'] = y_train_pred_final.Converted_prob.map( lambda x: round(x*100))\n",
    "\n",
    "y_train_pred_final[['Converted','Converted_prob','Prospect ID','final_Predicted','Lead_Score']].head()"
   ]
  },
  {
   "cell_type": "code",
   "execution_count": 2824,
   "id": "48d104b8-8572-445e-a030-e5667e45098f",
   "metadata": {},
   "outputs": [
    {
     "data": {
      "text/plain": [
       "0.9263967357187696"
      ]
     },
     "execution_count": 2824,
     "metadata": {},
     "output_type": "execute_result"
    }
   ],
   "source": [
    "# Let's check the overall accuracy.\n",
    "metrics.accuracy_score(y_train_pred_final.Converted, y_train_pred_final.final_Predicted)"
   ]
  },
  {
   "cell_type": "code",
   "execution_count": 2825,
   "id": "d5b28d7b-089b-4342-824e-2af30ce84078",
   "metadata": {},
   "outputs": [
    {
     "data": {
      "text/plain": [
       "array([[3626,  327],\n",
       "       [ 142, 2277]], dtype=int64)"
      ]
     },
     "execution_count": 2825,
     "metadata": {},
     "output_type": "execute_result"
    }
   ],
   "source": [
    "confusion2 = metrics.confusion_matrix(y_train_pred_final.Converted, y_train_pred_final.final_Predicted )\n",
    "confusion2"
   ]
  },
  {
   "cell_type": "code",
   "execution_count": 2826,
   "id": "e96d8dda-3563-4f84-bd73-6e15d67d26a9",
   "metadata": {},
   "outputs": [],
   "source": [
    "TP = confusion2[1,1] # true positive \n",
    "TN = confusion2[0,0] # true negatives\n",
    "FP = confusion2[0,1] # false positives\n",
    "FN = confusion2[1,0] # false negatives"
   ]
  },
  {
   "cell_type": "code",
   "execution_count": 2827,
   "id": "e19e2066-a25d-4202-abbe-358cd39d9967",
   "metadata": {},
   "outputs": [
    {
     "data": {
      "text/plain": [
       "0.9412980570483671"
      ]
     },
     "execution_count": 2827,
     "metadata": {},
     "output_type": "execute_result"
    }
   ],
   "source": [
    "# Let's see the sensitivity of our logistic regression model\n",
    "TP / float(TP+FN)"
   ]
  },
  {
   "cell_type": "code",
   "execution_count": 2828,
   "id": "34805b64-3ce2-45c2-a2a3-94756eba41a1",
   "metadata": {},
   "outputs": [
    {
     "data": {
      "text/plain": [
       "0.9172780166961801"
      ]
     },
     "execution_count": 2828,
     "metadata": {},
     "output_type": "execute_result"
    }
   ],
   "source": [
    "# Let us calculate specificity\n",
    "TN / float(TN+FP)"
   ]
  },
  {
   "cell_type": "markdown",
   "id": "5dfb13ba-9887-4175-9312-ed2e01b80884",
   "metadata": {},
   "source": [
    "### Observation:\r",
    "Tthe model seems to be performing well. The ROC curve has a value of 0.97, which is very good. We have the following values for the Train Data:\r",
    "2.66%"
   ]
  },
  {
   "cell_type": "markdown",
   "id": "a6578faf-5bc1-43ef-8a8a-3002989585a3",
   "metadata": {},
   "source": [
    "Accuracy : 92.63%"
   ]
  },
  {
   "cell_type": "markdown",
   "id": "9082fc39-cebb-43f4-b5ef-0d7bd35c7452",
   "metadata": {},
   "source": [
    "Sensitivity : 94.13%"
   ]
  },
  {
   "cell_type": "markdown",
   "id": "ac98d9d3-93de-497e-a897-ac9ee9e8ba1a",
   "metadata": {},
   "source": [
    "Specificity : 91.73%"
   ]
  },
  {
   "cell_type": "code",
   "execution_count": 2832,
   "id": "969e4537-e2d2-424f-af47-c9ea0e0dc7db",
   "metadata": {},
   "outputs": [
    {
     "name": "stdout",
     "output_type": "stream",
     "text": [
      "0.8744239631336406\n"
     ]
    }
   ],
   "source": [
    "# Positive predictive value \n",
    "print (TP / float(TP+FP))"
   ]
  },
  {
   "cell_type": "code",
   "execution_count": 2833,
   "id": "160f78c1-b6b0-4b32-a378-694188ee7bbb",
   "metadata": {},
   "outputs": [
    {
     "name": "stdout",
     "output_type": "stream",
     "text": [
      "0.08272198330381988\n"
     ]
    }
   ],
   "source": [
    "# Calculate false postive rate \n",
    "print(FP/ float(TN+FP))"
   ]
  },
  {
   "cell_type": "code",
   "execution_count": 2834,
   "id": "ce1fdde2-cde2-4558-9292-bbc44e410a04",
   "metadata": {},
   "outputs": [
    {
     "name": "stdout",
     "output_type": "stream",
     "text": [
      "0.9623142250530785\n"
     ]
    }
   ],
   "source": [
    "# Negative predictive value\n",
    "print (TN / float(TN+ FN))"
   ]
  },
  {
   "cell_type": "code",
   "execution_count": 2835,
   "id": "b8119194-0472-490b-99e4-89b00ecc2cbf",
   "metadata": {},
   "outputs": [
    {
     "data": {
      "text/plain": [
       "0.8744239631336406"
      ]
     },
     "execution_count": 2835,
     "metadata": {},
     "output_type": "execute_result"
    }
   ],
   "source": [
    "##### Precision\n",
    "TP / TP + FP\n",
    "\n",
    "confusion2[1,1]/(confusion2[0,1]+confusion2[1,1])"
   ]
  },
  {
   "cell_type": "code",
   "execution_count": 2836,
   "id": "e868cf5e-eb33-48c0-9cfb-3fb6d8b6d3f5",
   "metadata": {},
   "outputs": [
    {
     "data": {
      "text/plain": [
       "0.9412980570483671"
      ]
     },
     "execution_count": 2836,
     "metadata": {},
     "output_type": "execute_result"
    }
   ],
   "source": [
    "##### Recall\n",
    "TP / TP + FN\n",
    "\n",
    "confusion2[1,1]/(confusion2[1,0]+confusion2[1,1])"
   ]
  },
  {
   "cell_type": "code",
   "execution_count": 2837,
   "id": "25e62ca3-8520-41e2-8419-8b479336ed83",
   "metadata": {},
   "outputs": [],
   "source": [
    "from sklearn.metrics import precision_score, recall_score"
   ]
  },
  {
   "cell_type": "code",
   "execution_count": 2838,
   "id": "a5b2c958-2f96-4526-8dc9-d4df49834c33",
   "metadata": {},
   "outputs": [
    {
     "name": "stdout",
     "output_type": "stream",
     "text": [
      "Precision Score: 0.8744239631336406\n"
     ]
    }
   ],
   "source": [
    "print(\"Precision Score:\",precision_score(y_train_pred_final.Converted , y_train_pred_final.final_Predicted))"
   ]
  },
  {
   "cell_type": "code",
   "execution_count": 2839,
   "id": "0fb779ff-a399-4ab1-8bdd-294f4e8e8fbf",
   "metadata": {},
   "outputs": [
    {
     "name": "stdout",
     "output_type": "stream",
     "text": [
      "Recall Score: 0.9412980570483671\n"
     ]
    }
   ],
   "source": [
    "print(\"Recall Score:\",recall_score(y_train_pred_final.Converted, y_train_pred_final.final_Predicted))"
   ]
  },
  {
   "cell_type": "markdown",
   "id": "790c395b-8f96-4029-8c4a-a039242fb71e",
   "metadata": {},
   "source": [
    "##### Precision Recall Curve"
   ]
  },
  {
   "cell_type": "code",
   "execution_count": 2841,
   "id": "3c258254-5fc0-4263-8567-a7054e30d00d",
   "metadata": {},
   "outputs": [
    {
     "data": {
      "image/png": "[encoded data removed]",
      "text/plain": [
       "<Figure size 640x480 with 1 Axes>"
      ]
     },
     "metadata": {},
     "output_type": "display_data"
    }
   ],
   "source": [
    "from sklearn.metrics import precision_recall_curve\n",
    "y_train_pred_final.Converted, y_train_pred_final.final_Predicted\n",
    "p, r, thresholds = precision_recall_curve(y_train_pred_final.Converted, y_train_pred_final.Converted_prob)\n",
    "plt.plot(thresholds, p[:-1], \"g-\")\n",
    "plt.plot(thresholds, r[:-1], \"r-\")\n",
    "plt.show()"
   ]
  },
  {
   "cell_type": "code",
   "execution_count": 2842,
   "id": "1d5dd3cf-242d-402d-9d2d-c48442b496a7",
   "metadata": {},
   "outputs": [
    {
     "data": {
      "text/html": [
       "<div>\n",
       "<style scoped>\n",
       "    .dataframe tbody tr th:only-of-type {\n",
       "        vertical-align: middle;\n",
       "    }\n",
       "\n",
       "    .dataframe tbody tr th {\n",
       "        vertical-align: top;\n",
       "    }\n",
       "\n",
       "    .dataframe thead th {\n",
       "        text-align: right;\n",
       "    }\n",
       "</style>\n",
       "<table border=\"1\" class=\"dataframe\">\n",
       "  <thead>\n",
       "    <tr style=\"text-align: right;\">\n",
       "      <th></th>\n",
       "      <th>Do Not Email</th>\n",
       "      <th>Do Not Call</th>\n",
       "      <th>TotalVisits</th>\n",
       "      <th>Total Time Spent on Website</th>\n",
       "      <th>Page Views Per Visit</th>\n",
       "      <th>A free copy of Mastering The Interview</th>\n",
       "      <th>Lead Origin_Landing Page Submission</th>\n",
       "      <th>Lead Origin_Lead Add Form</th>\n",
       "      <th>Lead Origin_Lead Import</th>\n",
       "      <th>What is your current occupation_Housewife</th>\n",
       "      <th>...</th>\n",
       "      <th>Last Notable Activity_SMS Sent</th>\n",
       "      <th>Tags_Already a student</th>\n",
       "      <th>Tags_Busy</th>\n",
       "      <th>Tags_Closed by Horizzon</th>\n",
       "      <th>Tags_Interested in other courses</th>\n",
       "      <th>Tags_Lost to EINS</th>\n",
       "      <th>Tags_Other_Tags</th>\n",
       "      <th>Tags_Ringing</th>\n",
       "      <th>Tags_Will revert after reading the email</th>\n",
       "      <th>Tags_switched off</th>\n",
       "    </tr>\n",
       "  </thead>\n",
       "  <tbody>\n",
       "    <tr>\n",
       "      <th>3504</th>\n",
       "      <td>0</td>\n",
       "      <td>0</td>\n",
       "      <td>-0.089406</td>\n",
       "      <td>-0.108519</td>\n",
       "      <td>0.308788</td>\n",
       "      <td>1</td>\n",
       "      <td>1</td>\n",
       "      <td>0</td>\n",
       "      <td>0</td>\n",
       "      <td>0</td>\n",
       "      <td>...</td>\n",
       "      <td>0</td>\n",
       "      <td>0</td>\n",
       "      <td>0</td>\n",
       "      <td>0</td>\n",
       "      <td>0</td>\n",
       "      <td>0</td>\n",
       "      <td>0</td>\n",
       "      <td>1</td>\n",
       "      <td>0</td>\n",
       "      <td>0</td>\n",
       "    </tr>\n",
       "    <tr>\n",
       "      <th>4050</th>\n",
       "      <td>0</td>\n",
       "      <td>0</td>\n",
       "      <td>-0.788357</td>\n",
       "      <td>-0.888077</td>\n",
       "      <td>-1.133359</td>\n",
       "      <td>0</td>\n",
       "      <td>0</td>\n",
       "      <td>1</td>\n",
       "      <td>0</td>\n",
       "      <td>0</td>\n",
       "      <td>...</td>\n",
       "      <td>1</td>\n",
       "      <td>0</td>\n",
       "      <td>0</td>\n",
       "      <td>0</td>\n",
       "      <td>0</td>\n",
       "      <td>0</td>\n",
       "      <td>0</td>\n",
       "      <td>0</td>\n",
       "      <td>1</td>\n",
       "      <td>0</td>\n",
       "    </tr>\n",
       "    <tr>\n",
       "      <th>7201</th>\n",
       "      <td>1</td>\n",
       "      <td>0</td>\n",
       "      <td>-0.322390</td>\n",
       "      <td>0.420993</td>\n",
       "      <td>-0.171928</td>\n",
       "      <td>1</td>\n",
       "      <td>1</td>\n",
       "      <td>0</td>\n",
       "      <td>0</td>\n",
       "      <td>0</td>\n",
       "      <td>...</td>\n",
       "      <td>1</td>\n",
       "      <td>0</td>\n",
       "      <td>0</td>\n",
       "      <td>0</td>\n",
       "      <td>0</td>\n",
       "      <td>0</td>\n",
       "      <td>1</td>\n",
       "      <td>0</td>\n",
       "      <td>0</td>\n",
       "      <td>0</td>\n",
       "    </tr>\n",
       "    <tr>\n",
       "      <th>1196</th>\n",
       "      <td>0</td>\n",
       "      <td>0</td>\n",
       "      <td>0.143578</td>\n",
       "      <td>-0.110357</td>\n",
       "      <td>0.789504</td>\n",
       "      <td>1</td>\n",
       "      <td>1</td>\n",
       "      <td>0</td>\n",
       "      <td>0</td>\n",
       "      <td>0</td>\n",
       "      <td>...</td>\n",
       "      <td>0</td>\n",
       "      <td>0</td>\n",
       "      <td>0</td>\n",
       "      <td>0</td>\n",
       "      <td>0</td>\n",
       "      <td>0</td>\n",
       "      <td>0</td>\n",
       "      <td>1</td>\n",
       "      <td>0</td>\n",
       "      <td>0</td>\n",
       "    </tr>\n",
       "    <tr>\n",
       "      <th>8219</th>\n",
       "      <td>0</td>\n",
       "      <td>0</td>\n",
       "      <td>0.842530</td>\n",
       "      <td>-0.433947</td>\n",
       "      <td>-0.292107</td>\n",
       "      <td>1</td>\n",
       "      <td>1</td>\n",
       "      <td>0</td>\n",
       "      <td>0</td>\n",
       "      <td>0</td>\n",
       "      <td>...</td>\n",
       "      <td>0</td>\n",
       "      <td>0</td>\n",
       "      <td>0</td>\n",
       "      <td>0</td>\n",
       "      <td>0</td>\n",
       "      <td>1</td>\n",
       "      <td>0</td>\n",
       "      <td>0</td>\n",
       "      <td>0</td>\n",
       "      <td>0</td>\n",
       "    </tr>\n",
       "  </tbody>\n",
       "</table>\n",
       "<p>5 rows × 61 columns</p>\n",
       "</div>"
      ],
      "text/plain": [
       "      Do Not Email  Do Not Call  TotalVisits  Total Time Spent on Website  \\\n",
       "3504             0            0    -0.089406                    -0.108519   \n",
       "4050             0            0    -0.788357                    -0.888077   \n",
       "7201             1            0    -0.322390                     0.420993   \n",
       "1196             0            0     0.143578                    -0.110357   \n",
       "8219             0            0     0.842530                    -0.433947   \n",
       "\n",
       "      Page Views Per Visit  A free copy of Mastering The Interview  \\\n",
       "3504              0.308788                                       1   \n",
       "4050             -1.133359                                       0   \n",
       "7201             -0.171928                                       1   \n",
       "1196              0.789504                                       1   \n",
       "8219             -0.292107                                       1   \n",
       "\n",
       "      Lead Origin_Landing Page Submission  Lead Origin_Lead Add Form  \\\n",
       "3504                                    1                          0   \n",
       "4050                                    0                          1   \n",
       "7201                                    1                          0   \n",
       "1196                                    1                          0   \n",
       "8219                                    1                          0   \n",
       "\n",
       "      Lead Origin_Lead Import  What is your current occupation_Housewife  ...  \\\n",
       "3504                        0                                          0  ...   \n",
       "4050                        0                                          0  ...   \n",
       "7201                        0                                          0  ...   \n",
       "1196                        0                                          0  ...   \n",
       "8219                        0                                          0  ...   \n",
       "\n",
       "      Last Notable Activity_SMS Sent  Tags_Already a student  Tags_Busy  \\\n",
       "3504                               0                       0          0   \n",
       "4050                               1                       0          0   \n",
       "7201                               1                       0          0   \n",
       "1196                               0                       0          0   \n",
       "8219                               0                       0          0   \n",
       "\n",
       "      Tags_Closed by Horizzon  Tags_Interested in other courses  \\\n",
       "3504                        0                                 0   \n",
       "4050                        0                                 0   \n",
       "7201                        0                                 0   \n",
       "1196                        0                                 0   \n",
       "8219                        0                                 0   \n",
       "\n",
       "      Tags_Lost to EINS  Tags_Other_Tags  Tags_Ringing  \\\n",
       "3504                  0                0             1   \n",
       "4050                  0                0             0   \n",
       "7201                  0                1             0   \n",
       "1196                  0                0             1   \n",
       "8219                  1                0             0   \n",
       "\n",
       "      Tags_Will revert after reading the email  Tags_switched off  \n",
       "3504                                         0                  0  \n",
       "4050                                         1                  0  \n",
       "7201                                         0                  0  \n",
       "1196                                         0                  0  \n",
       "8219                                         0                  0  \n",
       "\n",
       "[5 rows x 61 columns]"
      ]
     },
     "execution_count": 2842,
     "metadata": {},
     "output_type": "execute_result"
    }
   ],
   "source": [
    "#scaling test set\n",
    "from sklearn.preprocessing import StandardScaler\n",
    "\n",
    "scaler = StandardScaler()\n",
    "\n",
    "num_cols= ['TotalVisits','Total Time Spent on Website','Page Views Per Visit']\n",
    "X_test[num_cols] = scaler.fit_transform(X_test[num_cols])\n",
    "\n",
    "X_test.head()"
   ]
  },
  {
   "cell_type": "code",
   "execution_count": 2843,
   "id": "83e6dd64-077a-4e70-879e-947f93c12092",
   "metadata": {},
   "outputs": [
    {
     "data": {
      "text/html": [
       "<div>\n",
       "<style scoped>\n",
       "    .dataframe tbody tr th:only-of-type {\n",
       "        vertical-align: middle;\n",
       "    }\n",
       "\n",
       "    .dataframe tbody tr th {\n",
       "        vertical-align: top;\n",
       "    }\n",
       "\n",
       "    .dataframe thead th {\n",
       "        text-align: right;\n",
       "    }\n",
       "</style>\n",
       "<table border=\"1\" class=\"dataframe\">\n",
       "  <thead>\n",
       "    <tr style=\"text-align: right;\">\n",
       "      <th></th>\n",
       "      <th>Total Time Spent on Website</th>\n",
       "      <th>Lead Origin_Lead Add Form</th>\n",
       "      <th>Specialization_Available</th>\n",
       "      <th>Lead Source_Welingak Website</th>\n",
       "      <th>Last Activity_SMS Sent</th>\n",
       "      <th>Last Notable Activity_Modified</th>\n",
       "      <th>Last Notable Activity_Olark Chat Conversation</th>\n",
       "      <th>Tags_Already a student</th>\n",
       "      <th>Tags_Closed by Horizzon</th>\n",
       "      <th>Tags_Interested in other courses</th>\n",
       "      <th>Tags_Lost to EINS</th>\n",
       "      <th>Tags_Other_Tags</th>\n",
       "      <th>Tags_Ringing</th>\n",
       "      <th>Tags_Will revert after reading the email</th>\n",
       "      <th>Tags_switched off</th>\n",
       "    </tr>\n",
       "  </thead>\n",
       "  <tbody>\n",
       "    <tr>\n",
       "      <th>3504</th>\n",
       "      <td>-0.108519</td>\n",
       "      <td>0</td>\n",
       "      <td>0</td>\n",
       "      <td>0</td>\n",
       "      <td>0</td>\n",
       "      <td>0</td>\n",
       "      <td>0</td>\n",
       "      <td>0</td>\n",
       "      <td>0</td>\n",
       "      <td>0</td>\n",
       "      <td>0</td>\n",
       "      <td>0</td>\n",
       "      <td>1</td>\n",
       "      <td>0</td>\n",
       "      <td>0</td>\n",
       "    </tr>\n",
       "    <tr>\n",
       "      <th>4050</th>\n",
       "      <td>-0.888077</td>\n",
       "      <td>1</td>\n",
       "      <td>0</td>\n",
       "      <td>0</td>\n",
       "      <td>1</td>\n",
       "      <td>0</td>\n",
       "      <td>0</td>\n",
       "      <td>0</td>\n",
       "      <td>0</td>\n",
       "      <td>0</td>\n",
       "      <td>0</td>\n",
       "      <td>0</td>\n",
       "      <td>0</td>\n",
       "      <td>1</td>\n",
       "      <td>0</td>\n",
       "    </tr>\n",
       "    <tr>\n",
       "      <th>7201</th>\n",
       "      <td>0.420993</td>\n",
       "      <td>0</td>\n",
       "      <td>0</td>\n",
       "      <td>0</td>\n",
       "      <td>1</td>\n",
       "      <td>0</td>\n",
       "      <td>0</td>\n",
       "      <td>0</td>\n",
       "      <td>0</td>\n",
       "      <td>0</td>\n",
       "      <td>0</td>\n",
       "      <td>1</td>\n",
       "      <td>0</td>\n",
       "      <td>0</td>\n",
       "      <td>0</td>\n",
       "    </tr>\n",
       "    <tr>\n",
       "      <th>1196</th>\n",
       "      <td>-0.110357</td>\n",
       "      <td>0</td>\n",
       "      <td>0</td>\n",
       "      <td>0</td>\n",
       "      <td>0</td>\n",
       "      <td>0</td>\n",
       "      <td>0</td>\n",
       "      <td>0</td>\n",
       "      <td>0</td>\n",
       "      <td>0</td>\n",
       "      <td>0</td>\n",
       "      <td>0</td>\n",
       "      <td>1</td>\n",
       "      <td>0</td>\n",
       "      <td>0</td>\n",
       "    </tr>\n",
       "    <tr>\n",
       "      <th>8219</th>\n",
       "      <td>-0.433947</td>\n",
       "      <td>0</td>\n",
       "      <td>0</td>\n",
       "      <td>0</td>\n",
       "      <td>0</td>\n",
       "      <td>0</td>\n",
       "      <td>0</td>\n",
       "      <td>0</td>\n",
       "      <td>0</td>\n",
       "      <td>0</td>\n",
       "      <td>1</td>\n",
       "      <td>0</td>\n",
       "      <td>0</td>\n",
       "      <td>0</td>\n",
       "      <td>0</td>\n",
       "    </tr>\n",
       "  </tbody>\n",
       "</table>\n",
       "</div>"
      ],
      "text/plain": [
       "      Total Time Spent on Website  Lead Origin_Lead Add Form  \\\n",
       "3504                    -0.108519                          0   \n",
       "4050                    -0.888077                          1   \n",
       "7201                     0.420993                          0   \n",
       "1196                    -0.110357                          0   \n",
       "8219                    -0.433947                          0   \n",
       "\n",
       "      Specialization_Available  Lead Source_Welingak Website  \\\n",
       "3504                         0                             0   \n",
       "4050                         0                             0   \n",
       "7201                         0                             0   \n",
       "1196                         0                             0   \n",
       "8219                         0                             0   \n",
       "\n",
       "      Last Activity_SMS Sent  Last Notable Activity_Modified  \\\n",
       "3504                       0                               0   \n",
       "4050                       1                               0   \n",
       "7201                       1                               0   \n",
       "1196                       0                               0   \n",
       "8219                       0                               0   \n",
       "\n",
       "      Last Notable Activity_Olark Chat Conversation  Tags_Already a student  \\\n",
       "3504                                              0                       0   \n",
       "4050                                              0                       0   \n",
       "7201                                              0                       0   \n",
       "1196                                              0                       0   \n",
       "8219                                              0                       0   \n",
       "\n",
       "      Tags_Closed by Horizzon  Tags_Interested in other courses  \\\n",
       "3504                        0                                 0   \n",
       "4050                        0                                 0   \n",
       "7201                        0                                 0   \n",
       "1196                        0                                 0   \n",
       "8219                        0                                 0   \n",
       "\n",
       "      Tags_Lost to EINS  Tags_Other_Tags  Tags_Ringing  \\\n",
       "3504                  0                0             1   \n",
       "4050                  0                0             0   \n",
       "7201                  0                1             0   \n",
       "1196                  0                0             1   \n",
       "8219                  1                0             0   \n",
       "\n",
       "      Tags_Will revert after reading the email  Tags_switched off  \n",
       "3504                                         0                  0  \n",
       "4050                                         1                  0  \n",
       "7201                                         0                  0  \n",
       "1196                                         0                  0  \n",
       "8219                                         0                  0  "
      ]
     },
     "execution_count": 2843,
     "metadata": {},
     "output_type": "execute_result"
    }
   ],
   "source": [
    "X_test = X_test[col] # Col has final feature columns selected by model prediction\n",
    "X_test.head()"
   ]
  },
  {
   "cell_type": "code",
   "execution_count": 2980,
   "id": "fa97992a-379e-405b-b7cf-a2191b9559c8",
   "metadata": {},
   "outputs": [],
   "source": [
    "X_test_sm = sm.add_constant(X_test)"
   ]
  },
  {
   "cell_type": "markdown",
   "id": "a27f90a9-99f1-489b-afef-666863609931",
   "metadata": {},
   "source": [
    "### Prediction on Test data set"
   ]
  },
  {
   "cell_type": "code",
   "execution_count": 2983,
   "id": "df26a082-be4f-46b4-aeff-e01a06909659",
   "metadata": {},
   "outputs": [],
   "source": [
    "y_test_pred = res.predict(X_test_sm)"
   ]
  },
  {
   "cell_type": "code",
   "execution_count": 2985,
   "id": "23857c83-5482-416d-bf53-4043f47f00c0",
   "metadata": {},
   "outputs": [
    {
     "data": {
      "text/plain": [
       "3504    0.003594\n",
       "4050    0.994858\n",
       "7201    0.165493\n",
       "1196    0.003587\n",
       "8219    0.986369\n",
       "8747    0.076785\n",
       "9048    0.642879\n",
       "6524    0.002313\n",
       "7693    0.067877\n",
       "8187    0.206394\n",
       "dtype: float64"
      ]
     },
     "execution_count": 2985,
     "metadata": {},
     "output_type": "execute_result"
    }
   ],
   "source": [
    "y_test_pred[:10]"
   ]
  },
  {
   "cell_type": "code",
   "execution_count": 2987,
   "id": "b6ed08a5-e678-456a-b7b9-0a5ef685c306",
   "metadata": {},
   "outputs": [],
   "source": [
    "y_pred_1 = pd.DataFrame(y_test_pred)"
   ]
  },
  {
   "cell_type": "code",
   "execution_count": 2989,
   "id": "0ea30f95-de83-49f4-b084-06df38df0763",
   "metadata": {},
   "outputs": [
    {
     "data": {
      "text/html": [
       "<div>\n",
       "<style scoped>\n",
       "    .dataframe tbody tr th:only-of-type {\n",
       "        vertical-align: middle;\n",
       "    }\n",
       "\n",
       "    .dataframe tbody tr th {\n",
       "        vertical-align: top;\n",
       "    }\n",
       "\n",
       "    .dataframe thead th {\n",
       "        text-align: right;\n",
       "    }\n",
       "</style>\n",
       "<table border=\"1\" class=\"dataframe\">\n",
       "  <thead>\n",
       "    <tr style=\"text-align: right;\">\n",
       "      <th></th>\n",
       "      <th>0</th>\n",
       "    </tr>\n",
       "  </thead>\n",
       "  <tbody>\n",
       "    <tr>\n",
       "      <th>3504</th>\n",
       "      <td>0.003594</td>\n",
       "    </tr>\n",
       "    <tr>\n",
       "      <th>4050</th>\n",
       "      <td>0.994858</td>\n",
       "    </tr>\n",
       "    <tr>\n",
       "      <th>7201</th>\n",
       "      <td>0.165493</td>\n",
       "    </tr>\n",
       "    <tr>\n",
       "      <th>1196</th>\n",
       "      <td>0.003587</td>\n",
       "    </tr>\n",
       "    <tr>\n",
       "      <th>8219</th>\n",
       "      <td>0.986369</td>\n",
       "    </tr>\n",
       "  </tbody>\n",
       "</table>\n",
       "</div>"
      ],
      "text/plain": [
       "             0\n",
       "3504  0.003594\n",
       "4050  0.994858\n",
       "7201  0.165493\n",
       "1196  0.003587\n",
       "8219  0.986369"
      ]
     },
     "execution_count": 2989,
     "metadata": {},
     "output_type": "execute_result"
    }
   ],
   "source": [
    "y_pred_1.head()"
   ]
  },
  {
   "cell_type": "code",
   "execution_count": 2991,
   "id": "76d15680-781f-4364-9dab-2c55cc0eee00",
   "metadata": {},
   "outputs": [],
   "source": [
    "# Converting y_test to dataframe\n",
    "y_test_df = pd.DataFrame(y_test)"
   ]
  },
  {
   "cell_type": "code",
   "execution_count": 2993,
   "id": "ea4f74a2-d638-4e27-ad50-f4c8f2b7c884",
   "metadata": {},
   "outputs": [],
   "source": [
    "# Putting CustID to index\n",
    "y_test_df['Prospect ID'] = y_test_df.index"
   ]
  },
  {
   "cell_type": "code",
   "execution_count": 2995,
   "id": "b0c1b2ab-d219-409d-ad80-8be1618b451a",
   "metadata": {},
   "outputs": [],
   "source": [
    "# Removing index for both dataframes to append them side by side\n",
    "y_pred_1.reset_index(drop=True, inplace=True)\n",
    "y_test_df.reset_index(drop=True, inplace=True)"
   ]
  },
  {
   "cell_type": "code",
   "execution_count": 2997,
   "id": "0fd14c43-14e1-4733-9ffb-df97cd1f9746",
   "metadata": {},
   "outputs": [],
   "source": [
    "# Appending y_test_df and y_pred_1\n",
    "y_pred_final = pd.concat([y_test_df, y_pred_1],axis=1)"
   ]
  },
  {
   "cell_type": "code",
   "execution_count": 2999,
   "id": "71bb9685-4118-4e93-ac8d-e2c61ffa3e91",
   "metadata": {},
   "outputs": [
    {
     "data": {
      "text/html": [
       "<div>\n",
       "<style scoped>\n",
       "    .dataframe tbody tr th:only-of-type {\n",
       "        vertical-align: middle;\n",
       "    }\n",
       "\n",
       "    .dataframe tbody tr th {\n",
       "        vertical-align: top;\n",
       "    }\n",
       "\n",
       "    .dataframe thead th {\n",
       "        text-align: right;\n",
       "    }\n",
       "</style>\n",
       "<table border=\"1\" class=\"dataframe\">\n",
       "  <thead>\n",
       "    <tr style=\"text-align: right;\">\n",
       "      <th></th>\n",
       "      <th>Converted</th>\n",
       "      <th>Prospect ID</th>\n",
       "      <th>0</th>\n",
       "    </tr>\n",
       "  </thead>\n",
       "  <tbody>\n",
       "    <tr>\n",
       "      <th>0</th>\n",
       "      <td>0</td>\n",
       "      <td>3504</td>\n",
       "      <td>0.003594</td>\n",
       "    </tr>\n",
       "    <tr>\n",
       "      <th>1</th>\n",
       "      <td>1</td>\n",
       "      <td>4050</td>\n",
       "      <td>0.994858</td>\n",
       "    </tr>\n",
       "    <tr>\n",
       "      <th>2</th>\n",
       "      <td>0</td>\n",
       "      <td>7201</td>\n",
       "      <td>0.165493</td>\n",
       "    </tr>\n",
       "    <tr>\n",
       "      <th>3</th>\n",
       "      <td>0</td>\n",
       "      <td>1196</td>\n",
       "      <td>0.003587</td>\n",
       "    </tr>\n",
       "    <tr>\n",
       "      <th>4</th>\n",
       "      <td>1</td>\n",
       "      <td>8219</td>\n",
       "      <td>0.986369</td>\n",
       "    </tr>\n",
       "  </tbody>\n",
       "</table>\n",
       "</div>"
      ],
      "text/plain": [
       "   Converted  Prospect ID         0\n",
       "0          0         3504  0.003594\n",
       "1          1         4050  0.994858\n",
       "2          0         7201  0.165493\n",
       "3          0         1196  0.003587\n",
       "4          1         8219  0.986369"
      ]
     },
     "execution_count": 2999,
     "metadata": {},
     "output_type": "execute_result"
    }
   ],
   "source": [
    "y_pred_final.head()"
   ]
  },
  {
   "cell_type": "code",
   "execution_count": 3001,
   "id": "1ce50dd4-afa4-4bd8-a7f3-b01460502850",
   "metadata": {},
   "outputs": [],
   "source": [
    "# Renaming the column\n",
    "y_pred_final= y_pred_final.rename(columns={ 0 : 'Converted_prob'})"
   ]
  },
  {
   "cell_type": "code",
   "execution_count": 3007,
   "id": "769028c3-b253-4044-a82e-3aecf8c319fa",
   "metadata": {},
   "outputs": [],
   "source": [
    "# Rearranging the columns\n",
    "y_pred_final = y_pred_final[['Prospect ID','Converted','Converted_prob']]"
   ]
  },
  {
   "cell_type": "code",
   "execution_count": 3009,
   "id": "c76b1c1d-053e-4df0-8977-0f7e50288ed2",
   "metadata": {},
   "outputs": [],
   "source": [
    "y_pred_final['Lead_Score'] = y_pred_final.Converted_prob.map( lambda x: round(x*100))"
   ]
  },
  {
   "cell_type": "code",
   "execution_count": 3011,
   "id": "cea380b5-5024-4d9f-ab1d-6297661a1caa",
   "metadata": {},
   "outputs": [
    {
     "data": {
      "text/html": [
       "<div>\n",
       "<style scoped>\n",
       "    .dataframe tbody tr th:only-of-type {\n",
       "        vertical-align: middle;\n",
       "    }\n",
       "\n",
       "    .dataframe tbody tr th {\n",
       "        vertical-align: top;\n",
       "    }\n",
       "\n",
       "    .dataframe thead th {\n",
       "        text-align: right;\n",
       "    }\n",
       "</style>\n",
       "<table border=\"1\" class=\"dataframe\">\n",
       "  <thead>\n",
       "    <tr style=\"text-align: right;\">\n",
       "      <th></th>\n",
       "      <th>Prospect ID</th>\n",
       "      <th>Converted</th>\n",
       "      <th>Converted_prob</th>\n",
       "      <th>Lead_Score</th>\n",
       "    </tr>\n",
       "  </thead>\n",
       "  <tbody>\n",
       "    <tr>\n",
       "      <th>0</th>\n",
       "      <td>3504</td>\n",
       "      <td>0</td>\n",
       "      <td>0.003594</td>\n",
       "      <td>0</td>\n",
       "    </tr>\n",
       "    <tr>\n",
       "      <th>1</th>\n",
       "      <td>4050</td>\n",
       "      <td>1</td>\n",
       "      <td>0.994858</td>\n",
       "      <td>99</td>\n",
       "    </tr>\n",
       "    <tr>\n",
       "      <th>2</th>\n",
       "      <td>7201</td>\n",
       "      <td>0</td>\n",
       "      <td>0.165493</td>\n",
       "      <td>17</td>\n",
       "    </tr>\n",
       "    <tr>\n",
       "      <th>3</th>\n",
       "      <td>1196</td>\n",
       "      <td>0</td>\n",
       "      <td>0.003587</td>\n",
       "      <td>0</td>\n",
       "    </tr>\n",
       "    <tr>\n",
       "      <th>4</th>\n",
       "      <td>8219</td>\n",
       "      <td>1</td>\n",
       "      <td>0.986369</td>\n",
       "      <td>99</td>\n",
       "    </tr>\n",
       "  </tbody>\n",
       "</table>\n",
       "</div>"
      ],
      "text/plain": [
       "   Prospect ID  Converted  Converted_prob  Lead_Score\n",
       "0         3504          0        0.003594           0\n",
       "1         4050          1        0.994858          99\n",
       "2         7201          0        0.165493          17\n",
       "3         1196          0        0.003587           0\n",
       "4         8219          1        0.986369          99"
      ]
     },
     "execution_count": 3011,
     "metadata": {},
     "output_type": "execute_result"
    }
   ],
   "source": [
    "# Let's see the head of y_pred_final\n",
    "y_pred_final.head()"
   ]
  },
  {
   "cell_type": "code",
   "execution_count": 3013,
   "id": "8a2bb9a9-68e4-485f-b3e8-cc139102f823",
   "metadata": {},
   "outputs": [],
   "source": [
    "y_pred_final['final_Predicted'] = y_pred_final.Converted_prob.map(lambda x: 1 if x > 0.3 else 0)"
   ]
  },
  {
   "cell_type": "code",
   "execution_count": 3015,
   "id": "b678ef4a-d0c8-4352-b1ab-f60247373bae",
   "metadata": {},
   "outputs": [
    {
     "data": {
      "text/html": [
       "<div>\n",
       "<style scoped>\n",
       "    .dataframe tbody tr th:only-of-type {\n",
       "        vertical-align: middle;\n",
       "    }\n",
       "\n",
       "    .dataframe tbody tr th {\n",
       "        vertical-align: top;\n",
       "    }\n",
       "\n",
       "    .dataframe thead th {\n",
       "        text-align: right;\n",
       "    }\n",
       "</style>\n",
       "<table border=\"1\" class=\"dataframe\">\n",
       "  <thead>\n",
       "    <tr style=\"text-align: right;\">\n",
       "      <th></th>\n",
       "      <th>Prospect ID</th>\n",
       "      <th>Converted</th>\n",
       "      <th>Converted_prob</th>\n",
       "      <th>Lead_Score</th>\n",
       "      <th>final_Predicted</th>\n",
       "    </tr>\n",
       "  </thead>\n",
       "  <tbody>\n",
       "    <tr>\n",
       "      <th>0</th>\n",
       "      <td>3504</td>\n",
       "      <td>0</td>\n",
       "      <td>0.003594</td>\n",
       "      <td>0</td>\n",
       "      <td>0</td>\n",
       "    </tr>\n",
       "    <tr>\n",
       "      <th>1</th>\n",
       "      <td>4050</td>\n",
       "      <td>1</td>\n",
       "      <td>0.994858</td>\n",
       "      <td>99</td>\n",
       "      <td>1</td>\n",
       "    </tr>\n",
       "    <tr>\n",
       "      <th>2</th>\n",
       "      <td>7201</td>\n",
       "      <td>0</td>\n",
       "      <td>0.165493</td>\n",
       "      <td>17</td>\n",
       "      <td>0</td>\n",
       "    </tr>\n",
       "    <tr>\n",
       "      <th>3</th>\n",
       "      <td>1196</td>\n",
       "      <td>0</td>\n",
       "      <td>0.003587</td>\n",
       "      <td>0</td>\n",
       "      <td>0</td>\n",
       "    </tr>\n",
       "    <tr>\n",
       "      <th>4</th>\n",
       "      <td>8219</td>\n",
       "      <td>1</td>\n",
       "      <td>0.986369</td>\n",
       "      <td>99</td>\n",
       "      <td>1</td>\n",
       "    </tr>\n",
       "  </tbody>\n",
       "</table>\n",
       "</div>"
      ],
      "text/plain": [
       "   Prospect ID  Converted  Converted_prob  Lead_Score  final_Predicted\n",
       "0         3504          0        0.003594           0                0\n",
       "1         4050          1        0.994858          99                1\n",
       "2         7201          0        0.165493          17                0\n",
       "3         1196          0        0.003587           0                0\n",
       "4         8219          1        0.986369          99                1"
      ]
     },
     "execution_count": 3015,
     "metadata": {},
     "output_type": "execute_result"
    }
   ],
   "source": [
    "y_pred_final.head()"
   ]
  },
  {
   "cell_type": "code",
   "execution_count": 3017,
   "id": "2f2ce0a4-5502-4f5c-bbed-b2c1149009c7",
   "metadata": {},
   "outputs": [
    {
     "data": {
      "text/plain": [
       "0.9264005858659832"
      ]
     },
     "execution_count": 3017,
     "metadata": {},
     "output_type": "execute_result"
    }
   ],
   "source": [
    "# Let's check the overall accuracy.\n",
    "metrics.accuracy_score(y_pred_final.Converted, y_pred_final.final_Predicted)"
   ]
  },
  {
   "cell_type": "code",
   "execution_count": 3019,
   "id": "b87a3c70-86e2-4f21-bc55-16e2dc75f620",
   "metadata": {},
   "outputs": [
    {
     "data": {
      "text/plain": [
       "array([[1558,  131],\n",
       "       [  70,  972]], dtype=int64)"
      ]
     },
     "execution_count": 3019,
     "metadata": {},
     "output_type": "execute_result"
    }
   ],
   "source": [
    "confusion2 = metrics.confusion_matrix(y_pred_final.Converted, y_pred_final.final_Predicted )\n",
    "confusion2"
   ]
  },
  {
   "cell_type": "code",
   "execution_count": 3021,
   "id": "cf839fa7-69f9-42d3-b36f-321f4d89c0d9",
   "metadata": {},
   "outputs": [],
   "source": [
    "TP = confusion2[1,1] # true positive\n",
    "TN = confusion2[0,0] # true negatives\n",
    "FP = confusion2[0,1] # false positives\n",
    "FN = confusion2[1,0] # false negatives"
   ]
  },
  {
   "cell_type": "code",
   "execution_count": 3023,
   "id": "46c41629-9da4-4f84-affe-69541d429595",
   "metadata": {},
   "outputs": [
    {
     "data": {
      "text/plain": [
       "0.9328214971209213"
      ]
     },
     "execution_count": 3023,
     "metadata": {},
     "output_type": "execute_result"
    }
   ],
   "source": [
    "# Let's see the sensitivity of our logistic regression model\n",
    "TP / float(TP+FN)"
   ]
  },
  {
   "cell_type": "code",
   "execution_count": 3025,
   "id": "52c21feb-e681-413d-8881-87ba09986a5b",
   "metadata": {},
   "outputs": [
    {
     "data": {
      "text/plain": [
       "0.9224393132030787"
      ]
     },
     "execution_count": 3025,
     "metadata": {},
     "output_type": "execute_result"
    }
   ],
   "source": [
    "# Let us calculate specificity\n",
    "TN / float(TN+FP)"
   ]
  },
  {
   "cell_type": "code",
   "execution_count": 3027,
   "id": "b5bb70a9-1aa7-4f74-bf7f-df809218942e",
   "metadata": {},
   "outputs": [
    {
     "data": {
      "text/plain": [
       "0.8812330009066183"
      ]
     },
     "execution_count": 3027,
     "metadata": {},
     "output_type": "execute_result"
    }
   ],
   "source": [
    "precision_score(y_pred_final.Converted , y_pred_final.final_Predicted)"
   ]
  },
  {
   "cell_type": "code",
   "execution_count": 3029,
   "id": "1364d1ac-33a2-4aba-a846-bb2e1b21e4de",
   "metadata": {},
   "outputs": [
    {
     "data": {
      "text/plain": [
       "0.9328214971209213"
      ]
     },
     "execution_count": 3029,
     "metadata": {},
     "output_type": "execute_result"
    }
   ],
   "source": [
    "recall_score(y_pred_final.Converted, y_pred_final.final_Predicted)"
   ]
  },
  {
   "cell_type": "markdown",
   "id": "65bf64b8-4ef8-4f11-a4fa-925f9153c97e",
   "metadata": {},
   "source": [
    "### Observation on Test Data set"
   ]
  },
  {
   "cell_type": "markdown",
   "id": "a50ab462-6fbb-4b22-82f3-434843cffc2c",
   "metadata": {},
   "source": [
    "Accuracy: 92.64%"
   ]
  },
  {
   "cell_type": "markdown",
   "id": "36b19f4c-01ea-4225-9e9c-a3b3ad9bfd42",
   "metadata": {},
   "source": [
    "Sensitivity: 93.28%"
   ]
  },
  {
   "cell_type": "markdown",
   "id": "679620a6-d0a7-4c95-abfb-00bf413d4be1",
   "metadata": {},
   "source": [
    "Specificity: 92.24%"
   ]
  },
  {
   "cell_type": "markdown",
   "id": "f47fb78b-ece0-4b0b-806a-7935a5e01c64",
   "metadata": {},
   "source": [
    "### Evaluation Result Comparison"
   ]
  },
  {
   "cell_type": "markdown",
   "id": "b6ca9adc-164a-4524-882a-4238fab25f5f",
   "metadata": {},
   "source": [
    "#### Train Data Set"
   ]
  },
  {
   "cell_type": "markdown",
   "id": "0d880a46-36e9-4273-a6a2-2c011b87d101",
   "metadata": {},
   "source": [
    "Accuracy : 92.63%\n",
    "Sensitivity : 94.13%\n",
    "Specificity : 91.73%\n"
   ]
  },
  {
   "cell_type": "markdown",
   "id": "8f1b4813-60af-4b58-9277-24742fbc5e1f",
   "metadata": {},
   "source": [
    "#### Test Data Set"
   ]
  },
  {
   "cell_type": "markdown",
   "id": "b9535fd7-d299-4592-aeb0-4e8e50134551",
   "metadata": {},
   "source": [
    "Accuracy: 92.64%\n",
    "Sensitivity: 93.28%\n",
    "Specificity: 92.24%"
   ]
  }
 ],
 "metadata": {
  "kernelspec": {
   "display_name": "Python 3 (ipykernel)",
   "language": "python",
   "name": "python3"
  },
  "language_info": {
   "codemirror_mode": {
    "name": "ipython",
    "version": 3
   },
   "file_extension": ".py",
   "mimetype": "text/x-python",
   "name": "python",
   "nbconvert_exporter": "python",
   "pygments_lexer": "ipython3",
   "version": "3.12.4"
  }
 },
 "nbformat": 4,
 "nbformat_minor": 5
}
